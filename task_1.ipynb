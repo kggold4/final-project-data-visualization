{
 "cells": [
  {
   "cell_type": "markdown",
   "id": "72291a4e",
   "metadata": {},
   "source": [
    "# Data Visualiztion Course Final Projet\n",
    "> by Kfir Goldfarb\n",
    "\n",
    "<a href=\"https://github.com/kggold4\"><img src=\"images/github.png\" width=\"25px\" height=\"25px\" align=\"left\"></a>\n",
    "<a href=\"https://www.linkedin.com/in/kfir-goldfarb/\"><img src=\"images/in.png\"  width=\"25px\" height=\"25px\" align=\"left\"></a>\n",
    "<a href=\"mailto:kfir.goldfarb@msmail.ariel.ac.il\"><img src=\"images/email.png\" width=\"25px\" height=\"25px\" align=\"left\"></a>\n",
    "<a href=\"https://www.youtube.com/channel/UCypEWlruyG_I5A48GqB5c6g\"><img src=\"images/youtube.png\" width=\"25px\" height=\"25px\" align=\"left\"></a>\n",
    "<a href=\"https://www.hackerrank.com/kggold4?hr_r=1\"><img src=\"images/hackerrank.png\" width=\"25px\" height=\"25px\" align=\"left\"></a>\n",
    "<a href=\"https://stackoverflow.com/users/14749277/kfir-goldfarb\"><img src=\"images/stackoverflow.png\" width=\"25px\" height=\"25px\" align=\"left\"></a>\n",
    "\n",
    "<br>\n",
    "\n",
    "# Jupyter Notebook Number 1\n",
    "<i>Improving My <a href=\"https://github.com/kggold4/final-project-intro-data-science/blob/main/notebook3.ipynb\">Introduction to Data Science Course Final Project Classification Problem</a> using ensemble and usupervised learning</i>"
   ]
  },
  {
   "cell_type": "markdown",
   "id": "d2d05c3a",
   "metadata": {},
   "source": [
    "# First let's start this task like the original task"
   ]
  },
  {
   "cell_type": "code",
   "execution_count": 1,
   "id": "97b3b6bd",
   "metadata": {},
   "outputs": [],
   "source": [
    "# libraries\n",
    "import pandas as pd\n",
    "import numpy as np\n",
    "import matplotlib.pyplot as plt\n",
    "%matplotlib inline\n",
    "import seaborn as sns\n",
    "import warnings\n",
    "warnings.filterwarnings('ignore')\n",
    "warnings.simplefilter('ignore')\n",
    "\n",
    "# sklearn tools\n",
    "from sklearn.model_selection import train_test_split\n",
    "from sklearn.preprocessing import LabelEncoder\n",
    "from sklearn.metrics import accuracy_score\n",
    "from sklearn.metrics import classification_report\n",
    "from sklearn.metrics import confusion_matrix\n",
    "from sklearn.metrics import plot_confusion_matrix\n",
    "from sklearn.metrics import roc_curve\n",
    "from sklearn.metrics import roc_auc_score\n",
    "\n",
    "# basic models\n",
    "from sklearn.neighbors import KNeighborsClassifier\n",
    "from sklearn.tree import DecisionTreeClassifier\n",
    "from sklearn.linear_model import LogisticRegression\n",
    "\n",
    "# ensemble learning models\n",
    "from sklearn.ensemble import VotingClassifier\n",
    "from sklearn.ensemble import BaggingClassifier\n",
    "from sklearn.ensemble import RandomForestClassifier\n",
    "from sklearn.ensemble import AdaBoostClassifier\n",
    "from sklearn.ensemble import GradientBoostingClassifier\n",
    "import xgboost as xgb\n",
    "\n",
    "# \n",
    "from sklearn.cluster import KMeans\n",
    "from sklearn.pipeline import Pipeline\n",
    "from sklearn.decomposition import PCA"
   ]
  },
  {
   "cell_type": "markdown",
   "id": "274618bf",
   "metadata": {},
   "source": [
    "the dataset I'm using for the classification problem is from:\n",
    "https://www.kaggle.com/spscientist/students-performance-in-exams\n",
    "\n",
    "### this dataset deals with different grades of students according to 3 topics:\n",
    "\n",
    "1. math score\n",
    "2. reading score\n",
    "3. writing score\n",
    "\n",
    "### this information we have about a student is:\n",
    "\n",
    "1. gender\n",
    "2. race/ethnicity\n",
    "3. parental level of education\n",
    "4. lunch\n",
    "5. test preparation course\n",
    "\n",
    "# The goal of my machine learning model:\n",
    "\n",
    "After the data preparation, I want to take for each student the three scores: math score, reading score and writing score and merge them to one feature by the mean of the three, this feature will called average.\n",
    "After that process we have one feature called average and have a number value between 0 and 100, i want to classified the scores to two main classes:\n",
    "\n",
    "1. 1, if x >= 60 ('pass')\n",
    "2. 0, else ('fail')\n",
    "\n",
    "Now, the goal of the model by a given a data of a student is to predict what is the status of the student, if the studet is fail ('0') or pass ('1') in the tests score."
   ]
  },
  {
   "cell_type": "code",
   "execution_count": 2,
   "id": "95c01b89",
   "metadata": {},
   "outputs": [],
   "source": [
    "# import data:\n",
    "students = pd.read_csv('data/task_1/students.csv')"
   ]
  },
  {
   "cell_type": "code",
   "execution_count": 3,
   "id": "d24af74c",
   "metadata": {},
   "outputs": [
    {
     "data": {
      "text/html": [
       "<div>\n",
       "<style scoped>\n",
       "    .dataframe tbody tr th:only-of-type {\n",
       "        vertical-align: middle;\n",
       "    }\n",
       "\n",
       "    .dataframe tbody tr th {\n",
       "        vertical-align: top;\n",
       "    }\n",
       "\n",
       "    .dataframe thead th {\n",
       "        text-align: right;\n",
       "    }\n",
       "</style>\n",
       "<table border=\"1\" class=\"dataframe\">\n",
       "  <thead>\n",
       "    <tr style=\"text-align: right;\">\n",
       "      <th></th>\n",
       "      <th>gender</th>\n",
       "      <th>race/ethnicity</th>\n",
       "      <th>parental level of education</th>\n",
       "      <th>lunch</th>\n",
       "      <th>test preparation course</th>\n",
       "      <th>math score</th>\n",
       "      <th>reading score</th>\n",
       "      <th>writing score</th>\n",
       "    </tr>\n",
       "  </thead>\n",
       "  <tbody>\n",
       "    <tr>\n",
       "      <th>0</th>\n",
       "      <td>female</td>\n",
       "      <td>group B</td>\n",
       "      <td>bachelor's degree</td>\n",
       "      <td>standard</td>\n",
       "      <td>none</td>\n",
       "      <td>72</td>\n",
       "      <td>72</td>\n",
       "      <td>74</td>\n",
       "    </tr>\n",
       "    <tr>\n",
       "      <th>1</th>\n",
       "      <td>female</td>\n",
       "      <td>group C</td>\n",
       "      <td>some college</td>\n",
       "      <td>standard</td>\n",
       "      <td>completed</td>\n",
       "      <td>69</td>\n",
       "      <td>90</td>\n",
       "      <td>88</td>\n",
       "    </tr>\n",
       "    <tr>\n",
       "      <th>2</th>\n",
       "      <td>female</td>\n",
       "      <td>group B</td>\n",
       "      <td>master's degree</td>\n",
       "      <td>standard</td>\n",
       "      <td>none</td>\n",
       "      <td>90</td>\n",
       "      <td>95</td>\n",
       "      <td>93</td>\n",
       "    </tr>\n",
       "    <tr>\n",
       "      <th>3</th>\n",
       "      <td>male</td>\n",
       "      <td>group A</td>\n",
       "      <td>associate's degree</td>\n",
       "      <td>free/reduced</td>\n",
       "      <td>none</td>\n",
       "      <td>47</td>\n",
       "      <td>57</td>\n",
       "      <td>44</td>\n",
       "    </tr>\n",
       "    <tr>\n",
       "      <th>4</th>\n",
       "      <td>male</td>\n",
       "      <td>group C</td>\n",
       "      <td>some college</td>\n",
       "      <td>standard</td>\n",
       "      <td>none</td>\n",
       "      <td>76</td>\n",
       "      <td>78</td>\n",
       "      <td>75</td>\n",
       "    </tr>\n",
       "  </tbody>\n",
       "</table>\n",
       "</div>"
      ],
      "text/plain": [
       "   gender race/ethnicity parental level of education         lunch  \\\n",
       "0  female        group B           bachelor's degree      standard   \n",
       "1  female        group C                some college      standard   \n",
       "2  female        group B             master's degree      standard   \n",
       "3    male        group A          associate's degree  free/reduced   \n",
       "4    male        group C                some college      standard   \n",
       "\n",
       "  test preparation course  math score  reading score  writing score  \n",
       "0                    none          72             72             74  \n",
       "1               completed          69             90             88  \n",
       "2                    none          90             95             93  \n",
       "3                    none          47             57             44  \n",
       "4                    none          76             78             75  "
      ]
     },
     "execution_count": 3,
     "metadata": {},
     "output_type": "execute_result"
    }
   ],
   "source": [
    "# first five students:\n",
    "students.head()"
   ]
  },
  {
   "cell_type": "code",
   "execution_count": 4,
   "id": "53042036",
   "metadata": {},
   "outputs": [
    {
     "data": {
      "text/html": [
       "<div>\n",
       "<style scoped>\n",
       "    .dataframe tbody tr th:only-of-type {\n",
       "        vertical-align: middle;\n",
       "    }\n",
       "\n",
       "    .dataframe tbody tr th {\n",
       "        vertical-align: top;\n",
       "    }\n",
       "\n",
       "    .dataframe thead th {\n",
       "        text-align: right;\n",
       "    }\n",
       "</style>\n",
       "<table border=\"1\" class=\"dataframe\">\n",
       "  <thead>\n",
       "    <tr style=\"text-align: right;\">\n",
       "      <th></th>\n",
       "      <th>math score</th>\n",
       "      <th>reading score</th>\n",
       "      <th>writing score</th>\n",
       "    </tr>\n",
       "  </thead>\n",
       "  <tbody>\n",
       "    <tr>\n",
       "      <th>count</th>\n",
       "      <td>1000.00000</td>\n",
       "      <td>1000.000000</td>\n",
       "      <td>1000.000000</td>\n",
       "    </tr>\n",
       "    <tr>\n",
       "      <th>mean</th>\n",
       "      <td>66.08900</td>\n",
       "      <td>69.169000</td>\n",
       "      <td>68.054000</td>\n",
       "    </tr>\n",
       "    <tr>\n",
       "      <th>std</th>\n",
       "      <td>15.16308</td>\n",
       "      <td>14.600192</td>\n",
       "      <td>15.195657</td>\n",
       "    </tr>\n",
       "    <tr>\n",
       "      <th>min</th>\n",
       "      <td>0.00000</td>\n",
       "      <td>17.000000</td>\n",
       "      <td>10.000000</td>\n",
       "    </tr>\n",
       "    <tr>\n",
       "      <th>25%</th>\n",
       "      <td>57.00000</td>\n",
       "      <td>59.000000</td>\n",
       "      <td>57.750000</td>\n",
       "    </tr>\n",
       "    <tr>\n",
       "      <th>50%</th>\n",
       "      <td>66.00000</td>\n",
       "      <td>70.000000</td>\n",
       "      <td>69.000000</td>\n",
       "    </tr>\n",
       "    <tr>\n",
       "      <th>75%</th>\n",
       "      <td>77.00000</td>\n",
       "      <td>79.000000</td>\n",
       "      <td>79.000000</td>\n",
       "    </tr>\n",
       "    <tr>\n",
       "      <th>max</th>\n",
       "      <td>100.00000</td>\n",
       "      <td>100.000000</td>\n",
       "      <td>100.000000</td>\n",
       "    </tr>\n",
       "  </tbody>\n",
       "</table>\n",
       "</div>"
      ],
      "text/plain": [
       "       math score  reading score  writing score\n",
       "count  1000.00000    1000.000000    1000.000000\n",
       "mean     66.08900      69.169000      68.054000\n",
       "std      15.16308      14.600192      15.195657\n",
       "min       0.00000      17.000000      10.000000\n",
       "25%      57.00000      59.000000      57.750000\n",
       "50%      66.00000      70.000000      69.000000\n",
       "75%      77.00000      79.000000      79.000000\n",
       "max     100.00000     100.000000     100.000000"
      ]
     },
     "execution_count": 4,
     "metadata": {},
     "output_type": "execute_result"
    }
   ],
   "source": [
    "# seeing the students scores widely\n",
    "students.describe()"
   ]
  },
  {
   "cell_type": "markdown",
   "id": "634421d3",
   "metadata": {},
   "source": [
    "## <i>Dataset Features:</i>\n",
    "1. gender - the sex of the student (male or female)\n",
    "2. race/ethnicity - the race/ethnicity of the student (groups) - (details on the groups below)\n",
    "3. parental level of education - the parental level of education of the student (the parents of his) - (details on the groups below)\n",
    "4. lunch - if the student ate a lunch before the exams\n",
    "5. test preparation course - if the student take a test preparation course\n",
    "6. math score\n",
    "7. reading score\n",
    "8. writing score"
   ]
  },
  {
   "cell_type": "code",
   "execution_count": 5,
   "id": "0cf14086",
   "metadata": {},
   "outputs": [
    {
     "name": "stdout",
     "output_type": "stream",
     "text": [
      "<class 'pandas.core.frame.DataFrame'>\n",
      "RangeIndex: 1000 entries, 0 to 999\n",
      "Data columns (total 8 columns):\n",
      " #   Column                       Non-Null Count  Dtype \n",
      "---  ------                       --------------  ----- \n",
      " 0   gender                       1000 non-null   object\n",
      " 1   race/ethnicity               1000 non-null   object\n",
      " 2   parental level of education  1000 non-null   object\n",
      " 3   lunch                        1000 non-null   object\n",
      " 4   test preparation course      1000 non-null   object\n",
      " 5   math score                   1000 non-null   int64 \n",
      " 6   reading score                1000 non-null   int64 \n",
      " 7   writing score                1000 non-null   int64 \n",
      "dtypes: int64(3), object(5)\n",
      "memory usage: 62.6+ KB\n"
     ]
    }
   ],
   "source": [
    "# checking if the data contains null data objects:\n",
    "# and see data types\n",
    "students.info()\n",
    "\n",
    "# as we can see the data is clean of null data objects"
   ]
  },
  {
   "cell_type": "code",
   "execution_count": 6,
   "id": "df796df2",
   "metadata": {},
   "outputs": [
    {
     "data": {
      "text/plain": [
       "gender                         0\n",
       "race/ethnicity                 0\n",
       "parental level of education    0\n",
       "lunch                          0\n",
       "test preparation course        0\n",
       "math score                     0\n",
       "reading score                  0\n",
       "writing score                  0\n",
       "dtype: int64"
      ]
     },
     "execution_count": 6,
     "metadata": {},
     "output_type": "execute_result"
    }
   ],
   "source": [
    "# another check for finding null objects\n",
    "students.isnull().sum()"
   ]
  },
  {
   "cell_type": "markdown",
   "id": "b0770fba",
   "metadata": {},
   "source": [
    "## <i>Preparing the data:</i>"
   ]
  },
  {
   "cell_type": "code",
   "execution_count": 7,
   "id": "64f2ee97",
   "metadata": {},
   "outputs": [
    {
     "data": {
      "text/html": [
       "<div>\n",
       "<style scoped>\n",
       "    .dataframe tbody tr th:only-of-type {\n",
       "        vertical-align: middle;\n",
       "    }\n",
       "\n",
       "    .dataframe tbody tr th {\n",
       "        vertical-align: top;\n",
       "    }\n",
       "\n",
       "    .dataframe thead th {\n",
       "        text-align: right;\n",
       "    }\n",
       "</style>\n",
       "<table border=\"1\" class=\"dataframe\">\n",
       "  <thead>\n",
       "    <tr style=\"text-align: right;\">\n",
       "      <th></th>\n",
       "      <th>gender</th>\n",
       "      <th>race/ethnicity</th>\n",
       "      <th>parental level of education</th>\n",
       "      <th>lunch</th>\n",
       "      <th>test preparation course</th>\n",
       "      <th>math score</th>\n",
       "      <th>reading score</th>\n",
       "      <th>writing score</th>\n",
       "      <th>average</th>\n",
       "    </tr>\n",
       "  </thead>\n",
       "  <tbody>\n",
       "    <tr>\n",
       "      <th>0</th>\n",
       "      <td>female</td>\n",
       "      <td>group B</td>\n",
       "      <td>bachelor's degree</td>\n",
       "      <td>standard</td>\n",
       "      <td>none</td>\n",
       "      <td>72</td>\n",
       "      <td>72</td>\n",
       "      <td>74</td>\n",
       "      <td>72.666667</td>\n",
       "    </tr>\n",
       "    <tr>\n",
       "      <th>1</th>\n",
       "      <td>female</td>\n",
       "      <td>group C</td>\n",
       "      <td>some college</td>\n",
       "      <td>standard</td>\n",
       "      <td>completed</td>\n",
       "      <td>69</td>\n",
       "      <td>90</td>\n",
       "      <td>88</td>\n",
       "      <td>82.333333</td>\n",
       "    </tr>\n",
       "    <tr>\n",
       "      <th>2</th>\n",
       "      <td>female</td>\n",
       "      <td>group B</td>\n",
       "      <td>master's degree</td>\n",
       "      <td>standard</td>\n",
       "      <td>none</td>\n",
       "      <td>90</td>\n",
       "      <td>95</td>\n",
       "      <td>93</td>\n",
       "      <td>92.666667</td>\n",
       "    </tr>\n",
       "    <tr>\n",
       "      <th>3</th>\n",
       "      <td>male</td>\n",
       "      <td>group A</td>\n",
       "      <td>associate's degree</td>\n",
       "      <td>free/reduced</td>\n",
       "      <td>none</td>\n",
       "      <td>47</td>\n",
       "      <td>57</td>\n",
       "      <td>44</td>\n",
       "      <td>49.333333</td>\n",
       "    </tr>\n",
       "    <tr>\n",
       "      <th>4</th>\n",
       "      <td>male</td>\n",
       "      <td>group C</td>\n",
       "      <td>some college</td>\n",
       "      <td>standard</td>\n",
       "      <td>none</td>\n",
       "      <td>76</td>\n",
       "      <td>78</td>\n",
       "      <td>75</td>\n",
       "      <td>76.333333</td>\n",
       "    </tr>\n",
       "  </tbody>\n",
       "</table>\n",
       "</div>"
      ],
      "text/plain": [
       "   gender race/ethnicity parental level of education         lunch  \\\n",
       "0  female        group B           bachelor's degree      standard   \n",
       "1  female        group C                some college      standard   \n",
       "2  female        group B             master's degree      standard   \n",
       "3    male        group A          associate's degree  free/reduced   \n",
       "4    male        group C                some college      standard   \n",
       "\n",
       "  test preparation course  math score  reading score  writing score    average  \n",
       "0                    none          72             72             74  72.666667  \n",
       "1               completed          69             90             88  82.333333  \n",
       "2                    none          90             95             93  92.666667  \n",
       "3                    none          47             57             44  49.333333  \n",
       "4                    none          76             78             75  76.333333  "
      ]
     },
     "execution_count": 7,
     "metadata": {},
     "output_type": "execute_result"
    }
   ],
   "source": [
    "# adding the average score feature for each student with the average of math, reading and writing score\n",
    "# the assign ,method is to change every average value in average target for each row\n",
    "students = students.assign(average= lambda x: ((x['math score'] + x['reading score'] + x['writing score']) / 3.0))\n",
    "students.head()"
   ]
  },
  {
   "cell_type": "code",
   "execution_count": 8,
   "id": "c7bbf045",
   "metadata": {},
   "outputs": [
    {
     "data": {
      "image/png": "[encoded data removed]",
      "text/plain": [
       "<Figure size 576x432 with 1 Axes>"
      ]
     },
     "metadata": {
      "needs_background": "light"
     },
     "output_type": "display_data"
    }
   ],
   "source": [
    "# ploting a bar plot with grades by genders (means):\n",
    "\n",
    "# male will get a numpy array with the means of scores by male gender\n",
    "male = np.array(students.groupby('gender').mean())[1]\n",
    "\n",
    "# male will get a numpy array with the means of scores by female gender\n",
    "female = np.array(students.groupby('gender').mean())[0]\n",
    "\n",
    "# change the figure size of the bar plot\n",
    "plt.figure(figsize=(8,6))\n",
    "\n",
    "width = 0.36\n",
    "ind = np.arange(4)\n",
    "\n",
    "# ploting man scores means\n",
    "plt.bar(ind, male, width, label='Men')\n",
    "\n",
    "# ploting women scores means\n",
    "plt.bar(ind + width, female, width, label='Women')\n",
    "\n",
    "# limit the axis from 0 to 100\n",
    "plt.ylim(0,100)\n",
    "\n",
    "# y label\n",
    "plt.ylabel('Avg Grades')\n",
    "\n",
    "# plot title\n",
    "plt.title('Grade by Gender')\n",
    "\n",
    "# x ticks\n",
    "plt.xticks(ind + width / 2 ,('math score','reading score','writing score','average'))\n",
    "\n",
    "plt.legend()\n",
    "\n",
    "plt.show()"
   ]
  },
  {
   "cell_type": "code",
   "execution_count": 9,
   "id": "4c9ddffc",
   "metadata": {},
   "outputs": [
    {
     "data": {
      "text/html": [
       "<div>\n",
       "<style scoped>\n",
       "    .dataframe tbody tr th:only-of-type {\n",
       "        vertical-align: middle;\n",
       "    }\n",
       "\n",
       "    .dataframe tbody tr th {\n",
       "        vertical-align: top;\n",
       "    }\n",
       "\n",
       "    .dataframe thead th {\n",
       "        text-align: right;\n",
       "    }\n",
       "</style>\n",
       "<table border=\"1\" class=\"dataframe\">\n",
       "  <thead>\n",
       "    <tr style=\"text-align: right;\">\n",
       "      <th></th>\n",
       "      <th>gender</th>\n",
       "      <th>race/ethnicity</th>\n",
       "      <th>parental level of education</th>\n",
       "      <th>lunch</th>\n",
       "      <th>test preparation course</th>\n",
       "      <th>math score</th>\n",
       "      <th>reading score</th>\n",
       "      <th>writing score</th>\n",
       "      <th>average</th>\n",
       "    </tr>\n",
       "  </thead>\n",
       "  <tbody>\n",
       "    <tr>\n",
       "      <th>0</th>\n",
       "      <td>0</td>\n",
       "      <td>group B</td>\n",
       "      <td>bachelor's degree</td>\n",
       "      <td>1</td>\n",
       "      <td>1</td>\n",
       "      <td>72</td>\n",
       "      <td>72</td>\n",
       "      <td>74</td>\n",
       "      <td>72.666667</td>\n",
       "    </tr>\n",
       "    <tr>\n",
       "      <th>1</th>\n",
       "      <td>0</td>\n",
       "      <td>group C</td>\n",
       "      <td>some college</td>\n",
       "      <td>1</td>\n",
       "      <td>0</td>\n",
       "      <td>69</td>\n",
       "      <td>90</td>\n",
       "      <td>88</td>\n",
       "      <td>82.333333</td>\n",
       "    </tr>\n",
       "    <tr>\n",
       "      <th>2</th>\n",
       "      <td>0</td>\n",
       "      <td>group B</td>\n",
       "      <td>master's degree</td>\n",
       "      <td>1</td>\n",
       "      <td>1</td>\n",
       "      <td>90</td>\n",
       "      <td>95</td>\n",
       "      <td>93</td>\n",
       "      <td>92.666667</td>\n",
       "    </tr>\n",
       "    <tr>\n",
       "      <th>3</th>\n",
       "      <td>1</td>\n",
       "      <td>group A</td>\n",
       "      <td>associate's degree</td>\n",
       "      <td>0</td>\n",
       "      <td>1</td>\n",
       "      <td>47</td>\n",
       "      <td>57</td>\n",
       "      <td>44</td>\n",
       "      <td>49.333333</td>\n",
       "    </tr>\n",
       "    <tr>\n",
       "      <th>4</th>\n",
       "      <td>1</td>\n",
       "      <td>group C</td>\n",
       "      <td>some college</td>\n",
       "      <td>1</td>\n",
       "      <td>1</td>\n",
       "      <td>76</td>\n",
       "      <td>78</td>\n",
       "      <td>75</td>\n",
       "      <td>76.333333</td>\n",
       "    </tr>\n",
       "  </tbody>\n",
       "</table>\n",
       "</div>"
      ],
      "text/plain": [
       "   gender race/ethnicity parental level of education  lunch  \\\n",
       "0       0        group B           bachelor's degree      1   \n",
       "1       0        group C                some college      1   \n",
       "2       0        group B             master's degree      1   \n",
       "3       1        group A          associate's degree      0   \n",
       "4       1        group C                some college      1   \n",
       "\n",
       "   test preparation course  math score  reading score  writing score  \\\n",
       "0                        1          72             72             74   \n",
       "1                        0          69             90             88   \n",
       "2                        1          90             95             93   \n",
       "3                        1          47             57             44   \n",
       "4                        1          76             78             75   \n",
       "\n",
       "     average  \n",
       "0  72.666667  \n",
       "1  82.333333  \n",
       "2  92.666667  \n",
       "3  49.333333  \n",
       "4  76.333333  "
      ]
     },
     "execution_count": 9,
     "metadata": {},
     "output_type": "execute_result"
    }
   ],
   "source": [
    "# for preparing all the binary values of text (string objects) in the data set:\n",
    "# I used the LabelEncoder from sklearn.preprocessing library,\n",
    "# that helping me to convert all the binary values of texetual data to a numbers\n",
    "\n",
    "lc = LabelEncoder()\n",
    "\n",
    "# preparing the 'gender' feature to binary numbers (0 = female, 1 = male)\n",
    "students['gender'] = lc.fit_transform(students['gender'])\n",
    "\n",
    "# preparing the 'lunch' feature to binary numbers (0 = free/reduced\t, 1 = standard)\n",
    "students['lunch'] = lc.fit_transform(students['lunch'])\n",
    "\n",
    "# preparing the 'lunch' feature to binary numbers (0 = completed, 1 = none)\n",
    "students['test preparation course'] = lc.fit_transform(students['test preparation course'])\n",
    "\n",
    "# showing results\n",
    "students.head()"
   ]
  },
  {
   "cell_type": "code",
   "execution_count": 10,
   "id": "d8ceae2a",
   "metadata": {},
   "outputs": [],
   "source": [
    "# define a function that plot with a pie\n",
    "def print_pie(values, lables):\n",
    "    values = list(values)\n",
    "    \n",
    "    # get a objcet pie from matplotlib and a figure\n",
    "    fig1, ax1 = plt.subplots()\n",
    "\n",
    "    # set the size of the figure\n",
    "    fig1.set_figheight(7)\n",
    "    fig1.set_figwidth(7)\n",
    "\n",
    "    # plot the pie\n",
    "    # x - the parental level of education data\n",
    "    # autopct - show the percentages at only one decimal point\n",
    "    # shadow - show the shadow of the pie\n",
    "    # startangle - rotate the pie in 90 degrees\n",
    "    ax1.pie(values, labels=lables, autopct='%1.1f%%', shadow=True, startangle=90)\n",
    "\n",
    "    # equal aspect ratio ensures that pie is drawn as a circle\n",
    "    ax1.axis('equal')\n",
    "\n",
    "    plt.show()"
   ]
  },
  {
   "cell_type": "code",
   "execution_count": 11,
   "id": "b0edf464",
   "metadata": {},
   "outputs": [
    {
     "data": {
      "image/png": "[encoded data removed]",
      "text/plain": [
       "<Figure size 504x504 with 1 Axes>"
      ]
     },
     "metadata": {},
     "output_type": "display_data"
    }
   ],
   "source": [
    "# showing differents in parental level of education of the students in the dataset in a pie of matplotlib\n",
    "\n",
    "# get all the counts of the values in parental level of education feature\n",
    "values = students['parental level of education'].value_counts()\n",
    "\n",
    "# write all the type of values in parental level of education feature\n",
    "parents_education = ['some college', 'associate\\'s degree', 'high school',\n",
    "                     'some high school', 'bachelor\\'s degree', 'master\\'s degree']\n",
    "\n",
    "print_pie(values, parents_education)"
   ]
  },
  {
   "cell_type": "code",
   "execution_count": 12,
   "id": "45a9172e",
   "metadata": {},
   "outputs": [
    {
     "data": {
      "image/png": "[encoded data removed]",
      "text/plain": [
       "<Figure size 504x504 with 1 Axes>"
      ]
     },
     "metadata": {},
     "output_type": "display_data"
    }
   ],
   "source": [
    "# showing differents in parental level of education of the students in the dataset in a pie of matplotlib\n",
    "\n",
    "# get all the counts of the values in parental level of education feature\n",
    "values = list(students['race/ethnicity'].value_counts())\n",
    "\n",
    "# write all the type of values in parental level of education feature\n",
    "ethnicity = ['group C', 'group D', 'group B', 'group E', 'group A']\n",
    "\n",
    "print_pie(values, ethnicity)"
   ]
  },
  {
   "cell_type": "code",
   "execution_count": 13,
   "id": "78482a51",
   "metadata": {},
   "outputs": [
    {
     "data": {
      "text/html": [
       "<div>\n",
       "<style scoped>\n",
       "    .dataframe tbody tr th:only-of-type {\n",
       "        vertical-align: middle;\n",
       "    }\n",
       "\n",
       "    .dataframe tbody tr th {\n",
       "        vertical-align: top;\n",
       "    }\n",
       "\n",
       "    .dataframe thead th {\n",
       "        text-align: right;\n",
       "    }\n",
       "</style>\n",
       "<table border=\"1\" class=\"dataframe\">\n",
       "  <thead>\n",
       "    <tr style=\"text-align: right;\">\n",
       "      <th></th>\n",
       "      <th>gender</th>\n",
       "      <th>lunch</th>\n",
       "      <th>test preparation course</th>\n",
       "      <th>average</th>\n",
       "      <th>race/ethnicity_group A</th>\n",
       "      <th>race/ethnicity_group B</th>\n",
       "      <th>race/ethnicity_group C</th>\n",
       "      <th>race/ethnicity_group D</th>\n",
       "      <th>race/ethnicity_group E</th>\n",
       "      <th>parental level of education_associate's degree</th>\n",
       "      <th>parental level of education_bachelor's degree</th>\n",
       "      <th>parental level of education_high school</th>\n",
       "      <th>parental level of education_master's degree</th>\n",
       "      <th>parental level of education_some college</th>\n",
       "      <th>parental level of education_some high school</th>\n",
       "    </tr>\n",
       "  </thead>\n",
       "  <tbody>\n",
       "    <tr>\n",
       "      <th>0</th>\n",
       "      <td>0</td>\n",
       "      <td>1</td>\n",
       "      <td>1</td>\n",
       "      <td>1</td>\n",
       "      <td>0</td>\n",
       "      <td>1</td>\n",
       "      <td>0</td>\n",
       "      <td>0</td>\n",
       "      <td>0</td>\n",
       "      <td>0</td>\n",
       "      <td>1</td>\n",
       "      <td>0</td>\n",
       "      <td>0</td>\n",
       "      <td>0</td>\n",
       "      <td>0</td>\n",
       "    </tr>\n",
       "    <tr>\n",
       "      <th>1</th>\n",
       "      <td>0</td>\n",
       "      <td>1</td>\n",
       "      <td>0</td>\n",
       "      <td>1</td>\n",
       "      <td>0</td>\n",
       "      <td>0</td>\n",
       "      <td>1</td>\n",
       "      <td>0</td>\n",
       "      <td>0</td>\n",
       "      <td>0</td>\n",
       "      <td>0</td>\n",
       "      <td>0</td>\n",
       "      <td>0</td>\n",
       "      <td>1</td>\n",
       "      <td>0</td>\n",
       "    </tr>\n",
       "    <tr>\n",
       "      <th>2</th>\n",
       "      <td>0</td>\n",
       "      <td>1</td>\n",
       "      <td>1</td>\n",
       "      <td>1</td>\n",
       "      <td>0</td>\n",
       "      <td>1</td>\n",
       "      <td>0</td>\n",
       "      <td>0</td>\n",
       "      <td>0</td>\n",
       "      <td>0</td>\n",
       "      <td>0</td>\n",
       "      <td>0</td>\n",
       "      <td>1</td>\n",
       "      <td>0</td>\n",
       "      <td>0</td>\n",
       "    </tr>\n",
       "    <tr>\n",
       "      <th>3</th>\n",
       "      <td>1</td>\n",
       "      <td>0</td>\n",
       "      <td>1</td>\n",
       "      <td>0</td>\n",
       "      <td>1</td>\n",
       "      <td>0</td>\n",
       "      <td>0</td>\n",
       "      <td>0</td>\n",
       "      <td>0</td>\n",
       "      <td>1</td>\n",
       "      <td>0</td>\n",
       "      <td>0</td>\n",
       "      <td>0</td>\n",
       "      <td>0</td>\n",
       "      <td>0</td>\n",
       "    </tr>\n",
       "    <tr>\n",
       "      <th>4</th>\n",
       "      <td>1</td>\n",
       "      <td>1</td>\n",
       "      <td>1</td>\n",
       "      <td>1</td>\n",
       "      <td>0</td>\n",
       "      <td>0</td>\n",
       "      <td>1</td>\n",
       "      <td>0</td>\n",
       "      <td>0</td>\n",
       "      <td>0</td>\n",
       "      <td>0</td>\n",
       "      <td>0</td>\n",
       "      <td>0</td>\n",
       "      <td>1</td>\n",
       "      <td>0</td>\n",
       "    </tr>\n",
       "    <tr>\n",
       "      <th>5</th>\n",
       "      <td>0</td>\n",
       "      <td>1</td>\n",
       "      <td>1</td>\n",
       "      <td>1</td>\n",
       "      <td>0</td>\n",
       "      <td>1</td>\n",
       "      <td>0</td>\n",
       "      <td>0</td>\n",
       "      <td>0</td>\n",
       "      <td>1</td>\n",
       "      <td>0</td>\n",
       "      <td>0</td>\n",
       "      <td>0</td>\n",
       "      <td>0</td>\n",
       "      <td>0</td>\n",
       "    </tr>\n",
       "    <tr>\n",
       "      <th>6</th>\n",
       "      <td>0</td>\n",
       "      <td>1</td>\n",
       "      <td>0</td>\n",
       "      <td>1</td>\n",
       "      <td>0</td>\n",
       "      <td>1</td>\n",
       "      <td>0</td>\n",
       "      <td>0</td>\n",
       "      <td>0</td>\n",
       "      <td>0</td>\n",
       "      <td>0</td>\n",
       "      <td>0</td>\n",
       "      <td>0</td>\n",
       "      <td>1</td>\n",
       "      <td>0</td>\n",
       "    </tr>\n",
       "    <tr>\n",
       "      <th>7</th>\n",
       "      <td>1</td>\n",
       "      <td>0</td>\n",
       "      <td>1</td>\n",
       "      <td>0</td>\n",
       "      <td>0</td>\n",
       "      <td>1</td>\n",
       "      <td>0</td>\n",
       "      <td>0</td>\n",
       "      <td>0</td>\n",
       "      <td>0</td>\n",
       "      <td>0</td>\n",
       "      <td>0</td>\n",
       "      <td>0</td>\n",
       "      <td>1</td>\n",
       "      <td>0</td>\n",
       "    </tr>\n",
       "    <tr>\n",
       "      <th>8</th>\n",
       "      <td>1</td>\n",
       "      <td>0</td>\n",
       "      <td>0</td>\n",
       "      <td>1</td>\n",
       "      <td>0</td>\n",
       "      <td>0</td>\n",
       "      <td>0</td>\n",
       "      <td>1</td>\n",
       "      <td>0</td>\n",
       "      <td>0</td>\n",
       "      <td>0</td>\n",
       "      <td>1</td>\n",
       "      <td>0</td>\n",
       "      <td>0</td>\n",
       "      <td>0</td>\n",
       "    </tr>\n",
       "    <tr>\n",
       "      <th>9</th>\n",
       "      <td>0</td>\n",
       "      <td>0</td>\n",
       "      <td>1</td>\n",
       "      <td>0</td>\n",
       "      <td>0</td>\n",
       "      <td>1</td>\n",
       "      <td>0</td>\n",
       "      <td>0</td>\n",
       "      <td>0</td>\n",
       "      <td>0</td>\n",
       "      <td>0</td>\n",
       "      <td>1</td>\n",
       "      <td>0</td>\n",
       "      <td>0</td>\n",
       "      <td>0</td>\n",
       "    </tr>\n",
       "  </tbody>\n",
       "</table>\n",
       "</div>"
      ],
      "text/plain": [
       "   gender  lunch  test preparation course  average  race/ethnicity_group A  \\\n",
       "0       0      1                        1        1                       0   \n",
       "1       0      1                        0        1                       0   \n",
       "2       0      1                        1        1                       0   \n",
       "3       1      0                        1        0                       1   \n",
       "4       1      1                        1        1                       0   \n",
       "5       0      1                        1        1                       0   \n",
       "6       0      1                        0        1                       0   \n",
       "7       1      0                        1        0                       0   \n",
       "8       1      0                        0        1                       0   \n",
       "9       0      0                        1        0                       0   \n",
       "\n",
       "   race/ethnicity_group B  race/ethnicity_group C  race/ethnicity_group D  \\\n",
       "0                       1                       0                       0   \n",
       "1                       0                       1                       0   \n",
       "2                       1                       0                       0   \n",
       "3                       0                       0                       0   \n",
       "4                       0                       1                       0   \n",
       "5                       1                       0                       0   \n",
       "6                       1                       0                       0   \n",
       "7                       1                       0                       0   \n",
       "8                       0                       0                       1   \n",
       "9                       1                       0                       0   \n",
       "\n",
       "   race/ethnicity_group E  parental level of education_associate's degree  \\\n",
       "0                       0                                               0   \n",
       "1                       0                                               0   \n",
       "2                       0                                               0   \n",
       "3                       0                                               1   \n",
       "4                       0                                               0   \n",
       "5                       0                                               1   \n",
       "6                       0                                               0   \n",
       "7                       0                                               0   \n",
       "8                       0                                               0   \n",
       "9                       0                                               0   \n",
       "\n",
       "   parental level of education_bachelor's degree  \\\n",
       "0                                              1   \n",
       "1                                              0   \n",
       "2                                              0   \n",
       "3                                              0   \n",
       "4                                              0   \n",
       "5                                              0   \n",
       "6                                              0   \n",
       "7                                              0   \n",
       "8                                              0   \n",
       "9                                              0   \n",
       "\n",
       "   parental level of education_high school  \\\n",
       "0                                        0   \n",
       "1                                        0   \n",
       "2                                        0   \n",
       "3                                        0   \n",
       "4                                        0   \n",
       "5                                        0   \n",
       "6                                        0   \n",
       "7                                        0   \n",
       "8                                        1   \n",
       "9                                        1   \n",
       "\n",
       "   parental level of education_master's degree  \\\n",
       "0                                            0   \n",
       "1                                            0   \n",
       "2                                            1   \n",
       "3                                            0   \n",
       "4                                            0   \n",
       "5                                            0   \n",
       "6                                            0   \n",
       "7                                            0   \n",
       "8                                            0   \n",
       "9                                            0   \n",
       "\n",
       "   parental level of education_some college  \\\n",
       "0                                         0   \n",
       "1                                         1   \n",
       "2                                         0   \n",
       "3                                         0   \n",
       "4                                         1   \n",
       "5                                         0   \n",
       "6                                         1   \n",
       "7                                         1   \n",
       "8                                         0   \n",
       "9                                         0   \n",
       "\n",
       "   parental level of education_some high school  \n",
       "0                                             0  \n",
       "1                                             0  \n",
       "2                                             0  \n",
       "3                                             0  \n",
       "4                                             0  \n",
       "5                                             0  \n",
       "6                                             0  \n",
       "7                                             0  \n",
       "8                                             0  \n",
       "9                                             0  "
      ]
     },
     "execution_count": 13,
     "metadata": {},
     "output_type": "execute_result"
    }
   ],
   "source": [
    "# create dummies varables for 'race/ethnicity' feature:\n",
    "students = pd.get_dummies(students, columns=['race/ethnicity'])\n",
    "\n",
    "# create dummies varables for 'parental level of education' feature:\n",
    "students = pd.get_dummies(students, columns=['parental level of education'])\n",
    "\n",
    "# droping the math score, reading score and writing score features\n",
    "students.drop('math score', inplace=True, axis = 1)\n",
    "students.drop('reading score', inplace=True, axis = 1)\n",
    "students.drop('writing score', inplace=True, axis = 1)\n",
    "\n",
    "# classified the average score feature as: if x >= 60 - 1 ('pass'), else - 0 ('fail')\n",
    "students['average'] = students['average'].apply(lambda x: 1 if x >= 60 else 0)\n",
    "students.head(10)"
   ]
  },
  {
   "cell_type": "markdown",
   "id": "52bea8bd",
   "metadata": {},
   "source": [
    "### Separate data to training and testing sets"
   ]
  },
  {
   "cell_type": "code",
   "execution_count": 14,
   "id": "798dabb9",
   "metadata": {},
   "outputs": [],
   "source": [
    "feature_cols = ['gender','lunch','test preparation course','race/ethnicity_group A','race/ethnicity_group B',\n",
    "                'race/ethnicity_group C', 'race/ethnicity_group D', 'race/ethnicity_group E',\n",
    "                'parental level of education_associate\\'s degree', 'parental level of education_bachelor\\'s degree',\n",
    "                'parental level of education_high school', 'parental level of education_master\\'s degree',\n",
    "                'parental level of education_some college', 'parental level of education_some high school']\n",
    "X = students[feature_cols]\n",
    "y = students['average']\n",
    "\n",
    "X_train, X_test, y_train, y_test = train_test_split(X, y, random_state=4)"
   ]
  },
  {
   "cell_type": "markdown",
   "id": "6b2cf8df",
   "metadata": {},
   "source": [
    "#### Print Accuracy function:"
   ]
  },
  {
   "cell_type": "code",
   "execution_count": 15,
   "id": "dd517890",
   "metadata": {},
   "outputs": [],
   "source": [
    "# function that print the accuracy of a classification model\n",
    "def print_accuracy(clf, X_train, X_test, y_train, y_test):\n",
    "    # fit the train data to the model\n",
    "    clf.fit(X_train, y_train)\n",
    "\n",
    "    # get the pridictions of X_test\n",
    "    pridictions = clf.predict(X_test)\n",
    "    probabilities = clf.predict_proba(X_test)\n",
    "    probabilities = probabilities[:, 1]\n",
    "\n",
    "    # get the accuracy of the model\n",
    "    accuracy = clf.score(X_test, y_test)\n",
    "\n",
    "    # print the accuracy\n",
    "    print(classification_report(y_test, pridictions))\n",
    "    print('accuracy of the model is: {} %'.format(\"%.2f\" % (accuracy * 100)))\n",
    "    return accuracy"
   ]
  },
  {
   "cell_type": "markdown",
   "id": "0fb26095",
   "metadata": {},
   "source": [
    "#### Plot Confusion Matrix function:"
   ]
  },
  {
   "cell_type": "code",
   "execution_count": 16,
   "id": "01f7e708",
   "metadata": {},
   "outputs": [],
   "source": [
    "# function of ploting the confusion_matrix\n",
    "def my_plot_confusion_matrix(clf, X_test, y_test):\n",
    "\n",
    "    # get the confusion_matrix for ploting\n",
    "    matrix = plot_confusion_matrix(clf, X_test, y_test, cmap=plt.cm.Blues)\n",
    "\n",
    "    # main title\n",
    "    matrix.ax_.set_title('Confusion matrix')\n",
    "\n",
    "    # x label\n",
    "    plt.xlabel('Predicted Label')\n",
    "\n",
    "    # y label\n",
    "    plt.ylabel('True label')\n",
    "\n",
    "    # size of the figure\n",
    "    plt.gcf().set_size_inches(10, 6)\n",
    "\n",
    "    # show plot\n",
    "    plt.show()"
   ]
  },
  {
   "cell_type": "markdown",
   "id": "f932e03a",
   "metadata": {},
   "source": [
    "### Dummy Classifier (Model 0)"
   ]
  },
  {
   "cell_type": "code",
   "execution_count": 17,
   "id": "5d15283c",
   "metadata": {},
   "outputs": [
    {
     "name": "stdout",
     "output_type": "stream",
     "text": [
      "pass result are: 180\n",
      "fail result are: 70\n"
     ]
    }
   ],
   "source": [
    "pass_result = 0\n",
    "fail_result = 0\n",
    "for i in y_test:\n",
    "    if i == 1:\n",
    "        pass_result += 1\n",
    "    else:\n",
    "        fail_result += 1\n",
    "        \n",
    "print(\"pass result are:\", pass_result)\n",
    "print(\"fail result are:\", fail_result)"
   ]
  },
  {
   "cell_type": "markdown",
   "id": "40bdedad",
   "metadata": {},
   "source": [
    "### Assuming that our dummy classifier will always perdict the same result - 1 (pass).\n",
    "### So as can we see our test train contains 250 samples that 180 of them are pass and 70 of them are fail,\n",
    "#### And that so our dummy classifier will correct at predictions in 180/250 = 0.72 % accuracy (depends on the test data)"
   ]
  },
  {
   "cell_type": "markdown",
   "id": "3dcc31ec",
   "metadata": {},
   "source": [
    "### Using KNeighborsClassifier model\n",
    "#### Accuracy:"
   ]
  },
  {
   "cell_type": "code",
   "execution_count": 18,
   "id": "b25a6b19",
   "metadata": {},
   "outputs": [
    {
     "name": "stdout",
     "output_type": "stream",
     "text": [
      "              precision    recall  f1-score   support\n",
      "\n",
      "           0       0.47      0.40      0.43        70\n",
      "           1       0.78      0.82      0.80       180\n",
      "\n",
      "    accuracy                           0.70       250\n",
      "   macro avg       0.62      0.61      0.62       250\n",
      "weighted avg       0.69      0.70      0.70       250\n",
      "\n",
      "accuracy of the model is: 70.40 %\n"
     ]
    },
    {
     "data": {
      "text/plain": [
       "0.704"
      ]
     },
     "execution_count": 18,
     "metadata": {},
     "output_type": "execute_result"
    }
   ],
   "source": [
    "# get the classifier (found that 5 neighbors is the best predicter)\n",
    "nclf = KNeighborsClassifier(n_neighbors=5)\n",
    "\n",
    "# print accuracy\n",
    "print_accuracy(nclf, X_train, X_test, y_train, y_test)"
   ]
  },
  {
   "cell_type": "code",
   "execution_count": 19,
   "id": "12899464",
   "metadata": {},
   "outputs": [
    {
     "data": {
      "image/png": "[encoded data removed]",
      "text/plain": [
       "<Figure size 720x432 with 2 Axes>"
      ]
     },
     "metadata": {
      "needs_background": "light"
     },
     "output_type": "display_data"
    }
   ],
   "source": [
    "# plot the confusion matrix using the my_plot_confusion_matrix function\n",
    "my_plot_confusion_matrix(nclf, X_test, y_test)"
   ]
  },
  {
   "cell_type": "markdown",
   "id": "03e6c107",
   "metadata": {},
   "source": [
    "### Using DecisionTreeClassifier model\n",
    "#### Accuracy:"
   ]
  },
  {
   "cell_type": "code",
   "execution_count": 20,
   "id": "5317e5b9",
   "metadata": {},
   "outputs": [
    {
     "name": "stdout",
     "output_type": "stream",
     "text": [
      "              precision    recall  f1-score   support\n",
      "\n",
      "           0       0.51      0.49      0.50        70\n",
      "           1       0.80      0.82      0.81       180\n",
      "\n",
      "    accuracy                           0.72       250\n",
      "   macro avg       0.66      0.65      0.65       250\n",
      "weighted avg       0.72      0.72      0.72       250\n",
      "\n",
      "accuracy of the model is: 72.40 %\n"
     ]
    },
    {
     "data": {
      "text/plain": [
       "0.724"
      ]
     },
     "execution_count": 20,
     "metadata": {},
     "output_type": "execute_result"
    }
   ],
   "source": [
    "# get the classifier \n",
    "dclf = DecisionTreeClassifier()\n",
    "\n",
    "# print accuracy\n",
    "print_accuracy(dclf, X_train, X_test, y_train, y_test)"
   ]
  },
  {
   "cell_type": "code",
   "execution_count": 21,
   "id": "98942fdb",
   "metadata": {},
   "outputs": [
    {
     "data": {
      "image/png": "[encoded data removed]",
      "text/plain": [
       "<Figure size 720x432 with 2 Axes>"
      ]
     },
     "metadata": {
      "needs_background": "light"
     },
     "output_type": "display_data"
    }
   ],
   "source": [
    "# plot the confusion matrix using the my_plot_confusion_matrix function\n",
    "my_plot_confusion_matrix(dclf, X_test, y_test)"
   ]
  },
  {
   "cell_type": "markdown",
   "id": "8e4374f9",
   "metadata": {},
   "source": [
    "### Using LogisticRegression classifier model\n",
    "#### Accuracy:"
   ]
  },
  {
   "cell_type": "code",
   "execution_count": 22,
   "id": "4d5f53ee",
   "metadata": {},
   "outputs": [
    {
     "name": "stdout",
     "output_type": "stream",
     "text": [
      "              precision    recall  f1-score   support\n",
      "\n",
      "           0       0.71      0.34      0.46        70\n",
      "           1       0.79      0.94      0.86       180\n",
      "\n",
      "    accuracy                           0.78       250\n",
      "   macro avg       0.75      0.64      0.66       250\n",
      "weighted avg       0.76      0.78      0.75       250\n",
      "\n",
      "accuracy of the model is: 77.60 %\n"
     ]
    },
    {
     "data": {
      "text/plain": [
       "0.776"
      ]
     },
     "execution_count": 22,
     "metadata": {},
     "output_type": "execute_result"
    }
   ],
   "source": [
    "# get the classifier \n",
    "lclf = LogisticRegression()\n",
    "\n",
    "# print accuracy\n",
    "print_accuracy(lclf, X_train, X_test, y_train, y_test)"
   ]
  },
  {
   "cell_type": "code",
   "execution_count": 23,
   "id": "b5027edd",
   "metadata": {},
   "outputs": [
    {
     "data": {
      "image/png": "[encoded data removed]",
      "text/plain": [
       "<Figure size 720x432 with 2 Axes>"
      ]
     },
     "metadata": {
      "needs_background": "light"
     },
     "output_type": "display_data"
    }
   ],
   "source": [
    "# plot the confusion matrix using the my_plot_confusion_matrix function\n",
    "my_plot_confusion_matrix(lclf, X_test, y_test)"
   ]
  },
  {
   "cell_type": "markdown",
   "id": "c607c899",
   "metadata": {},
   "source": [
    "### Up to this point, I have briefly shown what I did in the final project of  introduction to data science course in the classification problem in the third notebook using three models:\n",
    "\n",
    "1. KNeighborsClassifier   ~ 70.40 % accuracy\n",
    "2. DecisionTreeClassifier ~ 71.60 % accuracy\n",
    "3. LogisticRegression     ~ 77.60 % accuracy\n",
    "\n",
    "## We will now use ensemble learning to see if we can get a machine learning model with better accuracy"
   ]
  },
  {
   "cell_type": "markdown",
   "id": "1b02d898",
   "metadata": {},
   "source": [
    "# <i>Ensemble learning</i>\n",
    "### Using Hard VotingClassifier:"
   ]
  },
  {
   "cell_type": "code",
   "execution_count": 24,
   "id": "432c774d",
   "metadata": {},
   "outputs": [
    {
     "data": {
      "text/plain": [
       "VotingClassifier(estimators=[('nlf', KNeighborsClassifier()),\n",
       "                             ('dlf', DecisionTreeClassifier()),\n",
       "                             ('llf', LogisticRegression())])"
      ]
     },
     "execution_count": 24,
     "metadata": {},
     "output_type": "execute_result"
    }
   ],
   "source": [
    "hard_voting_clf = VotingClassifier(\n",
    "    estimators=[('nlf', nclf), ('dlf', dclf), ('llf', lclf)],\n",
    "    voting='hard')\n",
    "hard_voting_clf.fit(X_train, y_train)"
   ]
  },
  {
   "cell_type": "code",
   "execution_count": 25,
   "id": "cf72f68a",
   "metadata": {},
   "outputs": [
    {
     "name": "stdout",
     "output_type": "stream",
     "text": [
      "KNeighborsClassifier 70.40 %\n",
      "DecisionTreeClassifier 72.40 %\n",
      "LogisticRegression 77.60 %\n",
      "VotingClassifier 74.80 %\n"
     ]
    }
   ],
   "source": [
    "for clf in (nclf, dclf, lclf, hard_voting_clf):\n",
    "    clf.fit(X_train, y_train)\n",
    "    y_pred = clf.predict(X_test)\n",
    "    print(clf.__class__.__name__, \"{:.2f}\".format(accuracy_score(y_test, y_pred) * 100), \"%\")"
   ]
  },
  {
   "cell_type": "code",
   "execution_count": 26,
   "id": "19bd1c2e",
   "metadata": {},
   "outputs": [
    {
     "data": {
      "image/png": "[encoded data removed]",
      "text/plain": [
       "<Figure size 720x432 with 2 Axes>"
      ]
     },
     "metadata": {
      "needs_background": "light"
     },
     "output_type": "display_data"
    }
   ],
   "source": [
    "# plot the confusion matrix using the my_plot_confusion_matrix function\n",
    "my_plot_confusion_matrix(hard_voting_clf, X_test, y_test)"
   ]
  },
  {
   "cell_type": "markdown",
   "id": "7e07a763",
   "metadata": {},
   "source": [
    "### Using Soft VotingClassifier:"
   ]
  },
  {
   "cell_type": "code",
   "execution_count": 27,
   "id": "f16de050",
   "metadata": {},
   "outputs": [
    {
     "data": {
      "text/plain": [
       "VotingClassifier(estimators=[('nlf', KNeighborsClassifier()),\n",
       "                             ('dlf', DecisionTreeClassifier()),\n",
       "                             ('llf', LogisticRegression())],\n",
       "                 voting='soft')"
      ]
     },
     "execution_count": 27,
     "metadata": {},
     "output_type": "execute_result"
    }
   ],
   "source": [
    "soft_voting_clf = VotingClassifier(\n",
    "    estimators=[('nlf', nclf), ('dlf', dclf), ('llf', lclf)],\n",
    "    voting='soft')\n",
    "soft_voting_clf.fit(X_train, y_train)"
   ]
  },
  {
   "cell_type": "code",
   "execution_count": 28,
   "id": "1e20050e",
   "metadata": {},
   "outputs": [
    {
     "name": "stdout",
     "output_type": "stream",
     "text": [
      "KNeighborsClassifier 70.40 %\n",
      "DecisionTreeClassifier 71.60 %\n",
      "LogisticRegression 77.60 %\n",
      "VotingClassifier 76.80 %\n"
     ]
    }
   ],
   "source": [
    "for clf in (nclf, dclf, lclf, soft_voting_clf):\n",
    "    clf.fit(X_train, y_train)\n",
    "    y_pred = clf.predict(X_test)\n",
    "    print(clf.__class__.__name__, \"{:.2f}\".format(accuracy_score(y_test, y_pred) * 100), \"%\")"
   ]
  },
  {
   "cell_type": "code",
   "execution_count": 29,
   "id": "aa523ca4",
   "metadata": {},
   "outputs": [
    {
     "data": {
      "image/png": "[encoded data removed]",
      "text/plain": [
       "<Figure size 720x432 with 2 Axes>"
      ]
     },
     "metadata": {
      "needs_background": "light"
     },
     "output_type": "display_data"
    }
   ],
   "source": [
    "# plot the confusion matrix using the my_plot_confusion_matrix function\n",
    "my_plot_confusion_matrix(soft_voting_clf, X_test, y_test)"
   ]
  },
  {
   "cell_type": "markdown",
   "id": "f9d157a7",
   "metadata": {},
   "source": [
    "### As we can see the hard and soft voting classifiers didn't give us better accuracy than logistic regression, but the soft voting classifier gives better accuracy (76.80%) then the hard voring classifier accuracy (74.80 %)\n",
    "<br>\n",
    "\n",
    "# <i>Bagging and Pasting</i>\n",
    "\n",
    "* Use the same training algorithm for every preditor and train them on different random subsets of training set.\n",
    "    * ```Bagging``` is when sampling is perfomed with replacement.\n",
    "    * ```Pasting``` is when sampling is prefomed without repalcement.\n",
    "    \n",
    "* Parameters:\n",
    "    * Classifier to use\n",
    "    * ```n_estimators``` number of ensembles\n",
    "    * ```max_samples``` number of samples\n",
    "    * ```bootstrap``` True for bagging and False for pasting\n",
    "    * ```n_jobs``` the number of cpu's to use in the computer (when the parameter is equal to -1 the model will use all the available cpu's)\n",
    "\n",
    "###  Bagging (enstimators=500 and max_samples=100)"
   ]
  },
  {
   "cell_type": "code",
   "execution_count": 30,
   "id": "15b4f46e",
   "metadata": {},
   "outputs": [
    {
     "name": "stdout",
     "output_type": "stream",
     "text": [
      "              precision    recall  f1-score   support\n",
      "\n",
      "           0       0.62      0.37      0.46        70\n",
      "           1       0.79      0.91      0.85       180\n",
      "\n",
      "    accuracy                           0.76       250\n",
      "   macro avg       0.70      0.64      0.65       250\n",
      "weighted avg       0.74      0.76      0.74       250\n",
      "\n",
      "accuracy of the model is: 76.00 %\n"
     ]
    },
    {
     "data": {
      "text/plain": [
       "0.76"
      ]
     },
     "execution_count": 30,
     "metadata": {},
     "output_type": "execute_result"
    }
   ],
   "source": [
    "a_bag_clf = BaggingClassifier(\n",
    "    DecisionTreeClassifier(), n_estimators=500,\n",
    "    max_samples=100, bootstrap=True, n_jobs=-1)\n",
    "\n",
    "# print accuracy\n",
    "print_accuracy(a_bag_clf, X_train, X_test, y_train, y_test)"
   ]
  },
  {
   "cell_type": "code",
   "execution_count": 31,
   "id": "efd8dbba",
   "metadata": {},
   "outputs": [
    {
     "data": {
      "image/png": "[encoded data removed]",
      "text/plain": [
       "<Figure size 720x432 with 2 Axes>"
      ]
     },
     "metadata": {
      "needs_background": "light"
     },
     "output_type": "display_data"
    }
   ],
   "source": [
    "# plot the confusion matrix using the my_plot_confusion_matrix function\n",
    "my_plot_confusion_matrix(a_bag_clf, X_test, y_test)"
   ]
  },
  {
   "cell_type": "markdown",
   "id": "8083596d",
   "metadata": {},
   "source": [
    "###  Bagging (enstimators=100 and max_samples=50)"
   ]
  },
  {
   "cell_type": "code",
   "execution_count": 32,
   "id": "bcfc7d03",
   "metadata": {},
   "outputs": [
    {
     "name": "stdout",
     "output_type": "stream",
     "text": [
      "              precision    recall  f1-score   support\n",
      "\n",
      "           0       0.71      0.34      0.46        70\n",
      "           1       0.79      0.94      0.86       180\n",
      "\n",
      "    accuracy                           0.78       250\n",
      "   macro avg       0.75      0.64      0.66       250\n",
      "weighted avg       0.76      0.78      0.75       250\n",
      "\n",
      "accuracy of the model is: 77.60 %\n"
     ]
    },
    {
     "data": {
      "text/plain": [
       "0.776"
      ]
     },
     "execution_count": 32,
     "metadata": {},
     "output_type": "execute_result"
    }
   ],
   "source": [
    "b_bag_clf = BaggingClassifier(\n",
    "    DecisionTreeClassifier(), n_estimators=100,\n",
    "    max_samples=50, bootstrap=True, n_jobs=-1)\n",
    "\n",
    "# print accuracy\n",
    "print_accuracy(b_bag_clf, X_train, X_test, y_train, y_test)"
   ]
  },
  {
   "cell_type": "code",
   "execution_count": 33,
   "id": "2bb247f5",
   "metadata": {},
   "outputs": [
    {
     "data": {
      "image/png": "[encoded data removed]",
      "text/plain": [
       "<Figure size 720x432 with 2 Axes>"
      ]
     },
     "metadata": {
      "needs_background": "light"
     },
     "output_type": "display_data"
    }
   ],
   "source": [
    "# plot the confusion matrix using the my_plot_confusion_matrix function\n",
    "my_plot_confusion_matrix(b_bag_clf, X_test, y_test)"
   ]
  },
  {
   "cell_type": "markdown",
   "id": "dba15682",
   "metadata": {},
   "source": [
    "###  Pasting (enstimators=500 and max_samples=100)"
   ]
  },
  {
   "cell_type": "code",
   "execution_count": 34,
   "id": "9ab7d664",
   "metadata": {},
   "outputs": [
    {
     "name": "stdout",
     "output_type": "stream",
     "text": [
      "              precision    recall  f1-score   support\n",
      "\n",
      "           0       0.67      0.37      0.48        70\n",
      "           1       0.79      0.93      0.85       180\n",
      "\n",
      "    accuracy                           0.77       250\n",
      "   macro avg       0.73      0.65      0.67       250\n",
      "weighted avg       0.76      0.77      0.75       250\n",
      "\n",
      "accuracy of the model is: 77.20 %\n"
     ]
    },
    {
     "data": {
      "text/plain": [
       "0.772"
      ]
     },
     "execution_count": 34,
     "metadata": {},
     "output_type": "execute_result"
    }
   ],
   "source": [
    "c_bag_clf = BaggingClassifier(\n",
    "    DecisionTreeClassifier(), n_estimators=500,\n",
    "    max_samples=100, bootstrap=False, n_jobs=-1)\n",
    "\n",
    "# print accuracy\n",
    "print_accuracy(c_bag_clf, X_train, X_test, y_train, y_test)"
   ]
  },
  {
   "cell_type": "code",
   "execution_count": 35,
   "id": "698aa497",
   "metadata": {},
   "outputs": [
    {
     "data": {
      "image/png": "[encoded data removed]",
      "text/plain": [
       "<Figure size 720x432 with 2 Axes>"
      ]
     },
     "metadata": {
      "needs_background": "light"
     },
     "output_type": "display_data"
    }
   ],
   "source": [
    "# plot the confusion matrix using the my_plot_confusion_matrix function\n",
    "my_plot_confusion_matrix(c_bag_clf, X_test, y_test)"
   ]
  },
  {
   "cell_type": "markdown",
   "id": "e546b690",
   "metadata": {},
   "source": [
    "###  Pasting (enstimators=100 and max_samples=50)"
   ]
  },
  {
   "cell_type": "code",
   "execution_count": 36,
   "id": "3f1fbc98",
   "metadata": {},
   "outputs": [
    {
     "name": "stdout",
     "output_type": "stream",
     "text": [
      "              precision    recall  f1-score   support\n",
      "\n",
      "           0       0.63      0.31      0.42        70\n",
      "           1       0.78      0.93      0.85       180\n",
      "\n",
      "    accuracy                           0.76       250\n",
      "   macro avg       0.70      0.62      0.63       250\n",
      "weighted avg       0.74      0.76      0.73       250\n",
      "\n",
      "accuracy of the model is: 75.60 %\n"
     ]
    },
    {
     "data": {
      "text/plain": [
       "0.756"
      ]
     },
     "execution_count": 36,
     "metadata": {},
     "output_type": "execute_result"
    }
   ],
   "source": [
    "d_bag_clf = BaggingClassifier(\n",
    "    DecisionTreeClassifier(), n_estimators=100,\n",
    "    max_samples=50, bootstrap=False, n_jobs=-1)\n",
    "\n",
    "# print accuracy\n",
    "print_accuracy(d_bag_clf, X_train, X_test, y_train, y_test)"
   ]
  },
  {
   "cell_type": "code",
   "execution_count": 37,
   "id": "7b0ca40e",
   "metadata": {},
   "outputs": [
    {
     "data": {
      "image/png": "[encoded data removed]",
      "text/plain": [
       "<Figure size 720x432 with 2 Axes>"
      ]
     },
     "metadata": {
      "needs_background": "light"
     },
     "output_type": "display_data"
    }
   ],
   "source": [
    "# plot the confusion matrix using the my_plot_confusion_matrix function\n",
    "my_plot_confusion_matrix(d_bag_clf, X_test, y_test)"
   ]
  },
  {
   "cell_type": "markdown",
   "id": "6f9f2f7e",
   "metadata": {},
   "source": [
    "### Bagging using random splintering (estimators=500 and max_samples=1.0)"
   ]
  },
  {
   "cell_type": "code",
   "execution_count": 38,
   "id": "367c80b6",
   "metadata": {},
   "outputs": [
    {
     "name": "stdout",
     "output_type": "stream",
     "text": [
      "              precision    recall  f1-score   support\n",
      "\n",
      "           0       0.68      0.33      0.44        70\n",
      "           1       0.78      0.94      0.85       180\n",
      "\n",
      "    accuracy                           0.77       250\n",
      "   macro avg       0.73      0.63      0.65       250\n",
      "weighted avg       0.75      0.77      0.74       250\n",
      "\n",
      "accuracy of the model is: 76.80 %\n"
     ]
    },
    {
     "data": {
      "text/plain": [
       "0.768"
      ]
     },
     "execution_count": 38,
     "metadata": {},
     "output_type": "execute_result"
    }
   ],
   "source": [
    "e_bag_clf = BaggingClassifier(\n",
    "    DecisionTreeClassifier(splitter=\"random\", max_leaf_nodes=16),\n",
    "    n_estimators=500,\n",
    "    max_samples=1.0, bootstrap=True, n_jobs=-1)\n",
    "\n",
    "# print accuracy\n",
    "print_accuracy(e_bag_clf, X_train, X_test, y_train, y_test)"
   ]
  },
  {
   "cell_type": "code",
   "execution_count": 39,
   "id": "1e4096ac",
   "metadata": {},
   "outputs": [
    {
     "data": {
      "image/png": "[encoded data removed]",
      "text/plain": [
       "<Figure size 720x432 with 2 Axes>"
      ]
     },
     "metadata": {
      "needs_background": "light"
     },
     "output_type": "display_data"
    }
   ],
   "source": [
    "# plot the confusion matrix using the my_plot_confusion_matrix function\n",
    "my_plot_confusion_matrix(e_bag_clf, X_test, y_test)"
   ]
  },
  {
   "cell_type": "markdown",
   "id": "a9e43901",
   "metadata": {},
   "source": [
    "### As we can see there is no dramatic change between the accuracy of bagging and pasting classifiers (even if we changing the number of estimators and max samples [500 and 100 or 100 and 50]),\n",
    "### The accuracy of bagging and pasting classifiers is about ~76 %"
   ]
  },
  {
   "cell_type": "markdown",
   "id": "b720168c",
   "metadata": {},
   "source": [
    "# <i>Random Forests</i>\n",
    "\n",
    "* Random forests classifier is an ensemble of decision trees (generally trained via the bagging method)\n",
    "    * ```n_estimators``` is the number if trees\n",
    "    * ```max_leaf_nodes``` is the max size of each tree\n",
    "    * ```n_jobs``` is the number of cpu's to use in the computer (when the parameter is equal to -1 the model will use all the available cpu's)"
   ]
  },
  {
   "cell_type": "code",
   "execution_count": 40,
   "id": "7a08bfd4",
   "metadata": {},
   "outputs": [
    {
     "name": "stdout",
     "output_type": "stream",
     "text": [
      "              precision    recall  f1-score   support\n",
      "\n",
      "           0       0.80      0.11      0.20        70\n",
      "           1       0.74      0.99      0.85       180\n",
      "\n",
      "    accuracy                           0.74       250\n",
      "   macro avg       0.77      0.55      0.52       250\n",
      "weighted avg       0.76      0.74      0.67       250\n",
      "\n",
      "accuracy of the model is: 74.40 %\n"
     ]
    },
    {
     "data": {
      "text/plain": [
       "0.744"
      ]
     },
     "execution_count": 40,
     "metadata": {},
     "output_type": "execute_result"
    }
   ],
   "source": [
    "rnd_clf = RandomForestClassifier(\n",
    "    n_estimators=500,\n",
    "    max_leaf_nodes=16,\n",
    "    n_jobs=-1)\n",
    "\n",
    "# print accuracy\n",
    "print_accuracy(rnd_clf, X_train, X_test, y_train, y_test)"
   ]
  },
  {
   "cell_type": "code",
   "execution_count": 41,
   "id": "8c75bf04",
   "metadata": {},
   "outputs": [
    {
     "data": {
      "image/png": "[encoded data removed]",
      "text/plain": [
       "<Figure size 720x432 with 2 Axes>"
      ]
     },
     "metadata": {
      "needs_background": "light"
     },
     "output_type": "display_data"
    }
   ],
   "source": [
    "# plot the confusion matrix using the my_plot_confusion_matrix function\n",
    "my_plot_confusion_matrix(rnd_clf, X_test, y_test)"
   ]
  },
  {
   "cell_type": "markdown",
   "id": "1ac08e3a",
   "metadata": {},
   "source": [
    "# <i>Boosting</i>\n",
    "\n",
    "### Using AdaBoost:\n",
    "* Parameters:\n",
    "    * classifier to use\n",
    "    * ```n_estimators``` number of ensembles.\n",
    "    * ```algorithm``` version of AdaBoost.\n",
    "    * ```learning_rate``` minimize the cost of the function, gradually the lower is making it better."
   ]
  },
  {
   "cell_type": "code",
   "execution_count": 42,
   "id": "f93a4d5a",
   "metadata": {},
   "outputs": [
    {
     "name": "stdout",
     "output_type": "stream",
     "text": [
      "              precision    recall  f1-score   support\n",
      "\n",
      "           0       0.72      0.33      0.45        70\n",
      "           1       0.78      0.95      0.86       180\n",
      "\n",
      "    accuracy                           0.78       250\n",
      "   macro avg       0.75      0.64      0.66       250\n",
      "weighted avg       0.77      0.78      0.74       250\n",
      "\n",
      "accuracy of the model is: 77.60 %\n"
     ]
    },
    {
     "data": {
      "text/plain": [
       "0.776"
      ]
     },
     "execution_count": 42,
     "metadata": {},
     "output_type": "execute_result"
    }
   ],
   "source": [
    "a_ada_clf = AdaBoostClassifier(\n",
    "    DecisionTreeClassifier(max_depth=1),\n",
    "    n_estimators=200,\n",
    "    algorithm=\"SAMME.R\",\n",
    "    learning_rate=0.1)\n",
    "\n",
    "# print accuracy\n",
    "print_accuracy(a_ada_clf, X_train, X_test, y_train, y_test)"
   ]
  },
  {
   "cell_type": "code",
   "execution_count": 43,
   "id": "77c9be69",
   "metadata": {},
   "outputs": [
    {
     "data": {
      "image/png": "[encoded data removed]",
      "text/plain": [
       "<Figure size 720x432 with 2 Axes>"
      ]
     },
     "metadata": {
      "needs_background": "light"
     },
     "output_type": "display_data"
    }
   ],
   "source": [
    "# plot the confusion matrix using the my_plot_confusion_matrix function\n",
    "my_plot_confusion_matrix(a_ada_clf, X_test, y_test)"
   ]
  },
  {
   "cell_type": "markdown",
   "id": "b7f08ee2",
   "metadata": {},
   "source": [
    "### Trying the same with logistic regression but get the same accuracy:"
   ]
  },
  {
   "cell_type": "code",
   "execution_count": 44,
   "id": "3774557b",
   "metadata": {},
   "outputs": [
    {
     "name": "stdout",
     "output_type": "stream",
     "text": [
      "              precision    recall  f1-score   support\n",
      "\n",
      "           0       0.78      0.10      0.18        70\n",
      "           1       0.74      0.99      0.85       180\n",
      "\n",
      "    accuracy                           0.74       250\n",
      "   macro avg       0.76      0.54      0.51       250\n",
      "weighted avg       0.75      0.74      0.66       250\n",
      "\n",
      "accuracy of the model is: 74.00 %\n"
     ]
    },
    {
     "data": {
      "text/plain": [
       "0.74"
      ]
     },
     "execution_count": 44,
     "metadata": {},
     "output_type": "execute_result"
    }
   ],
   "source": [
    "b_ada_clf = AdaBoostClassifier(\n",
    "    LogisticRegression(),\n",
    "    n_estimators=200,\n",
    "    learning_rate=0.1)\n",
    "\n",
    "# print accuracy\n",
    "print_accuracy(b_ada_clf, X_train, X_test, y_train, y_test)"
   ]
  },
  {
   "cell_type": "code",
   "execution_count": 45,
   "id": "2c2ab47f",
   "metadata": {},
   "outputs": [
    {
     "data": {
      "image/png": "[encoded data removed]",
      "text/plain": [
       "<Figure size 720x432 with 2 Axes>"
      ]
     },
     "metadata": {
      "needs_background": "light"
     },
     "output_type": "display_data"
    }
   ],
   "source": [
    "# plot the confusion matrix using the my_plot_confusion_matrix function\n",
    "my_plot_confusion_matrix(b_ada_clf, X_test, y_test)"
   ]
  },
  {
   "cell_type": "markdown",
   "id": "380b64f3",
   "metadata": {},
   "source": [
    "### Using Gradient Boosting:"
   ]
  },
  {
   "cell_type": "code",
   "execution_count": 46,
   "id": "3d6bf681",
   "metadata": {},
   "outputs": [
    {
     "name": "stdout",
     "output_type": "stream",
     "text": [
      "              precision    recall  f1-score   support\n",
      "\n",
      "           0       0.74      0.37      0.50        70\n",
      "           1       0.80      0.95      0.87       180\n",
      "\n",
      "    accuracy                           0.79       250\n",
      "   macro avg       0.77      0.66      0.68       250\n",
      "weighted avg       0.78      0.79      0.76       250\n",
      "\n",
      "accuracy of the model is: 78.80 %\n"
     ]
    },
    {
     "data": {
      "text/plain": [
       "0.788"
      ]
     },
     "execution_count": 46,
     "metadata": {},
     "output_type": "execute_result"
    }
   ],
   "source": [
    "gbrt_clf = GradientBoostingClassifier(\n",
    "    max_depth=2,\n",
    "    n_estimators=200,\n",
    "    learning_rate=0.1)\n",
    "\n",
    "# print accuracy\n",
    "print_accuracy(gbrt_clf, X_train, X_test, y_train, y_test)"
   ]
  },
  {
   "cell_type": "code",
   "execution_count": 47,
   "id": "cd69b74b",
   "metadata": {},
   "outputs": [
    {
     "data": {
      "image/png": "[encoded data removed]",
      "text/plain": [
       "<Figure size 720x432 with 2 Axes>"
      ]
     },
     "metadata": {
      "needs_background": "light"
     },
     "output_type": "display_data"
    }
   ],
   "source": [
    "# plot the confusion matrix using the my_plot_confusion_matrix function\n",
    "my_plot_confusion_matrix(gbrt_clf, X_test, y_test)"
   ]
  },
  {
   "cell_type": "markdown",
   "id": "a15bf007",
   "metadata": {},
   "source": [
    "### Using Extreme Gradient Boosting:"
   ]
  },
  {
   "cell_type": "code",
   "execution_count": 48,
   "id": "655f758a",
   "metadata": {},
   "outputs": [
    {
     "name": "stdout",
     "output_type": "stream",
     "text": [
      "              precision    recall  f1-score   support\n",
      "\n",
      "           0       0.62      0.40      0.49        70\n",
      "           1       0.80      0.91      0.85       180\n",
      "\n",
      "    accuracy                           0.76       250\n",
      "   macro avg       0.71      0.65      0.67       250\n",
      "weighted avg       0.75      0.76      0.75       250\n",
      "\n",
      "accuracy of the model is: 76.40 %\n"
     ]
    },
    {
     "data": {
      "text/plain": [
       "0.764"
      ]
     },
     "execution_count": 48,
     "metadata": {},
     "output_type": "execute_result"
    }
   ],
   "source": [
    "xgb_model = xgb.XGBClassifier(\n",
    "    learning_rate=0.1,\n",
    "    n_estimators=200,\n",
    "    use_label_encoder=False,\n",
    "    objective=\"binary:logistic\",\n",
    "    eval_metric=\"auc\",\n",
    "    verbosity=1,\n",
    "    n_jobs=-1)\n",
    "\n",
    "# print accuracy\n",
    "print_accuracy(xgb_model, X_train, X_test, y_train, y_test)"
   ]
  },
  {
   "cell_type": "code",
   "execution_count": 49,
   "id": "639efb2e",
   "metadata": {},
   "outputs": [
    {
     "data": {
      "image/png": "[encoded data removed]",
      "text/plain": [
       "<Figure size 720x432 with 2 Axes>"
      ]
     },
     "metadata": {
      "needs_background": "light"
     },
     "output_type": "display_data"
    }
   ],
   "source": [
    "# plot the confusion matrix using the my_plot_confusion_matrix function\n",
    "my_plot_confusion_matrix(xgb_model, X_test, y_test)"
   ]
  },
  {
   "cell_type": "markdown",
   "id": "f991d132",
   "metadata": {},
   "source": [
    "## ROC curve:\n",
    "### **What is ROC curve?**\n",
    "\n",
    "The **ROC curve** summarizes the prediction performance of a classification model at all classification thresholds. Particularly, the ROC curve plots the **False Positive Rate (FPR)** on the *X-axis* and the **True Positive Rate (TPR)** on the *Y-axis*.\n",
    "\n",
    "$\\text{TPR (Sensitivity)} = \\frac{TP}{TP + FN}$\n",
    "\n",
    "$\\text{FPR (1 - Specificity)} = \\frac{FP}{TN + FP}$\n",
    "\n",
    "### **Prediction probabilities**"
   ]
  },
  {
   "cell_type": "code",
   "execution_count": 50,
   "id": "506f9e37",
   "metadata": {},
   "outputs": [
    {
     "name": "stdout",
     "output_type": "stream",
     "text": [
      "Random (chance) Prediction: AUROC = 0.500\n",
      "K-Neighbors Classifier: AUROC = 0.644\n",
      "Decision Tree Classifier: AUROC = 0.691\n",
      "Logistic Regression Classifier: AUROC = 0.775\n",
      "Soft Voting Classifier: AUROC = 0.714\n",
      "Bagging Classifier 1: AUROC = 0.743\n",
      "Bagging Classifier 2: AUROC = 0.757\n",
      "Bagging Classifier 3: AUROC = 0.741\n",
      "Bagging Classifier 4: AUROC = 0.753\n",
      "Bagging Classifier 5: AUROC = 0.770\n",
      "Random Forest Classifier: AUROC = 0.766\n",
      "AdaBoost Classifier 1: AUROC = 0.778\n",
      "AdaBoost Classifier 2: AUROC = 0.779\n",
      "Gradient Boosting Classifier: AUROC = 0.754\n",
      "Extreme Gradient Boosting Classifier: AUROC = 0.715\n"
     ]
    }
   ],
   "source": [
    "# Random (chance) Prediction in the ROC plot (the middle straight line)\n",
    "r_probs = [0 for _ in range(len(y_test))]\n",
    "\n",
    "# calculate probabilities for each classifier\n",
    "nclf_probs = nclf.predict_proba(X_test)\n",
    "dclf_probs = dclf.predict_proba(X_test)\n",
    "lclf_probs = lclf.predict_proba(X_test)\n",
    "\n",
    "# hard_voting_clf_probs = hard_voting_clf.predict_proba(X_test)\n",
    "# Raise an Error: AttributeError: predict_proba is not available when voting='hard'\n",
    "\n",
    "soft_voting_clf_probs = soft_voting_clf.predict_proba(X_test)\n",
    "a_bag_clf_probs = a_bag_clf.predict_proba(X_test)\n",
    "b_bag_clf_probs = b_bag_clf.predict_proba(X_test)\n",
    "c_bag_clf_probs = c_bag_clf.predict_proba(X_test)\n",
    "d_bag_clf_probs = d_bag_clf.predict_proba(X_test)\n",
    "e_bag_clf_probs = e_bag_clf.predict_proba(X_test)\n",
    "rnd_clf_probs = rnd_clf.predict_proba(X_test)\n",
    "a_ada_clf_probs = a_ada_clf.predict_proba(X_test)\n",
    "b_ada_clf_probs = b_ada_clf.predict_proba(X_test)\n",
    "gbrt_clf_probs = gbrt_clf.predict_proba(X_test)\n",
    "xgb_model_probs = xgb_model.predict_proba(X_test)\n",
    "\n",
    "# for each probabilities for a classifier data change from nested list to one list\n",
    "nclf_probs = nclf_probs[:, 1]\n",
    "dclf_probs = dclf_probs[:, 1]\n",
    "lclf_probs = lclf_probs[:, 1]\n",
    "soft_voting_clf_probs = soft_voting_clf_probs[:, 1]\n",
    "a_bag_clf_probs = a_bag_clf_probs[:, 1]\n",
    "b_bag_clf_probs = b_bag_clf_probs[:, 1]\n",
    "c_bag_clf_probs = c_bag_clf_probs[:, 1]\n",
    "d_bag_clf_probs = d_bag_clf_probs[:, 1]\n",
    "e_bag_clf_probs = e_bag_clf_probs[:, 1]\n",
    "rnd_clf_probs = rnd_clf_probs[:, 1]\n",
    "a_ada_clf_probs = a_ada_clf_probs[:, 1]\n",
    "b_ada_clf_probs = b_ada_clf_probs[:, 1]\n",
    "gbrt_clf_probs = gbrt_clf_probs[:, 1]\n",
    "xgb_model_probs = xgb_model_probs[:, 1]\n",
    "\n",
    "# ROC is the receiver operating characteristic AUROC is the area under the ROC curve\n",
    "# get accuracy for each classifier from the test data and the probabilities data\n",
    "r_auc = roc_auc_score(y_test, r_probs)\n",
    "nclf_auc = roc_auc_score(y_test, nclf_probs)\n",
    "dclf_auc = roc_auc_score(y_test, dclf_probs)\n",
    "lclf_auc = roc_auc_score(y_test, lclf_probs)\n",
    "soft_voting_clf_auc = roc_auc_score(y_test, soft_voting_clf_probs)\n",
    "a_bag_clf_auc = roc_auc_score(y_test, a_bag_clf_probs)\n",
    "b_bag_clf_auc = roc_auc_score(y_test, b_bag_clf_probs)\n",
    "c_bag_clf_auc = roc_auc_score(y_test, c_bag_clf_probs)\n",
    "d_bag_clf_auc = roc_auc_score(y_test, d_bag_clf_probs)\n",
    "e_bag_clf_auc = roc_auc_score(y_test, e_bag_clf_probs)\n",
    "rnd_clf_auc = roc_auc_score(y_test, rnd_clf_probs)\n",
    "a_ada_clf_auc = roc_auc_score(y_test, a_ada_clf_probs)\n",
    "b_ada_clf_auc = roc_auc_score(y_test, b_ada_clf_probs)\n",
    "gbrt_clf_auc = roc_auc_score(y_test, gbrt_clf_probs)\n",
    "xgb_model_auc = roc_auc_score(y_test, xgb_model_probs)\n",
    "\n",
    "classifiers_auc = {\n",
    "    'Random (chance) Prediction' : (r_auc),\n",
    "    'K-Neighbors Classifier' : (nclf_auc),\n",
    "    'Decision Tree Classifier' : (dclf_auc),\n",
    "    'Logistic Regression Classifier' : (lclf_auc),\n",
    "    'Soft Voting Classifier' : (soft_voting_clf_auc),\n",
    "    'Bagging Classifier 1' : (a_bag_clf_auc),\n",
    "    'Bagging Classifier 2' : (b_bag_clf_auc),\n",
    "    'Bagging Classifier 3' : (c_bag_clf_auc),\n",
    "    'Bagging Classifier 4' : (d_bag_clf_auc),\n",
    "    'Bagging Classifier 5' : (e_bag_clf_auc),\n",
    "    'Random Forest Classifier' : (rnd_clf_auc),\n",
    "    'AdaBoost Classifier 1' : (a_ada_clf_auc),\n",
    "    'AdaBoost Classifier 2' : (b_ada_clf_auc),\n",
    "    'Gradient Boosting Classifier' : (gbrt_clf_auc),\n",
    "    'Extreme Gradient Boosting Classifier' : (xgb_model_auc)\n",
    "}\n",
    "\n",
    "# print to see the AUROC for each classifier\n",
    "for key, value in classifiers_auc.items():\n",
    "    print((key + \": AUROC = %.3f\") % value)"
   ]
  },
  {
   "cell_type": "code",
   "execution_count": 51,
   "id": "a50efd9e",
   "metadata": {},
   "outputs": [],
   "source": [
    "# Calculate ROC curve\n",
    "# tpr = TP/(TP+FN) (Sensitivity)\n",
    "# fpr = FP/(TN+FP) (1 - Specificity)\n",
    "r_fpr, r_tpr, _ = roc_curve(y_test, r_probs)\n",
    "nclf_fpr, nclf_tpr, _ = roc_curve(y_test, nclf_probs)\n",
    "dclf_fpr, dclf_tpr, _ = roc_curve(y_test, dclf_probs)\n",
    "lclf_fpr, lclf_tpr, _ = roc_curve(y_test, lclf_probs)\n",
    "soft_voting_clf_tpr, soft_voting_clf_fpr, _ = roc_curve(y_test, soft_voting_clf_probs)\n",
    "a_bag_clf_fpr, a_bag_clf_tpr, _ = roc_curve(y_test, a_bag_clf_probs)\n",
    "b_bag_clf_fpr, b_bag_clf_tpr, _ = roc_curve(y_test, b_bag_clf_probs)\n",
    "c_bag_clf_fpr, c_bag_clf_tpr, _ = roc_curve(y_test, c_bag_clf_probs)\n",
    "d_bag_clf_fpr, d_bag_clf_tpr, _ = roc_curve(y_test, d_bag_clf_probs)\n",
    "e_bag_clf_fpr, e_bag_clf_tpr, _ = roc_curve(y_test, e_bag_clf_probs)\n",
    "rnd_clf_fpr, rnd_clf_tpr, _ = roc_curve(y_test, rnd_clf_probs)\n",
    "a_ada_clf_fpr, a_ada_clf_tpr, _ = roc_curve(y_test, a_ada_clf_probs)\n",
    "b_ada_clf_fpr, b_ada_clf_tpr, _ = roc_curve(y_test, b_ada_clf_probs)\n",
    "gbrt_clf_fpr, gbrt_clf_tpr, _ = roc_curve(y_test, gbrt_clf_probs)\n",
    "xgb_model_fpr, xgb_model_tpr, _ = roc_curve(y_test, xgb_model_probs)"
   ]
  },
  {
   "cell_type": "code",
   "execution_count": 52,
   "id": "29f49c86",
   "metadata": {},
   "outputs": [
    {
     "data": {
      "image/png": "[encoded data removed]",
      "text/plain": [
       "<Figure size 720x720 with 1 Axes>"
      ]
     },
     "metadata": {
      "needs_background": "light"
     },
     "output_type": "display_data"
    }
   ],
   "source": [
    "# set the size of the figure\n",
    "plt.figure(figsize=(10, 10))\n",
    "\n",
    "# for each classifier plot the ROC curve\n",
    "plt.plot(r_fpr, r_tpr, linestyle='--', label='Random (chance) Prediction: AUROC = %.3f' % (r_auc))\n",
    "plt.plot(nclf_fpr, nclf_tpr, marker='.', label='K-Neighbors Classifier: AUROC = %.3f' % (nclf_auc))\n",
    "plt.plot(dclf_fpr, dclf_tpr, marker='.', label='Decision Tree Classifier: AUROC = %.3f' % (dclf_auc))\n",
    "plt.plot(lclf_fpr, lclf_tpr, marker='.', label='Logistic Regression Classifier: AUROC = %.3f' % (lclf_auc))\n",
    "plt.plot(soft_voting_clf_tpr, soft_voting_clf_tpr, marker='.', label='Soft Voting Classifier: AUROC = %.3f' % (soft_voting_clf_auc))\n",
    "plt.plot(a_bag_clf_fpr, a_bag_clf_tpr, marker='.', label='Bagging Classifier 1: AUROC = %.3f' % (a_bag_clf_auc))\n",
    "plt.plot(b_bag_clf_fpr, b_bag_clf_tpr, marker='.', label='Bagging Classifier 2: AUROC = %.3f' % (b_bag_clf_auc))\n",
    "plt.plot(c_bag_clf_fpr, c_bag_clf_tpr, marker='.', label='Bagging Classifier 3: AUROC = %.3f' % (c_bag_clf_auc))\n",
    "plt.plot(d_bag_clf_fpr, d_bag_clf_tpr, marker='.', label='Bagging Classifier 4: AUROC = %.3f' % (d_bag_clf_auc))\n",
    "plt.plot(e_bag_clf_fpr, e_bag_clf_tpr, marker='.', label='Bagging Classifier 5: AUROC = %.3f' % (e_bag_clf_auc))\n",
    "plt.plot(rnd_clf_fpr, rnd_clf_tpr, marker='.', label='Random Forest Classifier: AUROC = %.3f' % (rnd_clf_auc))\n",
    "plt.plot(a_ada_clf_fpr, a_ada_clf_tpr, marker='.', label='AdaBoost Classifier 1: AUROC = %.3f' % (a_ada_clf_auc))\n",
    "plt.plot(b_ada_clf_fpr, b_ada_clf_tpr, marker='.', label='AdaBoost Classifier 2: AUROC = %.3f' % (b_ada_clf_auc))\n",
    "plt.plot(gbrt_clf_fpr, gbrt_clf_tpr, marker='.', label='Gradient Boosting Classifier: AUROC = %.3f' % (gbrt_clf_auc))\n",
    "plt.plot(xgb_model_fpr, xgb_model_tpr, marker='.', label='Extreme Gradient Boosting Classifier: AUROC = %.3f' % (xgb_model_auc))\n",
    "\n",
    "# Title\n",
    "plt.title('ROC Plot')\n",
    "\n",
    "# Axis labels\n",
    "plt.xlabel('False Positive Rate')\n",
    "plt.ylabel('True Positive Rate')\n",
    "\n",
    "# Show legend\n",
    "plt.legend()\n",
    "\n",
    "# Show plot\n",
    "plt.show()"
   ]
  },
  {
   "cell_type": "markdown",
   "id": "db2b6825",
   "metadata": {},
   "source": [
    "## The model with the best accuracy  from what i tested:"
   ]
  },
  {
   "cell_type": "code",
   "execution_count": 53,
   "id": "2802794e",
   "metadata": {},
   "outputs": [
    {
     "name": "stdout",
     "output_type": "stream",
     "text": [
      "\n",
      "The classifier with the maximum accuracy is: AdaBoost Classifier 2, with the accuracy of: 77.92 %\n"
     ]
    }
   ],
   "source": [
    "max_accuracy_classifier = max(classifiers_auc, key=classifiers_auc.get)\n",
    "print(\"\\nThe classifier with the maximum accuracy is: {}, with the accuracy of: {} %\".format(max_accuracy_classifier, \"%.2f\" % (100 * classifiers_auc[max_accuracy_classifier])))"
   ]
  },
  {
   "cell_type": "markdown",
   "id": "f832d292",
   "metadata": {},
   "source": [
    "# <i>Conclusions</i>:\n",
    "\n",
    "### So far I have tried to build an ensemble learning model that will work with higher accuracy than other simple models, you can see that we have not been able to reach a higher accuracy dramatically,\n",
    "### But as we can see the classifier with the maximum accuracy is AdaBoost Classifier Using LogisticRegression, 200 estimators and 0.5 learning_rate with the accuracy of ~ 78 % !"
   ]
  }
 ],
 "metadata": {
  "kernelspec": {
   "display_name": "Python 3",
   "language": "python",
   "name": "python3"
  },
  "language_info": {
   "codemirror_mode": {
    "name": "ipython",
    "version": 3
   },
   "file_extension": ".py",
   "mimetype": "text/x-python",
   "name": "python",
   "nbconvert_exporter": "python",
   "pygments_lexer": "ipython3",
   "version": "3.8.10"
  }
 },
 "nbformat": 4,
 "nbformat_minor": 5
}
