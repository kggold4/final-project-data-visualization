{
 "cells": [
  {
   "cell_type": "markdown",
   "id": "222a951b",
   "metadata": {},
   "source": [
    "# Data Visualiztion Course Final Projet\n",
    "> by Kfir Goldfarb\n",
    "\n",
    "<a href=\"https://github.com/kggold4\"><img src=\"images/github.png\" width=\"25px\" height=\"25px\" align=\"left\"></a>\n",
    "<a href=\"https://www.linkedin.com/in/kfir-goldfarb/\"><img src=\"images/in.png\"  width=\"25px\" height=\"25px\" align=\"left\"></a>\n",
    "<a href=\"mailto:kfir.goldfarb@msmail.ariel.ac.il\"><img src=\"images/email.png\" width=\"25px\" height=\"25px\" align=\"left\"></a>\n",
    "<a href=\"https://www.youtube.com/channel/UCypEWlruyG_I5A48GqB5c6g\"><img src=\"images/youtube.png\" width=\"25px\" height=\"25px\" align=\"left\"></a>\n",
    "<a href=\"https://www.hackerrank.com/kggold4?hr_r=1\"><img src=\"images/hackerrank.png\" width=\"25px\" height=\"25px\" align=\"left\"></a>\n",
    "<a href=\"https://stackoverflow.com/users/14749277/kfir-goldfarb\"><img src=\"images/stackoverflow.png\" width=\"25px\" height=\"25px\" align=\"left\"></a>\n",
    "\n",
    "\n",
    "<br>\n",
    "\n",
    "# Jupyter Notebook Number 3\n",
    "<i>Dimensionality Reduction, PCA and Classification using ensemble and usupervised learning for Cat & Dog dataset</i>\n",
    "\n",
    "## In this notebook I tested Cat & Dog dataset classification models on three different dimensionality and images size:\n",
    "\n",
    "1. 335-PCA Components with 100^100 pixels images (grey scale)\n",
    "2. 300-PCA Components with 30^30 pixels images (no grey scale)\n",
    "3. 185-PCA Components with 30^30 pixels images (no grey scale)"
   ]
  },
  {
   "cell_type": "code",
   "execution_count": 1,
   "id": "ec6945a1",
   "metadata": {},
   "outputs": [],
   "source": [
    "# Data Science libraries\n",
    "import pandas as pd\n",
    "import numpy as np\n",
    "\n",
    "# Graphical libraries\n",
    "import matplotlib.pyplot as plt\n",
    "%matplotlib inline\n",
    "import plotly.graph_objs as go\n",
    "import plotly.offline as py\n",
    "import seaborn as sns\n",
    "import cv2\n",
    "\n",
    "# Main libraries\n",
    "import os\n",
    "import random\n",
    "import warnings\n",
    "from zipfile import ZipFile as zf\n",
    "warnings.filterwarnings('ignore')\n",
    "warnings.simplefilter('ignore')\n",
    "\n",
    "# sklearn tools\n",
    "from sklearn.metrics import confusion_matrix\n",
    "from sklearn.metrics import plot_confusion_matrix\n",
    "from sklearn.metrics import classification_report\n",
    "from sklearn.metrics import accuracy_score\n",
    "from sklearn.model_selection import train_test_split\n",
    "from sklearn.model_selection import cross_val_score\n",
    "from sklearn.model_selection import GridSearchCV\n",
    "\n",
    "# basic models\n",
    "from sklearn.neighbors import KNeighborsClassifier\n",
    "from sklearn.tree import DecisionTreeClassifier\n",
    "from sklearn.linear_model import LogisticRegression\n",
    "\n",
    "# sklearn\n",
    "from sklearn.decomposition import PCA\n",
    "from sklearn.cluster import KMeans\n",
    "from sklearn.preprocessing import normalize\n",
    "from sklearn.preprocessing import StandardScaler\n",
    "\n",
    "# ensemble\n",
    "from sklearn.ensemble import VotingClassifier\n",
    "from sklearn.ensemble import BaggingClassifier\n",
    "from sklearn.ensemble import RandomForestClassifier\n",
    "from sklearn.ensemble import AdaBoostClassifier\n",
    "from sklearn.ensemble import GradientBoostingClassifier\n",
    "import xgboost as xgb"
   ]
  },
  {
   "cell_type": "markdown",
   "id": "8d4a8017",
   "metadata": {},
   "source": [
    "### <i>Helping Functions I Wrote:</i>"
   ]
  },
  {
   "cell_type": "code",
   "execution_count": 2,
   "id": "5e4c96de",
   "metadata": {},
   "outputs": [],
   "source": [
    "# function that print the accuracy of a classification model\n",
    "def print_accuracy(clf, X_train, X_test, y_train, y_test):\n",
    "    # fit the train data to the model\n",
    "    clf.fit(X_train, y_train)\n",
    "\n",
    "    # get the pridictions of X_test\n",
    "    pridictions = clf.predict(X_test)\n",
    "    probabilities = clf.predict_proba(X_test)\n",
    "    probabilities = probabilities[:, 1]\n",
    "\n",
    "    # get the accuracy of the model\n",
    "    accuracy = clf.score(X_test, y_test)\n",
    "\n",
    "    # print the accuracy\n",
    "    print(classification_report(y_test, pridictions))\n",
    "    print('accuracy of the model is: {} %'.format(\"%.2f\" % (accuracy * 100)))\n",
    "    return accuracy"
   ]
  },
  {
   "cell_type": "code",
   "execution_count": 3,
   "id": "35c56d4a",
   "metadata": {},
   "outputs": [],
   "source": [
    "# function of ploting the confusion_matrix\n",
    "def my_plot_confusion_matrix(clf, X_test, y_test):\n",
    "\n",
    "    # get the confusion_matrix for ploting\n",
    "    matrix = plot_confusion_matrix(clf, X_test, y_test, cmap=plt.cm.Blues)\n",
    "\n",
    "    # main title\n",
    "    matrix.ax_.set_title('Confusion matrix')\n",
    "\n",
    "    # x label\n",
    "    plt.xlabel('Predicted Label')\n",
    "\n",
    "    # y label\n",
    "    plt.ylabel('True label')\n",
    "\n",
    "    # size of the figure\n",
    "    plt.gcf().set_size_inches(10, 6)\n",
    "\n",
    "    # show plot\n",
    "    plt.show()"
   ]
  },
  {
   "cell_type": "code",
   "execution_count": 4,
   "id": "7597139c",
   "metadata": {},
   "outputs": [],
   "source": [
    "# saving the result of all components in:\n",
    "components_accuracy = []"
   ]
  },
  {
   "cell_type": "code",
   "execution_count": 5,
   "id": "f78fc2b3",
   "metadata": {},
   "outputs": [],
   "source": [
    "# images size\n",
    "IMAGE_SIZE = 100\n",
    "\n",
    "# path of the images of the cats vs dogs data\n",
    "PATH = \"data/task_3/train\"\n",
    "\n",
    "# Creating a dataframe that contains all of our images names with his label (0 - 'cat', 1 - 'dog')\n",
    "images = os.listdir(PATH)\n",
    "label = []\n",
    "\n",
    "for image in images:\n",
    "    if 'cat' in image:\n",
    "        label.append(0)\n",
    "    else:\n",
    "        label.append(1)\n",
    "        \n",
    "dogs_cats = {'image' : images, 'label' : label}\n",
    "dogs_cats = pd.DataFrame(dogs_cats)\n",
    "\n",
    "# mixing data\n",
    "dogs_cats = dogs_cats.sample(frac = 1).reset_index(drop=True)"
   ]
  },
  {
   "cell_type": "code",
   "execution_count": 6,
   "id": "26839519",
   "metadata": {},
   "outputs": [
    {
     "data": {
      "text/html": [
       "<div>\n",
       "<style scoped>\n",
       "    .dataframe tbody tr th:only-of-type {\n",
       "        vertical-align: middle;\n",
       "    }\n",
       "\n",
       "    .dataframe tbody tr th {\n",
       "        vertical-align: top;\n",
       "    }\n",
       "\n",
       "    .dataframe thead th {\n",
       "        text-align: right;\n",
       "    }\n",
       "</style>\n",
       "<table border=\"1\" class=\"dataframe\">\n",
       "  <thead>\n",
       "    <tr style=\"text-align: right;\">\n",
       "      <th></th>\n",
       "      <th>image</th>\n",
       "      <th>label</th>\n",
       "    </tr>\n",
       "  </thead>\n",
       "  <tbody>\n",
       "    <tr>\n",
       "      <th>0</th>\n",
       "      <td>dog.5377.jpg</td>\n",
       "      <td>1</td>\n",
       "    </tr>\n",
       "    <tr>\n",
       "      <th>1</th>\n",
       "      <td>cat.7772.jpg</td>\n",
       "      <td>0</td>\n",
       "    </tr>\n",
       "    <tr>\n",
       "      <th>2</th>\n",
       "      <td>dog.12206.jpg</td>\n",
       "      <td>1</td>\n",
       "    </tr>\n",
       "    <tr>\n",
       "      <th>3</th>\n",
       "      <td>cat.3483.jpg</td>\n",
       "      <td>0</td>\n",
       "    </tr>\n",
       "    <tr>\n",
       "      <th>4</th>\n",
       "      <td>cat.12131.jpg</td>\n",
       "      <td>0</td>\n",
       "    </tr>\n",
       "    <tr>\n",
       "      <th>...</th>\n",
       "      <td>...</td>\n",
       "      <td>...</td>\n",
       "    </tr>\n",
       "    <tr>\n",
       "      <th>24995</th>\n",
       "      <td>dog.416.jpg</td>\n",
       "      <td>1</td>\n",
       "    </tr>\n",
       "    <tr>\n",
       "      <th>24996</th>\n",
       "      <td>dog.5020.jpg</td>\n",
       "      <td>1</td>\n",
       "    </tr>\n",
       "    <tr>\n",
       "      <th>24997</th>\n",
       "      <td>cat.364.jpg</td>\n",
       "      <td>0</td>\n",
       "    </tr>\n",
       "    <tr>\n",
       "      <th>24998</th>\n",
       "      <td>cat.5128.jpg</td>\n",
       "      <td>0</td>\n",
       "    </tr>\n",
       "    <tr>\n",
       "      <th>24999</th>\n",
       "      <td>cat.1334.jpg</td>\n",
       "      <td>0</td>\n",
       "    </tr>\n",
       "  </tbody>\n",
       "</table>\n",
       "<p>25000 rows × 2 columns</p>\n",
       "</div>"
      ],
      "text/plain": [
       "               image  label\n",
       "0       dog.5377.jpg      1\n",
       "1       cat.7772.jpg      0\n",
       "2      dog.12206.jpg      1\n",
       "3       cat.3483.jpg      0\n",
       "4      cat.12131.jpg      0\n",
       "...              ...    ...\n",
       "24995    dog.416.jpg      1\n",
       "24996   dog.5020.jpg      1\n",
       "24997    cat.364.jpg      0\n",
       "24998   cat.5128.jpg      0\n",
       "24999   cat.1334.jpg      0\n",
       "\n",
       "[25000 rows x 2 columns]"
      ]
     },
     "execution_count": 6,
     "metadata": {},
     "output_type": "execute_result"
    }
   ],
   "source": [
    "# show first and last five samples of our data\n",
    "dogs_cats"
   ]
  },
  {
   "cell_type": "markdown",
   "id": "0763495c",
   "metadata": {},
   "source": [
    "# 100^2 Pixels with grey scale and PCA of 335 Components:"
   ]
  },
  {
   "cell_type": "code",
   "execution_count": 7,
   "id": "b0658f06",
   "metadata": {},
   "outputs": [
    {
     "data": {
      "text/plain": [
       "<matplotlib.image.AxesImage at 0x270f7eaa130>"
      ]
     },
     "execution_count": 7,
     "metadata": {},
     "output_type": "execute_result"
    },
    {
     "data": {
      "image/png": "[encoded data removed]",
      "text/plain": [
       "<Figure size 432x288 with 1 Axes>"
      ]
     },
     "metadata": {
      "needs_background": "light"
     },
     "output_type": "display_data"
    }
   ],
   "source": [
    "# printing a random image from the data\n",
    "random_image_name = random.choice(dogs_cats.image)\n",
    "random_image = cv2.imread(PATH + '/' + str(random_image_name))\n",
    "random_image = cv2.resize(random_image, (IMAGE_SIZE, IMAGE_SIZE))\n",
    "random_image = cv2.cvtColor(random_image, cv2.COLOR_RGB2GRAY)\n",
    "plt.imshow(random_image)"
   ]
  },
  {
   "cell_type": "code",
   "execution_count": 8,
   "id": "64c5d2cf",
   "metadata": {},
   "outputs": [],
   "source": [
    "image_data  = []\n",
    "image_label = []\n",
    "\n",
    "for i in range(len(dogs_cats)):\n",
    "    IMAGE_PATH = PATH + '/' + dogs_cats[\"image\"][i]\n",
    "    image = cv2.imread(IMAGE_PATH, cv2.IMREAD_GRAYSCALE)\n",
    "    image = cv2.resize(image, (IMAGE_SIZE, IMAGE_SIZE))\n",
    "    \n",
    "    norm_image = image / 255.0\n",
    "    \n",
    "    image_data.append(norm_image)\n",
    "    image_label.append(dogs_cats[\"label\"][i])\n",
    "\n",
    "X = np.array(image_data)\n",
    "y = np.array(image_label)\n",
    "\n",
    "# reshape X from 3D shape to 2D shape\n",
    "X = X.reshape(-1, IMAGE_SIZE * IMAGE_SIZE)"
   ]
  },
  {
   "cell_type": "code",
   "execution_count": 9,
   "id": "a3a93600",
   "metadata": {},
   "outputs": [
    {
     "data": {
      "text/plain": [
       "(25000, 10000)"
      ]
     },
     "execution_count": 9,
     "metadata": {},
     "output_type": "execute_result"
    }
   ],
   "source": [
    "X.shape"
   ]
  },
  {
   "cell_type": "code",
   "execution_count": 10,
   "id": "af256f83",
   "metadata": {},
   "outputs": [
    {
     "data": {
      "text/plain": [
       "(25000,)"
      ]
     },
     "execution_count": 10,
     "metadata": {},
     "output_type": "execute_result"
    }
   ],
   "source": [
    "y.shape"
   ]
  },
  {
   "cell_type": "code",
   "execution_count": 11,
   "id": "527e0fb3",
   "metadata": {},
   "outputs": [],
   "source": [
    "# split data to 20000 train samples and 5000 to test samples\n",
    "X_train, X_test, y_train, y_test = train_test_split(X, y, test_size=0.20)"
   ]
  },
  {
   "cell_type": "code",
   "execution_count": 12,
   "id": "a9cedf09",
   "metadata": {},
   "outputs": [
    {
     "data": {
      "text/plain": [
       "(20000, 10000)"
      ]
     },
     "execution_count": 12,
     "metadata": {},
     "output_type": "execute_result"
    }
   ],
   "source": [
    "# train shape is 20000 on 100^2 pixels\n",
    "X_train.shape"
   ]
  },
  {
   "cell_type": "code",
   "execution_count": 13,
   "id": "b3e4a15a",
   "metadata": {},
   "outputs": [
    {
     "name": "stdout",
     "output_type": "stream",
     "text": [
      "shape of 2 component PCA train data is: (20000, 334)\n",
      "shape of 2 component PCA test data is: (5000, 334)\n"
     ]
    }
   ],
   "source": [
    "pca_components = PCA(n_components=0.9)\n",
    "X_transformed_train = pca_components.fit(X_train).transform(X_train)\n",
    "X_transformed_test = pca_components.transform(X_test)\n",
    "print(\"shape of 2 component PCA train data is:\", X_transformed_train.shape)\n",
    "print(\"shape of 2 component PCA test data is:\", X_transformed_test.shape)"
   ]
  },
  {
   "cell_type": "code",
   "execution_count": 14,
   "id": "dcf127f9",
   "metadata": {},
   "outputs": [
    {
     "data": {
      "text/plain": [
       "array([2.00929948e-01, 1.12241920e-01, 7.59635543e-02, 6.12917085e-02,\n",
       "       3.16072070e-02, 2.81553888e-02, 2.37025075e-02, 2.03368005e-02,\n",
       "       1.83113385e-02, 1.46598103e-02, 1.31684857e-02, 1.22610458e-02,\n",
       "       1.05643487e-02, 8.88801392e-03, 8.26643430e-03, 7.97642711e-03,\n",
       "       7.22093651e-03, 7.17402659e-03, 6.65713670e-03, 6.11542729e-03,\n",
       "       5.26381135e-03, 5.16335638e-03, 4.89244721e-03, 4.65340074e-03,\n",
       "       4.58044368e-03, 4.04242972e-03, 3.99463513e-03, 3.82829800e-03,\n",
       "       3.63573505e-03, 3.45845598e-03, 3.43856106e-03, 3.34495799e-03,\n",
       "       3.27608408e-03, 3.03757106e-03, 2.85906259e-03, 2.77076077e-03,\n",
       "       2.74144629e-03, 2.60394761e-03, 2.47585252e-03, 2.40980245e-03,\n",
       "       2.30112997e-03, 2.28689401e-03, 2.24786728e-03, 2.20389763e-03,\n",
       "       2.10430194e-03, 2.08849453e-03, 2.00844870e-03, 1.99368321e-03,\n",
       "       1.90036473e-03, 1.85277422e-03, 1.80697145e-03, 1.76464586e-03,\n",
       "       1.73585045e-03, 1.66867506e-03, 1.65636058e-03, 1.63516192e-03,\n",
       "       1.56031945e-03, 1.53192468e-03, 1.46318060e-03, 1.43511406e-03,\n",
       "       1.41956115e-03, 1.39483653e-03, 1.35442316e-03, 1.31518393e-03,\n",
       "       1.30960411e-03, 1.29913767e-03, 1.28572356e-03, 1.26499358e-03,\n",
       "       1.19904608e-03, 1.19209141e-03, 1.17759752e-03, 1.14510786e-03,\n",
       "       1.11972779e-03, 1.10877227e-03, 1.10346604e-03, 1.08815940e-03,\n",
       "       1.07371206e-03, 1.04478962e-03, 1.03385768e-03, 1.01136571e-03,\n",
       "       1.00692146e-03, 9.70533889e-04, 9.54086701e-04, 9.40950402e-04,\n",
       "       9.37195477e-04, 9.13001392e-04, 9.03096695e-04, 8.88830642e-04,\n",
       "       8.76236256e-04, 8.66207036e-04, 8.55110211e-04, 8.35960760e-04,\n",
       "       8.26706655e-04, 8.20054482e-04, 8.13846721e-04, 7.94796179e-04,\n",
       "       7.79134857e-04, 7.76406977e-04, 7.72933994e-04, 7.51960989e-04,\n",
       "       7.35721872e-04, 7.30842042e-04, 7.27947306e-04, 7.02766306e-04,\n",
       "       6.96418983e-04, 6.92184255e-04, 6.74413868e-04, 6.67819029e-04,\n",
       "       6.64884810e-04, 6.59787995e-04, 6.58388517e-04, 6.47798447e-04,\n",
       "       6.36466360e-04, 6.27761557e-04, 6.21374499e-04, 6.10490661e-04,\n",
       "       6.08160742e-04, 6.02538649e-04, 5.93281216e-04, 5.89872036e-04,\n",
       "       5.80847232e-04, 5.71963051e-04, 5.69126276e-04, 5.67611737e-04,\n",
       "       5.56492865e-04, 5.50047536e-04, 5.46274970e-04, 5.44527626e-04,\n",
       "       5.38264449e-04, 5.31506196e-04, 5.28443725e-04, 5.21289232e-04,\n",
       "       5.17290450e-04, 5.11188497e-04, 5.05451187e-04, 5.04158036e-04,\n",
       "       4.93604681e-04, 4.82083893e-04, 4.81343696e-04, 4.76546482e-04,\n",
       "       4.70951176e-04, 4.70005373e-04, 4.66058159e-04, 4.56229849e-04,\n",
       "       4.54831784e-04, 4.51678672e-04, 4.46734863e-04, 4.41709711e-04,\n",
       "       4.40697041e-04, 4.37328307e-04, 4.31608908e-04, 4.29651689e-04,\n",
       "       4.27466045e-04, 4.25202031e-04, 4.21790615e-04, 4.16486190e-04,\n",
       "       4.08311075e-04, 4.06662421e-04, 4.02133335e-04, 3.96715823e-04,\n",
       "       3.95790962e-04, 3.94972789e-04, 3.88894266e-04, 3.87210543e-04,\n",
       "       3.81087214e-04, 3.79472788e-04, 3.73893003e-04, 3.73685750e-04,\n",
       "       3.68891189e-04, 3.64987665e-04, 3.63321669e-04, 3.61533474e-04,\n",
       "       3.56945996e-04, 3.54173050e-04, 3.51400934e-04, 3.49296988e-04,\n",
       "       3.47572674e-04, 3.46361543e-04, 3.45629602e-04, 3.41315247e-04,\n",
       "       3.38692509e-04, 3.37707942e-04, 3.34526501e-04, 3.29462011e-04,\n",
       "       3.28024381e-04, 3.23141191e-04, 3.20999926e-04, 3.19075774e-04,\n",
       "       3.17499004e-04, 3.16910980e-04, 3.15514693e-04, 3.11938037e-04,\n",
       "       3.10454735e-04, 3.08183625e-04, 3.05867416e-04, 3.03857450e-04,\n",
       "       2.99966047e-04, 2.99303320e-04, 2.96848409e-04, 2.95350811e-04,\n",
       "       2.93627592e-04, 2.90525700e-04, 2.88637138e-04, 2.87561626e-04,\n",
       "       2.85817772e-04, 2.84024664e-04, 2.82720662e-04, 2.80872983e-04,\n",
       "       2.79832530e-04, 2.78381557e-04, 2.75295054e-04, 2.72291112e-04,\n",
       "       2.71573908e-04, 2.70492992e-04, 2.68551323e-04, 2.66389977e-04,\n",
       "       2.64636726e-04, 2.62399000e-04, 2.60162226e-04, 2.59878149e-04,\n",
       "       2.57667648e-04, 2.56552632e-04, 2.54591574e-04, 2.53142740e-04,\n",
       "       2.52153813e-04, 2.50083718e-04, 2.49885215e-04, 2.49044587e-04,\n",
       "       2.46581369e-04, 2.43761519e-04, 2.41733284e-04, 2.41175408e-04,\n",
       "       2.40065031e-04, 2.37469236e-04, 2.37092708e-04, 2.35790796e-04,\n",
       "       2.33412375e-04, 2.31841441e-04, 2.31546009e-04, 2.30160055e-04,\n",
       "       2.28789634e-04, 2.27159020e-04, 2.25522519e-04, 2.24529704e-04,\n",
       "       2.23757529e-04, 2.22252558e-04, 2.21744275e-04, 2.19835212e-04,\n",
       "       2.19054120e-04, 2.17781455e-04, 2.17220019e-04, 2.16467565e-04,\n",
       "       2.14062032e-04, 2.13608922e-04, 2.12126556e-04, 2.11439115e-04,\n",
       "       2.08455300e-04, 2.07360727e-04, 2.06549724e-04, 2.06061056e-04,\n",
       "       2.04944141e-04, 2.03662875e-04, 2.02369347e-04, 2.01760644e-04,\n",
       "       1.99615014e-04, 1.99561960e-04, 1.98881497e-04, 1.97447150e-04,\n",
       "       1.96481093e-04, 1.96258644e-04, 1.94228063e-04, 1.93789830e-04,\n",
       "       1.93468617e-04, 1.92070203e-04, 1.91288135e-04, 1.90461371e-04,\n",
       "       1.88559731e-04, 1.88218019e-04, 1.86988110e-04, 1.86668109e-04,\n",
       "       1.86222342e-04, 1.85189205e-04, 1.84540014e-04, 1.83387193e-04,\n",
       "       1.82134057e-04, 1.81936489e-04, 1.81118827e-04, 1.80322447e-04,\n",
       "       1.78192046e-04, 1.77571185e-04, 1.76609524e-04, 1.75988983e-04,\n",
       "       1.74649540e-04, 1.73682966e-04, 1.73427629e-04, 1.72853600e-04,\n",
       "       1.72387662e-04, 1.71978249e-04, 1.71445925e-04, 1.70874953e-04,\n",
       "       1.69779625e-04, 1.68989573e-04, 1.68052402e-04, 1.67823637e-04,\n",
       "       1.67337712e-04, 1.66220285e-04, 1.65249101e-04, 1.64117996e-04,\n",
       "       1.63618402e-04, 1.63361823e-04, 1.62764618e-04, 1.62073277e-04,\n",
       "       1.61382862e-04, 1.60070441e-04, 1.59855628e-04, 1.58899892e-04,\n",
       "       1.58199914e-04, 1.57668063e-04, 1.56945121e-04, 1.56494258e-04,\n",
       "       1.55570635e-04, 1.55072823e-04, 1.54298174e-04, 1.53325965e-04,\n",
       "       1.53080194e-04, 1.52348112e-04, 1.51663750e-04, 1.51085794e-04,\n",
       "       1.50649737e-04, 1.49494528e-04, 1.49033679e-04, 1.48503741e-04,\n",
       "       1.48032049e-04, 1.47254465e-04])"
      ]
     },
     "execution_count": 14,
     "metadata": {},
     "output_type": "execute_result"
    }
   ],
   "source": [
    "pca_components.explained_variance_ratio_"
   ]
  },
  {
   "cell_type": "markdown",
   "id": "3f522026",
   "metadata": {},
   "source": [
    "### Bagging Classifier:"
   ]
  },
  {
   "cell_type": "code",
   "execution_count": 15,
   "id": "ed4091bf",
   "metadata": {},
   "outputs": [
    {
     "name": "stdout",
     "output_type": "stream",
     "text": [
      "              precision    recall  f1-score   support\n",
      "\n",
      "           0       0.56      0.60      0.58      2563\n",
      "           1       0.54      0.50      0.52      2437\n",
      "\n",
      "    accuracy                           0.55      5000\n",
      "   macro avg       0.55      0.55      0.55      5000\n",
      "weighted avg       0.55      0.55      0.55      5000\n",
      "\n",
      "accuracy of the model is: 55.28 %\n"
     ]
    }
   ],
   "source": [
    "bagging_clf = BaggingClassifier(\n",
    "    DecisionTreeClassifier(),\n",
    "    n_estimators=200,\n",
    "    max_samples=100,\n",
    "    bootstrap=True,\n",
    "    n_jobs=-1)\n",
    "\n",
    "# print accuracy\n",
    "bagging_clf_auc = print_accuracy(bagging_clf, X_transformed_train, X_transformed_test, y_train, y_test)"
   ]
  },
  {
   "cell_type": "code",
   "execution_count": 16,
   "id": "76f5a9c8",
   "metadata": {},
   "outputs": [
    {
     "data": {
      "image/png": "[encoded data removed]",
      "text/plain": [
       "<Figure size 720x432 with 2 Axes>"
      ]
     },
     "metadata": {
      "needs_background": "light"
     },
     "output_type": "display_data"
    }
   ],
   "source": [
    "# plot the confusion matrix using the my_plot_confusion_matrix function\n",
    "my_plot_confusion_matrix(bagging_clf, X_transformed_test, y_test)"
   ]
  },
  {
   "cell_type": "markdown",
   "id": "3269faea",
   "metadata": {},
   "source": [
    "### Pating Classifier:"
   ]
  },
  {
   "cell_type": "code",
   "execution_count": 17,
   "id": "05e3e831",
   "metadata": {},
   "outputs": [
    {
     "name": "stdout",
     "output_type": "stream",
     "text": [
      "              precision    recall  f1-score   support\n",
      "\n",
      "           0       0.56      0.51      0.53      2563\n",
      "           1       0.53      0.59      0.56      2437\n",
      "\n",
      "    accuracy                           0.55      5000\n",
      "   macro avg       0.55      0.55      0.54      5000\n",
      "weighted avg       0.55      0.55      0.54      5000\n",
      "\n",
      "accuracy of the model is: 54.52 %\n"
     ]
    }
   ],
   "source": [
    "pasting_clf = BaggingClassifier(\n",
    "    DecisionTreeClassifier(),\n",
    "    n_estimators=200,\n",
    "    max_samples=100,\n",
    "    bootstrap=False,\n",
    "    n_jobs=-1)\n",
    "\n",
    "# print accuracy\n",
    "pasting_clf_auc = print_accuracy(pasting_clf, X_transformed_train, X_transformed_test, y_train, y_test)"
   ]
  },
  {
   "cell_type": "code",
   "execution_count": 18,
   "id": "eb3313ba",
   "metadata": {},
   "outputs": [
    {
     "data": {
      "image/png": "[encoded data removed]",
      "text/plain": [
       "<Figure size 720x432 with 2 Axes>"
      ]
     },
     "metadata": {
      "needs_background": "light"
     },
     "output_type": "display_data"
    }
   ],
   "source": [
    "# plot the confusion matrix using the my_plot_confusion_matrix function\n",
    "my_plot_confusion_matrix(pasting_clf, X_transformed_test, y_test)"
   ]
  },
  {
   "cell_type": "markdown",
   "id": "f004d9ac",
   "metadata": {},
   "source": [
    "### Random Forest Classifier:"
   ]
  },
  {
   "cell_type": "code",
   "execution_count": 19,
   "id": "6a5998ec",
   "metadata": {},
   "outputs": [
    {
     "name": "stdout",
     "output_type": "stream",
     "text": [
      "              precision    recall  f1-score   support\n",
      "\n",
      "           0       0.62      0.63      0.62      2563\n",
      "           1       0.60      0.59      0.59      2437\n",
      "\n",
      "    accuracy                           0.61      5000\n",
      "   macro avg       0.61      0.61      0.61      5000\n",
      "weighted avg       0.61      0.61      0.61      5000\n",
      "\n",
      "accuracy of the model is: 60.80 %\n"
     ]
    }
   ],
   "source": [
    "rnd_clf = RandomForestClassifier(\n",
    "    n_estimators=400,\n",
    "    max_features=5,\n",
    "    max_depth=16,\n",
    "    n_jobs=-1)\n",
    "\n",
    "# print accuracy\n",
    "rnd_clf_auc = print_accuracy(rnd_clf, X_transformed_train, X_transformed_test, y_train, y_test)"
   ]
  },
  {
   "cell_type": "code",
   "execution_count": 20,
   "id": "20ba2a83",
   "metadata": {},
   "outputs": [
    {
     "data": {
      "image/png": "[encoded data removed]",
      "text/plain": [
       "<Figure size 720x432 with 2 Axes>"
      ]
     },
     "metadata": {
      "needs_background": "light"
     },
     "output_type": "display_data"
    }
   ],
   "source": [
    "# plot the confusion matrix using the my_plot_confusion_matrix function\n",
    "my_plot_confusion_matrix(rnd_clf, X_transformed_test, y_test)"
   ]
  },
  {
   "cell_type": "markdown",
   "id": "58b6b1a5",
   "metadata": {},
   "source": [
    "### AdaBoost Classifier:"
   ]
  },
  {
   "cell_type": "code",
   "execution_count": 21,
   "id": "60e748ae",
   "metadata": {},
   "outputs": [
    {
     "name": "stdout",
     "output_type": "stream",
     "text": [
      "              precision    recall  f1-score   support\n",
      "\n",
      "           0       0.58      0.55      0.56      2563\n",
      "           1       0.55      0.57      0.56      2437\n",
      "\n",
      "    accuracy                           0.56      5000\n",
      "   macro avg       0.56      0.56      0.56      5000\n",
      "weighted avg       0.56      0.56      0.56      5000\n",
      "\n",
      "accuracy of the model is: 56.20 %\n"
     ]
    }
   ],
   "source": [
    "adaboost_clf = AdaBoostClassifier(\n",
    "    DecisionTreeClassifier(max_depth=16),\n",
    "    n_estimators=200,\n",
    "    algorithm=\"SAMME.R\",\n",
    "    learning_rate=0.1)\n",
    "\n",
    "# print accuracy\n",
    "adaboost_clf_auc = print_accuracy(adaboost_clf, X_transformed_train, X_transformed_test, y_train, y_test)"
   ]
  },
  {
   "cell_type": "code",
   "execution_count": 22,
   "id": "76ed87e1",
   "metadata": {},
   "outputs": [
    {
     "data": {
      "image/png": "[encoded data removed]",
      "text/plain": [
       "<Figure size 720x432 with 2 Axes>"
      ]
     },
     "metadata": {
      "needs_background": "light"
     },
     "output_type": "display_data"
    }
   ],
   "source": [
    "# plot the confusion matrix using the my_plot_confusion_matrix function\n",
    "my_plot_confusion_matrix(adaboost_clf, X_transformed_test, y_test)"
   ]
  },
  {
   "cell_type": "markdown",
   "id": "fe0a7f10",
   "metadata": {},
   "source": [
    "### Extreme Gradient Boostring Classifier(Binary):"
   ]
  },
  {
   "cell_type": "code",
   "execution_count": 23,
   "id": "f76d52e4",
   "metadata": {},
   "outputs": [
    {
     "name": "stdout",
     "output_type": "stream",
     "text": [
      "              precision    recall  f1-score   support\n",
      "\n",
      "           0       0.66      0.63      0.64      2563\n",
      "           1       0.63      0.66      0.64      2437\n",
      "\n",
      "    accuracy                           0.64      5000\n",
      "   macro avg       0.64      0.64      0.64      5000\n",
      "weighted avg       0.64      0.64      0.64      5000\n",
      "\n",
      "accuracy of the model is: 64.36 %\n"
     ]
    }
   ],
   "source": [
    "bin_xgb_model = xgb.XGBClassifier(\n",
    "    learning_rate=0.1,\n",
    "    n_estimators=200,\n",
    "    use_label_encoder=False,\n",
    "    objective=\"binary:logistic\",\n",
    "    eval_metric=\"auc\",\n",
    "    verbosity=1,\n",
    "    n_jobs=-1)\n",
    "\n",
    "# print accuracy\n",
    "bin_xgb_model_auc = print_accuracy(bin_xgb_model, X_transformed_train, X_transformed_test, y_train, y_test)"
   ]
  },
  {
   "cell_type": "code",
   "execution_count": 24,
   "id": "d6365c67",
   "metadata": {},
   "outputs": [
    {
     "data": {
      "image/png": "[encoded data removed]",
      "text/plain": [
       "<Figure size 720x432 with 2 Axes>"
      ]
     },
     "metadata": {
      "needs_background": "light"
     },
     "output_type": "display_data"
    }
   ],
   "source": [
    "# plot the confusion matrix using the my_plot_confusion_matrix function\n",
    "my_plot_confusion_matrix(bin_xgb_model, X_transformed_test, y_test)"
   ]
  },
  {
   "cell_type": "markdown",
   "id": "28e54378",
   "metadata": {},
   "source": [
    "### Grid Search with Random Forest Classifier"
   ]
  },
  {
   "cell_type": "code",
   "execution_count": 25,
   "id": "52f8be32",
   "metadata": {},
   "outputs": [
    {
     "data": {
      "text/plain": [
       "GridSearchCV(cv=5, estimator=RandomForestClassifier(), n_jobs=-1,\n",
       "             param_grid={'max_features': [5, 10, 20],\n",
       "                         'n_estimators': [50, 100, 200]},\n",
       "             scoring='accuracy')"
      ]
     },
     "execution_count": 25,
     "metadata": {},
     "output_type": "execute_result"
    }
   ],
   "source": [
    "rnd_clf = RandomForestClassifier().fit(X_transformed_train, y_train)\n",
    "\n",
    "param_values = {'n_estimators' : [50,100,200], 'max_features' : [5,10,20]}\n",
    "gs_rnd_clf = GridSearchCV(rnd_clf, param_grid=param_values, cv=5, scoring='accuracy', n_jobs=-1)\n",
    "\n",
    "gs_rnd_clf.fit(X_transformed_train, y_train)"
   ]
  },
  {
   "cell_type": "code",
   "execution_count": 26,
   "id": "673397ec",
   "metadata": {},
   "outputs": [
    {
     "name": "stdout",
     "output_type": "stream",
     "text": [
      "{'max_features': 20, 'n_estimators': 200}\n",
      "accuracy of the model is: 61.75 %\n"
     ]
    }
   ],
   "source": [
    "print(gs_rnd_clf.best_params_)\n",
    "print('accuracy of the model is: {} %'.format(\"%.2f\" % (gs_rnd_clf.best_score_ * 100)))\n",
    "gs_rnd_clf_auc = gs_rnd_clf.best_score_"
   ]
  },
  {
   "cell_type": "markdown",
   "id": "9de15d1c",
   "metadata": {},
   "source": [
    "### Grid Seach with Extreme Gradient Boostring Classifier:"
   ]
  },
  {
   "cell_type": "code",
   "execution_count": 27,
   "id": "bbe5d2f9",
   "metadata": {},
   "outputs": [
    {
     "name": "stdout",
     "output_type": "stream",
     "text": [
      "[20:41:43] WARNING: ..\\src\\learner.cc:541: \n",
      "Parameters: { max_features } might not be used.\n",
      "\n",
      "  This may not be accurate due to some parameters are only used in language bindings but\n",
      "  passed down to XGBoost core.  Or some parameters are not used but slip through this\n",
      "  verification. Please open an issue if you find above cases.\n",
      "\n",
      "\n"
     ]
    },
    {
     "data": {
      "text/plain": [
       "GridSearchCV(cv=5,\n",
       "             estimator=XGBClassifier(base_score=None, booster=None,\n",
       "                                     colsample_bylevel=None,\n",
       "                                     colsample_bynode=None,\n",
       "                                     colsample_bytree=None,\n",
       "                                     eval_metric='mlogloss', gamma=None,\n",
       "                                     gpu_id=None, importance_type='gain',\n",
       "                                     interaction_constraints=None,\n",
       "                                     learning_rate=0.1, max_delta_step=None,\n",
       "                                     max_depth=None, min_child_weight=None,\n",
       "                                     missing=nan, monotone_constraints=None,\n",
       "                                     n_estimators=100, n_jobs=-1,\n",
       "                                     num_parallel_tree=None, random_state=None,\n",
       "                                     reg_alpha=None, reg_lambda=None,\n",
       "                                     scale_pos_weight=None, subsample=None,\n",
       "                                     tree_method=None, use_label_encoder=False,\n",
       "                                     validate_parameters=None, verbosity=1),\n",
       "             n_jobs=-1,\n",
       "             param_grid={'max_depth': [2, 8, 16], 'max_features': [5, 10, 20],\n",
       "                         'n_estimators': [50, 100, 200]},\n",
       "             scoring='accuracy')"
      ]
     },
     "execution_count": 27,
     "metadata": {},
     "output_type": "execute_result"
    }
   ],
   "source": [
    "mul_xgb_model= xgb.XGBClassifier(\n",
    "    learning_rate=0.1,\n",
    "    use_label_encoder=False,\n",
    "    eval_metric=\"mlogloss\",\n",
    "    verbosity=1,\n",
    "    n_jobs=-1)\n",
    "\n",
    "param_values = {'n_estimators' : [50,100,200], 'max_features' : [5,10,20], 'max_depth' : [2,8,16]}\n",
    "gs_mul_xgb_model = GridSearchCV(mul_xgb_model, param_grid=param_values, cv=5, scoring='accuracy', n_jobs=-1)\n",
    "\n",
    "gs_mul_xgb_model.fit(X_transformed_train, y_train)"
   ]
  },
  {
   "cell_type": "code",
   "execution_count": 28,
   "id": "f8a909b8",
   "metadata": {},
   "outputs": [
    {
     "name": "stdout",
     "output_type": "stream",
     "text": [
      "{'max_depth': 16, 'max_features': 5, 'n_estimators': 200}\n",
      "accuracy of the model is: 64.04 %\n"
     ]
    }
   ],
   "source": [
    "print(gs_mul_xgb_model.best_params_)\n",
    "print('accuracy of the model is: {} %'.format(\"%.2f\" % (gs_mul_xgb_model.best_score_ * 100)))\n",
    "gs_mul_xgb_model_auc = gs_mul_xgb_model.best_score_"
   ]
  },
  {
   "cell_type": "code",
   "execution_count": 29,
   "id": "2352dcb2",
   "metadata": {},
   "outputs": [],
   "source": [
    "classifiers_accuracy = {\n",
    "    'Bagging Classifier' : bagging_clf_auc,\n",
    "    'Pasting Classifier' : pasting_clf_auc,\n",
    "    'Random Forest Classifier': rnd_clf_auc,\n",
    "    'AdaBoostring Classifier' : adaboost_clf_auc,\n",
    "    'Extreme Gradient Boostring Classifier(Binary)' : bin_xgb_model_auc,\n",
    "    'Grid Search with Random Forest Classifier' : gs_rnd_clf_auc,\n",
    "    'Grid Seach with Extreme Gradient Boostring Classifier(Multi)' : gs_mul_xgb_model_auc\n",
    "}\n",
    "components_accuracy.append(classifiers_accuracy)"
   ]
  },
  {
   "cell_type": "markdown",
   "id": "4d410c08",
   "metadata": {},
   "source": [
    "# <i>Conclusions of best model in 100^2 pixels (greysacle) and PCA of 335 Components</i>"
   ]
  },
  {
   "cell_type": "code",
   "execution_count": 30,
   "id": "0053b6e9",
   "metadata": {},
   "outputs": [
    {
     "name": "stdout",
     "output_type": "stream",
     "text": [
      "\n",
      "The classifier with the maximum accuracy in 100^2 pixels images (greysacle) and 335-PCA Components is: Extreme Gradient Boostring Classifier(Binary), with the accuracy of: 64.36 %\n"
     ]
    }
   ],
   "source": [
    "max_accuracy_classifier = max(classifiers_accuracy, key=classifiers_accuracy.get)\n",
    "print(\"\\nThe classifier with the maximum accuracy in 100^2 pixels images (greysacle) and 335-PCA Components is: {}, with the accuracy of: {} %\".format(max_accuracy_classifier, \"%.2f\" % (100 * classifiers_accuracy[max_accuracy_classifier])))"
   ]
  },
  {
   "cell_type": "markdown",
   "id": "93435df5",
   "metadata": {},
   "source": [
    "# 30^2 Pixels with no grey scale and PCA of 300 Components:"
   ]
  },
  {
   "cell_type": "code",
   "execution_count": 31,
   "id": "741c49a5",
   "metadata": {},
   "outputs": [],
   "source": [
    "# images size\n",
    "IMAGE_SIZE = 30"
   ]
  },
  {
   "cell_type": "code",
   "execution_count": 32,
   "id": "e89a0beb",
   "metadata": {},
   "outputs": [],
   "source": [
    "image_data  = []\n",
    "image_label = []\n",
    "\n",
    "for i in range(len(dogs_cats)):\n",
    "    IMAGE_PATH = PATH + '/' + dogs_cats[\"image\"][i]\n",
    "    image = cv2.imread(IMAGE_PATH)\n",
    "    image = cv2.resize(image, (IMAGE_SIZE, IMAGE_SIZE))\n",
    "    \n",
    "    norm_image = image / 255.0\n",
    "    \n",
    "    image_data.append(norm_image)\n",
    "    image_label.append(dogs_cats[\"label\"][i])\n",
    "\n",
    "X = np.array(image_data)\n",
    "y = np.array(image_label)\n",
    "\n",
    "X = np.reshape(X, (25000,2700))"
   ]
  },
  {
   "cell_type": "code",
   "execution_count": 33,
   "id": "3c5e8588",
   "metadata": {},
   "outputs": [
    {
     "data": {
      "text/plain": [
       "(25000, 2700)"
      ]
     },
     "execution_count": 33,
     "metadata": {},
     "output_type": "execute_result"
    }
   ],
   "source": [
    "X.shape"
   ]
  },
  {
   "cell_type": "code",
   "execution_count": 34,
   "id": "04824e3c",
   "metadata": {},
   "outputs": [
    {
     "data": {
      "text/plain": [
       "(25000,)"
      ]
     },
     "execution_count": 34,
     "metadata": {},
     "output_type": "execute_result"
    }
   ],
   "source": [
    "y.shape"
   ]
  },
  {
   "cell_type": "code",
   "execution_count": 35,
   "id": "b97d6a82",
   "metadata": {},
   "outputs": [],
   "source": [
    "# split data to 20000 train samples and 5000 to test samples\n",
    "X_train, X_test, y_train, y_test = train_test_split(X, y, test_size=0.20)"
   ]
  },
  {
   "cell_type": "code",
   "execution_count": 36,
   "id": "ee5173a1",
   "metadata": {},
   "outputs": [
    {
     "data": {
      "text/plain": [
       "(20000, 2700)"
      ]
     },
     "execution_count": 36,
     "metadata": {},
     "output_type": "execute_result"
    }
   ],
   "source": [
    "# train shape is 20000 on 30^2 pixels\n",
    "X_train.shape"
   ]
  },
  {
   "cell_type": "code",
   "execution_count": 37,
   "id": "0ab38d88",
   "metadata": {},
   "outputs": [
    {
     "data": {
      "text/plain": [
       "<matplotlib.image.AxesImage at 0x270ff8aa430>"
      ]
     },
     "execution_count": 37,
     "metadata": {},
     "output_type": "execute_result"
    },
    {
     "data": {
      "image/png": "[encoded data removed]",
      "text/plain": [
       "<Figure size 432x288 with 1 Axes>"
      ]
     },
     "metadata": {
      "needs_background": "light"
     },
     "output_type": "display_data"
    }
   ],
   "source": [
    "# printing a random image from the data\n",
    "random_image_name = random.choice(dogs_cats.image)\n",
    "random_image = cv2.imread(PATH + '/' + str(random_image_name))\n",
    "random_image = cv2.resize(random_image, (IMAGE_SIZE, IMAGE_SIZE))\n",
    "random_image = cv2.cvtColor(random_image, cv2.COLOR_RGB2GRAY)\n",
    "plt.imshow(random_image)"
   ]
  },
  {
   "cell_type": "code",
   "execution_count": 38,
   "id": "c360b9b6",
   "metadata": {},
   "outputs": [
    {
     "name": "stdout",
     "output_type": "stream",
     "text": [
      "shape of 2 component PCA train data is: (20000, 300)\n",
      "shape of 2 component PCA test data is: (5000, 300)\n"
     ]
    }
   ],
   "source": [
    "pca_components = PCA(n_components=300)\n",
    "X_transformed_train = pca_components.fit(X_train).transform(X_train)\n",
    "X_transformed_test = pca_components.transform(X_test)\n",
    "print(\"shape of 2 component PCA train data is:\", X_transformed_train.shape)\n",
    "print(\"shape of 2 component PCA test data is:\", X_transformed_test.shape)"
   ]
  },
  {
   "cell_type": "code",
   "execution_count": 39,
   "id": "95ec9ece",
   "metadata": {},
   "outputs": [
    {
     "data": {
      "text/plain": [
       "array([0.18865992, 0.10516177, 0.07248989, 0.05764494, 0.03013984,\n",
       "       0.02689269, 0.02264804, 0.01905431, 0.01780114, 0.01732971,\n",
       "       0.01387544, 0.01244606, 0.01155782, 0.01004053, 0.00848195,\n",
       "       0.00780121, 0.00757052, 0.00695596, 0.00680993, 0.00634302,\n",
       "       0.00590444, 0.00512697, 0.00502776, 0.0049769 , 0.00467277,\n",
       "       0.00443281, 0.00440334, 0.00405462, 0.00388235, 0.00383631,\n",
       "       0.00371041, 0.00354514, 0.00336964, 0.00329881, 0.00329076,\n",
       "       0.0032265 , 0.00318021, 0.00292157, 0.00276913, 0.00274881,\n",
       "       0.00262839, 0.00255642, 0.00247569, 0.0024084 , 0.0023479 ,\n",
       "       0.0022388 , 0.00222687, 0.00220069, 0.00216261, 0.00205388,\n",
       "       0.00203359, 0.00198093, 0.0019429 , 0.00187934, 0.00182747,\n",
       "       0.00177369, 0.00174067, 0.0017191 , 0.00165434, 0.00162717,\n",
       "       0.00160739, 0.00154717, 0.00151496, 0.00146708, 0.00143607,\n",
       "       0.0014145 , 0.00140361, 0.00138957, 0.00135429, 0.00133092,\n",
       "       0.00131319, 0.00129903, 0.00128946, 0.00127676, 0.00124739,\n",
       "       0.00121461, 0.00120231, 0.00118577, 0.00115761, 0.00113833,\n",
       "       0.00112067, 0.0011144 , 0.00110685, 0.0010704 , 0.00105293,\n",
       "       0.00104343, 0.00103402, 0.00101871, 0.00099316, 0.00097707,\n",
       "       0.00096074, 0.00095417, 0.00092651, 0.00091706, 0.00091148,\n",
       "       0.0009031 , 0.00089735, 0.00088123, 0.00086695, 0.00086503,\n",
       "       0.0008615 , 0.0008476 , 0.00084365, 0.00083307, 0.00081254,\n",
       "       0.00080814, 0.00080438, 0.00079011, 0.00077345, 0.00076975,\n",
       "       0.00075871, 0.00075737, 0.00074014, 0.00073307, 0.00072799,\n",
       "       0.00071857, 0.00071215, 0.00070432, 0.00070074, 0.000695  ,\n",
       "       0.00069029, 0.00068695, 0.00067807, 0.00067355, 0.00066685,\n",
       "       0.00066503, 0.00065421, 0.00065093, 0.00064287, 0.00063338,\n",
       "       0.00062965, 0.00062791, 0.0006218 , 0.00061516, 0.00060846,\n",
       "       0.00060362, 0.00059866, 0.00059528, 0.00059093, 0.00058744,\n",
       "       0.00058356, 0.00057788, 0.00057498, 0.00056786, 0.000564  ,\n",
       "       0.00055923, 0.00055123, 0.00054874, 0.0005393 , 0.000539  ,\n",
       "       0.00053367, 0.00052921, 0.00052596, 0.00052068, 0.00051932,\n",
       "       0.0005164 , 0.00050748, 0.00050565, 0.00050345, 0.00049963,\n",
       "       0.00049705, 0.00049553, 0.00049043, 0.00048545, 0.00047776,\n",
       "       0.00047661, 0.00047414, 0.0004726 , 0.00046961, 0.00046841,\n",
       "       0.0004628 , 0.00046091, 0.00045665, 0.000454  , 0.00045021,\n",
       "       0.00044814, 0.00044507, 0.00044276, 0.00043913, 0.00043737,\n",
       "       0.00043584, 0.00043362, 0.0004272 , 0.00042337, 0.00042192,\n",
       "       0.00041862, 0.00041721, 0.0004156 , 0.00041182, 0.00040914,\n",
       "       0.00040854, 0.00040786, 0.00040402, 0.00040139, 0.00040034,\n",
       "       0.00039788, 0.00039423, 0.00039281, 0.00038918, 0.00038548,\n",
       "       0.00038305, 0.00038104, 0.00037989, 0.00037669, 0.00037532,\n",
       "       0.00036902, 0.00036809, 0.000366  , 0.00036199, 0.00036044,\n",
       "       0.00035929, 0.00035835, 0.00035742, 0.00035642, 0.00035219,\n",
       "       0.00035064, 0.00034625, 0.00034493, 0.00034389, 0.00034327,\n",
       "       0.00034187, 0.00034053, 0.00033941, 0.00033567, 0.00033477,\n",
       "       0.00033317, 0.00033167, 0.00032945, 0.00032809, 0.00032717,\n",
       "       0.00032601, 0.00032325, 0.00032126, 0.00031834, 0.00031738,\n",
       "       0.00031677, 0.00031565, 0.00031392, 0.00031279, 0.00031027,\n",
       "       0.00030825, 0.00030589, 0.00030467, 0.00030258, 0.00030174,\n",
       "       0.00030143, 0.00030026, 0.00029921, 0.00029774, 0.0002953 ,\n",
       "       0.0002949 , 0.00029395, 0.00029338, 0.00029072, 0.00028977,\n",
       "       0.00028796, 0.00028572, 0.00028464, 0.00028319, 0.00028227,\n",
       "       0.0002801 , 0.00027878, 0.00027741, 0.00027612, 0.00027528,\n",
       "       0.00027414, 0.00027127, 0.00026932, 0.00026843, 0.00026793,\n",
       "       0.00026716, 0.00026621, 0.00026328, 0.00026181, 0.00026168,\n",
       "       0.00025962, 0.00025757, 0.00025657, 0.0002561 , 0.00025361,\n",
       "       0.00025162, 0.00025076, 0.0002496 , 0.0002484 , 0.00024785,\n",
       "       0.00024618, 0.0002453 , 0.00024461, 0.00024364, 0.00024221,\n",
       "       0.00024171, 0.00023898, 0.00023759, 0.00023484, 0.00023364,\n",
       "       0.00023327, 0.00023175, 0.00022959, 0.00022819, 0.00022651])"
      ]
     },
     "execution_count": 39,
     "metadata": {},
     "output_type": "execute_result"
    }
   ],
   "source": [
    "pca_components.explained_variance_ratio_"
   ]
  },
  {
   "cell_type": "markdown",
   "id": "5489eb56",
   "metadata": {},
   "source": [
    "### Bagging Classifier:"
   ]
  },
  {
   "cell_type": "code",
   "execution_count": 40,
   "id": "b13ee78a",
   "metadata": {},
   "outputs": [
    {
     "name": "stdout",
     "output_type": "stream",
     "text": [
      "              precision    recall  f1-score   support\n",
      "\n",
      "           0       0.56      0.65      0.60      2498\n",
      "           1       0.58      0.49      0.54      2502\n",
      "\n",
      "    accuracy                           0.57      5000\n",
      "   macro avg       0.57      0.57      0.57      5000\n",
      "weighted avg       0.57      0.57      0.57      5000\n",
      "\n",
      "accuracy of the model is: 57.12 %\n"
     ]
    }
   ],
   "source": [
    "bagging_clf = BaggingClassifier(\n",
    "    DecisionTreeClassifier(),\n",
    "    n_estimators=200,\n",
    "    max_samples=100,\n",
    "    bootstrap=True,\n",
    "    n_jobs=-1)\n",
    "\n",
    "# print accuracy\n",
    "bagging_clf_auc = print_accuracy(bagging_clf, X_transformed_train, X_transformed_test, y_train, y_test)"
   ]
  },
  {
   "cell_type": "code",
   "execution_count": 41,
   "id": "cc257cfe",
   "metadata": {},
   "outputs": [
    {
     "data": {
      "image/png": "[encoded data removed]",
      "text/plain": [
       "<Figure size 720x432 with 2 Axes>"
      ]
     },
     "metadata": {
      "needs_background": "light"
     },
     "output_type": "display_data"
    }
   ],
   "source": [
    "# plot the confusion matrix using the my_plot_confusion_matrix function\n",
    "my_plot_confusion_matrix(bagging_clf, X_transformed_test, y_test)"
   ]
  },
  {
   "cell_type": "markdown",
   "id": "afbf8c39",
   "metadata": {},
   "source": [
    "### Pating Classifier:"
   ]
  },
  {
   "cell_type": "code",
   "execution_count": 42,
   "id": "e70a769d",
   "metadata": {},
   "outputs": [
    {
     "name": "stdout",
     "output_type": "stream",
     "text": [
      "              precision    recall  f1-score   support\n",
      "\n",
      "           0       0.56      0.61      0.59      2498\n",
      "           1       0.57      0.52      0.55      2502\n",
      "\n",
      "    accuracy                           0.57      5000\n",
      "   macro avg       0.57      0.57      0.57      5000\n",
      "weighted avg       0.57      0.57      0.57      5000\n",
      "\n",
      "accuracy of the model is: 56.64 %\n"
     ]
    }
   ],
   "source": [
    "pasting_clf = BaggingClassifier(\n",
    "    DecisionTreeClassifier(),\n",
    "    n_estimators=200,\n",
    "    max_samples=100,\n",
    "    bootstrap=False,\n",
    "    n_jobs=-1)\n",
    "\n",
    "# print accuracy\n",
    "pasting_clf_auc = print_accuracy(pasting_clf, X_transformed_train, X_transformed_test, y_train, y_test)"
   ]
  },
  {
   "cell_type": "code",
   "execution_count": 43,
   "id": "26de824d",
   "metadata": {},
   "outputs": [
    {
     "data": {
      "image/png": "[encoded data removed]",
      "text/plain": [
       "<Figure size 720x432 with 2 Axes>"
      ]
     },
     "metadata": {
      "needs_background": "light"
     },
     "output_type": "display_data"
    }
   ],
   "source": [
    "# plot the confusion matrix using the my_plot_confusion_matrix function\n",
    "my_plot_confusion_matrix(pasting_clf, X_transformed_test, y_test)"
   ]
  },
  {
   "cell_type": "markdown",
   "id": "2a5898b2",
   "metadata": {},
   "source": [
    "### Random Forest Classifier:"
   ]
  },
  {
   "cell_type": "code",
   "execution_count": 44,
   "id": "fe4b8ee2",
   "metadata": {},
   "outputs": [
    {
     "name": "stdout",
     "output_type": "stream",
     "text": [
      "              precision    recall  f1-score   support\n",
      "\n",
      "           0       0.62      0.68      0.65      2498\n",
      "           1       0.65      0.59      0.62      2502\n",
      "\n",
      "    accuracy                           0.64      5000\n",
      "   macro avg       0.64      0.64      0.64      5000\n",
      "weighted avg       0.64      0.64      0.64      5000\n",
      "\n",
      "accuracy of the model is: 63.62 %\n"
     ]
    }
   ],
   "source": [
    "rnd_clf = RandomForestClassifier(\n",
    "    n_estimators=400,\n",
    "    max_features=5,\n",
    "    max_depth=16,\n",
    "    n_jobs=-1)\n",
    "\n",
    "# print accuracy\n",
    "rnd_clf_auc = print_accuracy(rnd_clf, X_transformed_train, X_transformed_test, y_train, y_test)"
   ]
  },
  {
   "cell_type": "code",
   "execution_count": 45,
   "id": "a1fd0553",
   "metadata": {},
   "outputs": [
    {
     "data": {
      "image/png": "[encoded data removed]",
      "text/plain": [
       "<Figure size 720x432 with 2 Axes>"
      ]
     },
     "metadata": {
      "needs_background": "light"
     },
     "output_type": "display_data"
    }
   ],
   "source": [
    "# plot the confusion matrix using the my_plot_confusion_matrix function\n",
    "my_plot_confusion_matrix(rnd_clf, X_transformed_test, y_test)"
   ]
  },
  {
   "cell_type": "markdown",
   "id": "2a9a3af5",
   "metadata": {},
   "source": [
    "### AdaBoost Classifier:"
   ]
  },
  {
   "cell_type": "code",
   "execution_count": 46,
   "id": "9070d018",
   "metadata": {},
   "outputs": [
    {
     "name": "stdout",
     "output_type": "stream",
     "text": [
      "              precision    recall  f1-score   support\n",
      "\n",
      "           0       0.57      0.55      0.56      2498\n",
      "           1       0.56      0.58      0.57      2502\n",
      "\n",
      "    accuracy                           0.56      5000\n",
      "   macro avg       0.56      0.56      0.56      5000\n",
      "weighted avg       0.56      0.56      0.56      5000\n",
      "\n",
      "accuracy of the model is: 56.46 %\n"
     ]
    }
   ],
   "source": [
    "adaboost_clf = AdaBoostClassifier(\n",
    "    DecisionTreeClassifier(max_depth=16),\n",
    "    n_estimators=200,\n",
    "    algorithm=\"SAMME.R\",\n",
    "    learning_rate=0.5)\n",
    "\n",
    "# print accuracy\n",
    "adaboost_clf_auc = print_accuracy(adaboost_clf, X_transformed_train, X_transformed_test, y_train, y_test)"
   ]
  },
  {
   "cell_type": "code",
   "execution_count": 47,
   "id": "50563409",
   "metadata": {},
   "outputs": [
    {
     "data": {
      "image/png": "[encoded data removed]",
      "text/plain": [
       "<Figure size 720x432 with 2 Axes>"
      ]
     },
     "metadata": {
      "needs_background": "light"
     },
     "output_type": "display_data"
    }
   ],
   "source": [
    "# plot the confusion matrix using the my_plot_confusion_matrix function\n",
    "my_plot_confusion_matrix(adaboost_clf, X_transformed_test, y_test)"
   ]
  },
  {
   "cell_type": "markdown",
   "id": "75b61a30",
   "metadata": {},
   "source": [
    "### Extreme Gradient Boostring Classifier(Binary):"
   ]
  },
  {
   "cell_type": "code",
   "execution_count": 48,
   "id": "cac23aae",
   "metadata": {},
   "outputs": [
    {
     "name": "stdout",
     "output_type": "stream",
     "text": [
      "              precision    recall  f1-score   support\n",
      "\n",
      "           0       0.66      0.67      0.66      2498\n",
      "           1       0.66      0.65      0.66      2502\n",
      "\n",
      "    accuracy                           0.66      5000\n",
      "   macro avg       0.66      0.66      0.66      5000\n",
      "weighted avg       0.66      0.66      0.66      5000\n",
      "\n",
      "accuracy of the model is: 65.84 %\n"
     ]
    }
   ],
   "source": [
    "bin_xgb_model = xgb.XGBClassifier(\n",
    "    learning_rate=0.1,\n",
    "    n_estimators=200,\n",
    "    use_label_encoder=False,\n",
    "    objective=\"binary:logistic\",\n",
    "    eval_metric=\"auc\",\n",
    "    verbosity=1,\n",
    "    n_jobs=-1)\n",
    "\n",
    "# print accuracy\n",
    "bin_xgb_model_auc = print_accuracy(bin_xgb_model, X_transformed_train, X_transformed_test, y_train, y_test)"
   ]
  },
  {
   "cell_type": "code",
   "execution_count": 49,
   "id": "8fa6b99d",
   "metadata": {},
   "outputs": [
    {
     "data": {
      "image/png": "[encoded data removed]",
      "text/plain": [
       "<Figure size 720x432 with 2 Axes>"
      ]
     },
     "metadata": {
      "needs_background": "light"
     },
     "output_type": "display_data"
    }
   ],
   "source": [
    "# plot the confusion matrix using the my_plot_confusion_matrix function\n",
    "my_plot_confusion_matrix(bin_xgb_model, X_transformed_test, y_test)"
   ]
  },
  {
   "cell_type": "markdown",
   "id": "0f2cfd3d",
   "metadata": {},
   "source": [
    "### Grid Search with Random Forest Classifier"
   ]
  },
  {
   "cell_type": "code",
   "execution_count": 50,
   "id": "83e489f2",
   "metadata": {},
   "outputs": [
    {
     "data": {
      "text/plain": [
       "GridSearchCV(cv=5, estimator=RandomForestClassifier(), n_jobs=-1,\n",
       "             param_grid={'max_features': [5, 10, 20],\n",
       "                         'n_estimators': [50, 100, 200]},\n",
       "             scoring='accuracy')"
      ]
     },
     "execution_count": 50,
     "metadata": {},
     "output_type": "execute_result"
    }
   ],
   "source": [
    "rnd_clf = RandomForestClassifier().fit(X_transformed_train, y_train)\n",
    "\n",
    "param_values = {'n_estimators' : [50,100,200], 'max_features' : [5,10,20]}\n",
    "gs_rnd_clf = GridSearchCV(rnd_clf, param_grid=param_values, cv=5, scoring='accuracy', n_jobs=-1)\n",
    "\n",
    "gs_rnd_clf.fit(X_transformed_train, y_train)"
   ]
  },
  {
   "cell_type": "code",
   "execution_count": 51,
   "id": "d9929966",
   "metadata": {},
   "outputs": [
    {
     "name": "stdout",
     "output_type": "stream",
     "text": [
      "{'max_features': 20, 'n_estimators': 200}\n",
      "accuracy of the model is: 63.00 %\n"
     ]
    }
   ],
   "source": [
    "print(gs_rnd_clf.best_params_)\n",
    "print('accuracy of the model is: {} %'.format(\"%.2f\" % (gs_rnd_clf.best_score_ * 100)))\n",
    "gs_rnd_clf_auc = gs_rnd_clf.best_score_"
   ]
  },
  {
   "cell_type": "markdown",
   "id": "4e61d2b9",
   "metadata": {},
   "source": [
    "### Grid Seach with Extreme Gradient Boostring Classifier:"
   ]
  },
  {
   "cell_type": "code",
   "execution_count": 52,
   "id": "2d1d9b4b",
   "metadata": {},
   "outputs": [
    {
     "name": "stdout",
     "output_type": "stream",
     "text": [
      "[22:20:01] WARNING: ..\\src\\learner.cc:541: \n",
      "Parameters: { max_features } might not be used.\n",
      "\n",
      "  This may not be accurate due to some parameters are only used in language bindings but\n",
      "  passed down to XGBoost core.  Or some parameters are not used but slip through this\n",
      "  verification. Please open an issue if you find above cases.\n",
      "\n",
      "\n"
     ]
    },
    {
     "data": {
      "text/plain": [
       "GridSearchCV(cv=5,\n",
       "             estimator=XGBClassifier(base_score=None, booster=None,\n",
       "                                     colsample_bylevel=None,\n",
       "                                     colsample_bynode=None,\n",
       "                                     colsample_bytree=None,\n",
       "                                     eval_metric='mlogloss', gamma=None,\n",
       "                                     gpu_id=None, importance_type='gain',\n",
       "                                     interaction_constraints=None,\n",
       "                                     learning_rate=0.1, max_delta_step=None,\n",
       "                                     max_depth=None, min_child_weight=None,\n",
       "                                     missing=nan, monotone_constraints=None,\n",
       "                                     n_estimators=100, n_jobs=-1,\n",
       "                                     num_parallel_tree=None, random_state=None,\n",
       "                                     reg_alpha=None, reg_lambda=None,\n",
       "                                     scale_pos_weight=None, subsample=None,\n",
       "                                     tree_method=None, use_label_encoder=False,\n",
       "                                     validate_parameters=None, verbosity=1),\n",
       "             n_jobs=-1,\n",
       "             param_grid={'max_depth': [2, 8, 16], 'max_features': [5, 10, 20],\n",
       "                         'n_estimators': [50, 100, 200]},\n",
       "             scoring='accuracy')"
      ]
     },
     "execution_count": 52,
     "metadata": {},
     "output_type": "execute_result"
    }
   ],
   "source": [
    "mul_xgb_model= xgb.XGBClassifier(\n",
    "    learning_rate=0.1,\n",
    "    use_label_encoder=False,\n",
    "    eval_metric=\"mlogloss\",\n",
    "    verbosity=1,\n",
    "    n_jobs=-1)\n",
    "\n",
    "param_values = {'n_estimators' : [50,100,200], 'max_features' : [5,10,20], 'max_depth' : [2,8,16]}\n",
    "gs_mul_xgb_model = GridSearchCV(mul_xgb_model, param_grid=param_values, cv=5, scoring='accuracy', n_jobs=-1)\n",
    "\n",
    "gs_mul_xgb_model.fit(X_transformed_train, y_train)"
   ]
  },
  {
   "cell_type": "code",
   "execution_count": 53,
   "id": "b29eafa5",
   "metadata": {},
   "outputs": [
    {
     "name": "stdout",
     "output_type": "stream",
     "text": [
      "{'max_depth': 16, 'max_features': 5, 'n_estimators': 200}\n",
      "accuracy of the model is: 66.20 %\n"
     ]
    }
   ],
   "source": [
    "print(gs_mul_xgb_model.best_params_)\n",
    "print('accuracy of the model is: {} %'.format(\"%.2f\" % (gs_mul_xgb_model.best_score_ * 100)))\n",
    "gs_mul_xgb_model_auc = gs_mul_xgb_model.best_score_"
   ]
  },
  {
   "cell_type": "code",
   "execution_count": 54,
   "id": "125ecf0d",
   "metadata": {},
   "outputs": [],
   "source": [
    "classifiers_accuracy = {\n",
    "    'Bagging Classifier' : bagging_clf_auc,\n",
    "    'Pasting Classifier' : pasting_clf_auc,\n",
    "    'Random Forest Classifier': rnd_clf_auc,\n",
    "    'AdaBoostring Classifier' : adaboost_clf_auc,\n",
    "    'Extreme Gradient Boostring Classifier(Binary)' : bin_xgb_model_auc,\n",
    "    'Grid Search with Random Forest Classifier' : gs_rnd_clf_auc,\n",
    "    'Grid Seach with Extreme Gradient Boostring Classifier(Multi)' : gs_mul_xgb_model_auc\n",
    "}\n",
    "components_accuracy.append(classifiers_accuracy)"
   ]
  },
  {
   "cell_type": "markdown",
   "id": "6d61e3c3",
   "metadata": {},
   "source": [
    "# <i>Conclusions of best model in 30^2 pixels (greysacle) and PCA of 300 Components</i>"
   ]
  },
  {
   "cell_type": "code",
   "execution_count": 55,
   "id": "45b87bf6",
   "metadata": {},
   "outputs": [
    {
     "name": "stdout",
     "output_type": "stream",
     "text": [
      "\n",
      "The classifier with the maximum accuracy in 30^2 pixels images (greysacle) and 185-PCA Components is: Grid Seach with Extreme Gradient Boostring Classifier(Multi), with the accuracy of: 66.20 %\n"
     ]
    }
   ],
   "source": [
    "max_accuracy_classifier = max(classifiers_accuracy, key=classifiers_accuracy.get)\n",
    "print(\"\\nThe classifier with the maximum accuracy in 30^2 pixels images (greysacle) and 185-PCA Components is: {}, with the accuracy of: {} %\".format(max_accuracy_classifier, \"%.2f\" % (100 * classifiers_accuracy[max_accuracy_classifier])))"
   ]
  },
  {
   "cell_type": "markdown",
   "id": "c6baa93e",
   "metadata": {},
   "source": [
    "# 30^2 Pixels with no grey scale and PCA of 185 Components:"
   ]
  },
  {
   "cell_type": "code",
   "execution_count": 56,
   "id": "5294cd8a",
   "metadata": {},
   "outputs": [],
   "source": [
    "# images size\n",
    "IMAGE_SIZE = 30"
   ]
  },
  {
   "cell_type": "code",
   "execution_count": 57,
   "id": "41d5b329",
   "metadata": {},
   "outputs": [],
   "source": [
    "image_data  = []\n",
    "image_label = []\n",
    "\n",
    "for i in range(len(dogs_cats)):\n",
    "    IMAGE_PATH = PATH + '/' + dogs_cats[\"image\"][i]\n",
    "    image = cv2.imread(IMAGE_PATH)\n",
    "    image = cv2.resize(image, (IMAGE_SIZE, IMAGE_SIZE))\n",
    "    \n",
    "    norm_image = image / 255.0\n",
    "    \n",
    "    image_data.append(norm_image)\n",
    "    image_label.append(dogs_cats[\"label\"][i])\n",
    "\n",
    "X = np.array(image_data)\n",
    "y = np.array(image_label)\n",
    "\n",
    "X = np.reshape(X, (25000,2700))"
   ]
  },
  {
   "cell_type": "code",
   "execution_count": 58,
   "id": "cf1cf46f",
   "metadata": {},
   "outputs": [
    {
     "data": {
      "text/plain": [
       "(25000, 2700)"
      ]
     },
     "execution_count": 58,
     "metadata": {},
     "output_type": "execute_result"
    }
   ],
   "source": [
    "X.shape"
   ]
  },
  {
   "cell_type": "code",
   "execution_count": 59,
   "id": "67c395f0",
   "metadata": {},
   "outputs": [
    {
     "data": {
      "text/plain": [
       "(25000,)"
      ]
     },
     "execution_count": 59,
     "metadata": {},
     "output_type": "execute_result"
    }
   ],
   "source": [
    "y.shape"
   ]
  },
  {
   "cell_type": "code",
   "execution_count": 60,
   "id": "d10f8954",
   "metadata": {},
   "outputs": [],
   "source": [
    "# split data to 20000 train samples and 5000 to test samples\n",
    "X_train, X_test, y_train, y_test = train_test_split(X, y, test_size=0.20)"
   ]
  },
  {
   "cell_type": "code",
   "execution_count": 61,
   "id": "5cda8146",
   "metadata": {},
   "outputs": [
    {
     "data": {
      "text/plain": [
       "(20000, 2700)"
      ]
     },
     "execution_count": 61,
     "metadata": {},
     "output_type": "execute_result"
    }
   ],
   "source": [
    "# train shape is 20000 on 30^2 pixels\n",
    "X_train.shape"
   ]
  },
  {
   "cell_type": "code",
   "execution_count": 62,
   "id": "8c91ae50",
   "metadata": {},
   "outputs": [
    {
     "data": {
      "text/plain": [
       "<matplotlib.image.AxesImage at 0x271f209fd60>"
      ]
     },
     "execution_count": 62,
     "metadata": {},
     "output_type": "execute_result"
    },
    {
     "data": {
      "image/png": "[encoded data removed]",
      "text/plain": [
       "<Figure size 432x288 with 1 Axes>"
      ]
     },
     "metadata": {
      "needs_background": "light"
     },
     "output_type": "display_data"
    }
   ],
   "source": [
    "# printing a random image from the data\n",
    "random_image_name = random.choice(dogs_cats.image)\n",
    "random_image = cv2.imread(PATH + '/' + str(random_image_name))\n",
    "random_image = cv2.resize(random_image, (IMAGE_SIZE, IMAGE_SIZE))\n",
    "random_image = cv2.cvtColor(random_image, cv2.COLOR_RGB2GRAY)\n",
    "plt.imshow(random_image)"
   ]
  },
  {
   "cell_type": "code",
   "execution_count": 63,
   "id": "85e5381f",
   "metadata": {},
   "outputs": [
    {
     "name": "stdout",
     "output_type": "stream",
     "text": [
      "shape of 2 component PCA train data is: (20000, 185)\n",
      "shape of 2 component PCA test data is: (5000, 185)\n"
     ]
    }
   ],
   "source": [
    "pca_components = PCA(n_components=185)\n",
    "X_transformed_train = pca_components.fit(X_train).transform(X_train)\n",
    "X_transformed_test = pca_components.transform(X_test)\n",
    "print(\"shape of 2 component PCA train data is:\", X_transformed_train.shape)\n",
    "print(\"shape of 2 component PCA test data is:\", X_transformed_test.shape)"
   ]
  },
  {
   "cell_type": "code",
   "execution_count": 64,
   "id": "a2206248",
   "metadata": {},
   "outputs": [
    {
     "data": {
      "text/plain": [
       "array([0.19070668, 0.10450125, 0.07164825, 0.05780569, 0.03003232,\n",
       "       0.026809  , 0.02257071, 0.01936534, 0.01770016, 0.01743514,\n",
       "       0.01378501, 0.01242791, 0.01165114, 0.00992576, 0.00842145,\n",
       "       0.0078533 , 0.00756534, 0.00695641, 0.00686305, 0.00629559,\n",
       "       0.00583236, 0.00506328, 0.00500908, 0.00495877, 0.004658  ,\n",
       "       0.00443234, 0.00441125, 0.00403803, 0.00384531, 0.0038163 ,\n",
       "       0.00367536, 0.00350608, 0.00337811, 0.00332771, 0.00329966,\n",
       "       0.00320346, 0.00317865, 0.00292701, 0.00280497, 0.00269491,\n",
       "       0.00265597, 0.00257455, 0.00253011, 0.00237698, 0.00233607,\n",
       "       0.00225111, 0.00222955, 0.00219929, 0.00215256, 0.00202968,\n",
       "       0.00201737, 0.00197864, 0.00193493, 0.00186203, 0.00181593,\n",
       "       0.00178396, 0.00174488, 0.00170778, 0.00166021, 0.00162152,\n",
       "       0.00157877, 0.00153934, 0.00150267, 0.00146703, 0.00144428,\n",
       "       0.00142237, 0.00140876, 0.00139014, 0.00134223, 0.00133023,\n",
       "       0.00131536, 0.00130063, 0.00128827, 0.00127061, 0.00123862,\n",
       "       0.00121814, 0.00119993, 0.00118692, 0.00115672, 0.00113588,\n",
       "       0.0011252 , 0.00110311, 0.00109502, 0.00105776, 0.00105215,\n",
       "       0.00104556, 0.00102829, 0.0010109 , 0.0010004 , 0.00097224,\n",
       "       0.00095769, 0.00095321, 0.00092891, 0.00092451, 0.00091524,\n",
       "       0.00089981, 0.0008924 , 0.00087679, 0.00087256, 0.00086278,\n",
       "       0.00085907, 0.0008469 , 0.00084442, 0.00083486, 0.00081659,\n",
       "       0.00080231, 0.00080145, 0.000788  , 0.00077214, 0.00076694,\n",
       "       0.00076044, 0.00075312, 0.0007403 , 0.00072689, 0.0007236 ,\n",
       "       0.00072115, 0.00071429, 0.00070731, 0.00070233, 0.00070022,\n",
       "       0.00069125, 0.00068465, 0.00067823, 0.00066964, 0.00066476,\n",
       "       0.00065875, 0.00065675, 0.0006483 , 0.00064188, 0.00063117,\n",
       "       0.00062778, 0.00062414, 0.00061992, 0.00060944, 0.00060799,\n",
       "       0.00060308, 0.0005985 , 0.00059663, 0.0005921 , 0.00058678,\n",
       "       0.00057812, 0.00057566, 0.00057117, 0.00056763, 0.00056527,\n",
       "       0.00055143, 0.00054901, 0.00054497, 0.00053689, 0.00053332,\n",
       "       0.00052385, 0.00052165, 0.0005203 , 0.00051756, 0.00051537,\n",
       "       0.00051045, 0.00050722, 0.00050651, 0.00050134, 0.00049817,\n",
       "       0.00049405, 0.00049032, 0.00048641, 0.00047772, 0.00047474,\n",
       "       0.0004702 , 0.0004672 , 0.00046262, 0.00046055, 0.00045727,\n",
       "       0.00045248, 0.00045198, 0.00044899, 0.00044653, 0.00044321,\n",
       "       0.00044052, 0.00043604, 0.00043334, 0.00043142, 0.00042448,\n",
       "       0.0004222 , 0.00041911, 0.00041662, 0.00041446, 0.00040744])"
      ]
     },
     "execution_count": 64,
     "metadata": {},
     "output_type": "execute_result"
    }
   ],
   "source": [
    "pca_components.explained_variance_ratio_"
   ]
  },
  {
   "cell_type": "markdown",
   "id": "6f7e9940",
   "metadata": {},
   "source": [
    "### Bagging Classifier:"
   ]
  },
  {
   "cell_type": "code",
   "execution_count": 65,
   "id": "dd7a75f5",
   "metadata": {},
   "outputs": [
    {
     "name": "stdout",
     "output_type": "stream",
     "text": [
      "              precision    recall  f1-score   support\n",
      "\n",
      "           0       0.58      0.64      0.60      2507\n",
      "           1       0.59      0.53      0.56      2493\n",
      "\n",
      "    accuracy                           0.58      5000\n",
      "   macro avg       0.58      0.58      0.58      5000\n",
      "weighted avg       0.58      0.58      0.58      5000\n",
      "\n",
      "accuracy of the model is: 58.32 %\n"
     ]
    }
   ],
   "source": [
    "bagging_clf = BaggingClassifier(\n",
    "    DecisionTreeClassifier(),\n",
    "    n_estimators=200,\n",
    "    max_samples=100,\n",
    "    bootstrap=True,\n",
    "    n_jobs=-1)\n",
    "\n",
    "# print accuracy\n",
    "bagging_clf_auc = print_accuracy(bagging_clf, X_transformed_train, X_transformed_test, y_train, y_test)"
   ]
  },
  {
   "cell_type": "code",
   "execution_count": 66,
   "id": "f5a99d9a",
   "metadata": {},
   "outputs": [
    {
     "data": {
      "image/png": "[encoded data removed]",
      "text/plain": [
       "<Figure size 720x432 with 2 Axes>"
      ]
     },
     "metadata": {
      "needs_background": "light"
     },
     "output_type": "display_data"
    }
   ],
   "source": [
    "# plot the confusion matrix using the my_plot_confusion_matrix function\n",
    "my_plot_confusion_matrix(bagging_clf, X_transformed_test, y_test)"
   ]
  },
  {
   "cell_type": "markdown",
   "id": "5ee0f4bd",
   "metadata": {},
   "source": [
    "### Pating Classifier:"
   ]
  },
  {
   "cell_type": "code",
   "execution_count": 67,
   "id": "8d680cb3",
   "metadata": {},
   "outputs": [
    {
     "name": "stdout",
     "output_type": "stream",
     "text": [
      "              precision    recall  f1-score   support\n",
      "\n",
      "           0       0.57      0.57      0.57      2507\n",
      "           1       0.57      0.57      0.57      2493\n",
      "\n",
      "    accuracy                           0.57      5000\n",
      "   macro avg       0.57      0.57      0.57      5000\n",
      "weighted avg       0.57      0.57      0.57      5000\n",
      "\n",
      "accuracy of the model is: 57.00 %\n"
     ]
    }
   ],
   "source": [
    "pasting_clf = BaggingClassifier(\n",
    "    DecisionTreeClassifier(),\n",
    "    n_estimators=200,\n",
    "    max_samples=100,\n",
    "    bootstrap=False,\n",
    "    n_jobs=-1)\n",
    "\n",
    "# print accuracy\n",
    "pasting_clf_auc = print_accuracy(pasting_clf, X_transformed_train, X_transformed_test, y_train, y_test)"
   ]
  },
  {
   "cell_type": "code",
   "execution_count": 68,
   "id": "f8403e77",
   "metadata": {},
   "outputs": [
    {
     "data": {
      "image/png": "[encoded data removed]",
      "text/plain": [
       "<Figure size 720x432 with 2 Axes>"
      ]
     },
     "metadata": {
      "needs_background": "light"
     },
     "output_type": "display_data"
    }
   ],
   "source": [
    "# plot the confusion matrix using the my_plot_confusion_matrix function\n",
    "my_plot_confusion_matrix(pasting_clf, X_transformed_test, y_test)"
   ]
  },
  {
   "cell_type": "markdown",
   "id": "df1b0f2c",
   "metadata": {},
   "source": [
    "### Random Forest Classifier:"
   ]
  },
  {
   "cell_type": "code",
   "execution_count": 69,
   "id": "ef02a9ee",
   "metadata": {},
   "outputs": [
    {
     "name": "stdout",
     "output_type": "stream",
     "text": [
      "              precision    recall  f1-score   support\n",
      "\n",
      "           0       0.64      0.67      0.65      2507\n",
      "           1       0.65      0.62      0.63      2493\n",
      "\n",
      "    accuracy                           0.64      5000\n",
      "   macro avg       0.65      0.64      0.64      5000\n",
      "weighted avg       0.65      0.64      0.64      5000\n",
      "\n",
      "accuracy of the model is: 64.48 %\n"
     ]
    }
   ],
   "source": [
    "rnd_clf = RandomForestClassifier(\n",
    "    n_estimators=400,\n",
    "    max_features=5,\n",
    "    max_depth=16,\n",
    "    n_jobs=-1)\n",
    "\n",
    "# print accuracy\n",
    "rnd_clf_auc = print_accuracy(rnd_clf, X_transformed_train, X_transformed_test, y_train, y_test)"
   ]
  },
  {
   "cell_type": "code",
   "execution_count": 70,
   "id": "5efb917b",
   "metadata": {},
   "outputs": [
    {
     "data": {
      "image/png": "[encoded data removed]",
      "text/plain": [
       "<Figure size 720x432 with 2 Axes>"
      ]
     },
     "metadata": {
      "needs_background": "light"
     },
     "output_type": "display_data"
    }
   ],
   "source": [
    "# plot the confusion matrix using the my_plot_confusion_matrix function\n",
    "my_plot_confusion_matrix(rnd_clf, X_transformed_test, y_test)"
   ]
  },
  {
   "cell_type": "markdown",
   "id": "7ea8cd80",
   "metadata": {},
   "source": [
    "### AdaBoost Classifier:"
   ]
  },
  {
   "cell_type": "code",
   "execution_count": 71,
   "id": "4a714e18",
   "metadata": {},
   "outputs": [
    {
     "name": "stdout",
     "output_type": "stream",
     "text": [
      "              precision    recall  f1-score   support\n",
      "\n",
      "           0       0.57      0.61      0.59      2507\n",
      "           1       0.58      0.54      0.56      2493\n",
      "\n",
      "    accuracy                           0.57      5000\n",
      "   macro avg       0.58      0.57      0.57      5000\n",
      "weighted avg       0.58      0.57      0.57      5000\n",
      "\n",
      "accuracy of the model is: 57.50 %\n"
     ]
    }
   ],
   "source": [
    "adaboost_clf = AdaBoostClassifier(\n",
    "    DecisionTreeClassifier(max_depth=16),\n",
    "    n_estimators=200,\n",
    "    algorithm=\"SAMME.R\",\n",
    "    learning_rate=0.5)\n",
    "\n",
    "# print accuracy\n",
    "adaboost_clf_auc = print_accuracy(adaboost_clf, X_transformed_train, X_transformed_test, y_train, y_test)"
   ]
  },
  {
   "cell_type": "code",
   "execution_count": 72,
   "id": "f6dd07e7",
   "metadata": {},
   "outputs": [
    {
     "data": {
      "image/png": "[encoded data removed]",
      "text/plain": [
       "<Figure size 720x432 with 2 Axes>"
      ]
     },
     "metadata": {
      "needs_background": "light"
     },
     "output_type": "display_data"
    }
   ],
   "source": [
    "# plot the confusion matrix using the my_plot_confusion_matrix function\n",
    "my_plot_confusion_matrix(adaboost_clf, X_transformed_test, y_test)"
   ]
  },
  {
   "cell_type": "markdown",
   "id": "ff193f32",
   "metadata": {},
   "source": [
    "### Extreme Gradient Boostring Classifier(Binary):"
   ]
  },
  {
   "cell_type": "code",
   "execution_count": 73,
   "id": "b33e1cd6",
   "metadata": {},
   "outputs": [
    {
     "name": "stdout",
     "output_type": "stream",
     "text": [
      "              precision    recall  f1-score   support\n",
      "\n",
      "           0       0.65      0.68      0.66      2507\n",
      "           1       0.66      0.63      0.65      2493\n",
      "\n",
      "    accuracy                           0.65      5000\n",
      "   macro avg       0.65      0.65      0.65      5000\n",
      "weighted avg       0.65      0.65      0.65      5000\n",
      "\n",
      "accuracy of the model is: 65.40 %\n"
     ]
    }
   ],
   "source": [
    "bin_xgb_model = xgb.XGBClassifier(\n",
    "    learning_rate=0.1,\n",
    "    n_estimators=200,\n",
    "    use_label_encoder=False,\n",
    "    objective=\"binary:logistic\",\n",
    "    eval_metric=\"auc\",\n",
    "    verbosity=1,\n",
    "    n_jobs=-1)\n",
    "\n",
    "# print accuracy\n",
    "bin_xgb_model_auc = print_accuracy(bin_xgb_model, X_transformed_train, X_transformed_test, y_train, y_test)"
   ]
  },
  {
   "cell_type": "code",
   "execution_count": 74,
   "id": "1a4b9f81",
   "metadata": {},
   "outputs": [
    {
     "data": {
      "image/png": "[encoded data removed]",
      "text/plain": [
       "<Figure size 720x432 with 2 Axes>"
      ]
     },
     "metadata": {
      "needs_background": "light"
     },
     "output_type": "display_data"
    }
   ],
   "source": [
    "# plot the confusion matrix using the my_plot_confusion_matrix function\n",
    "my_plot_confusion_matrix(bin_xgb_model, X_transformed_test, y_test)"
   ]
  },
  {
   "cell_type": "markdown",
   "id": "23db4463",
   "metadata": {},
   "source": [
    "### Grid Search with Random Forest Classifier"
   ]
  },
  {
   "cell_type": "code",
   "execution_count": 75,
   "id": "8d252b98",
   "metadata": {},
   "outputs": [
    {
     "data": {
      "text/plain": [
       "GridSearchCV(cv=5, estimator=RandomForestClassifier(), n_jobs=-1,\n",
       "             param_grid={'max_features': [5, 10, 20],\n",
       "                         'n_estimators': [50, 100, 200]},\n",
       "             scoring='accuracy')"
      ]
     },
     "execution_count": 75,
     "metadata": {},
     "output_type": "execute_result"
    }
   ],
   "source": [
    "rnd_clf = RandomForestClassifier().fit(X_transformed_train, y_train)\n",
    "\n",
    "param_values = {'n_estimators' : [50,100,200], 'max_features' : [5,10,20]}\n",
    "gs_rnd_clf = GridSearchCV(rnd_clf, param_grid=param_values, cv=5, scoring='accuracy', n_jobs=-1)\n",
    "\n",
    "gs_rnd_clf.fit(X_transformed_train, y_train)"
   ]
  },
  {
   "cell_type": "code",
   "execution_count": 76,
   "id": "a46329c3",
   "metadata": {},
   "outputs": [
    {
     "name": "stdout",
     "output_type": "stream",
     "text": [
      "{'max_features': 20, 'n_estimators': 200}\n",
      "accuracy of the model is: 63.61 %\n"
     ]
    }
   ],
   "source": [
    "print(gs_rnd_clf.best_params_)\n",
    "print('accuracy of the model is: {} %'.format(\"%.2f\" % (gs_rnd_clf.best_score_ * 100)))\n",
    "gs_rnd_clf_auc = gs_rnd_clf.best_score_"
   ]
  },
  {
   "cell_type": "markdown",
   "id": "b4a555f7",
   "metadata": {},
   "source": [
    "### Grid Seach with Extreme Gradient Boostring Classifier:"
   ]
  },
  {
   "cell_type": "code",
   "execution_count": 77,
   "id": "b115ef45",
   "metadata": {},
   "outputs": [
    {
     "name": "stdout",
     "output_type": "stream",
     "text": [
      "[23:22:00] WARNING: ..\\src\\learner.cc:541: \n",
      "Parameters: { max_features } might not be used.\n",
      "\n",
      "  This may not be accurate due to some parameters are only used in language bindings but\n",
      "  passed down to XGBoost core.  Or some parameters are not used but slip through this\n",
      "  verification. Please open an issue if you find above cases.\n",
      "\n",
      "\n"
     ]
    },
    {
     "data": {
      "text/plain": [
       "GridSearchCV(cv=5,\n",
       "             estimator=XGBClassifier(base_score=None, booster=None,\n",
       "                                     colsample_bylevel=None,\n",
       "                                     colsample_bynode=None,\n",
       "                                     colsample_bytree=None,\n",
       "                                     eval_metric='mlogloss', gamma=None,\n",
       "                                     gpu_id=None, importance_type='gain',\n",
       "                                     interaction_constraints=None,\n",
       "                                     learning_rate=0.1, max_delta_step=None,\n",
       "                                     max_depth=None, min_child_weight=None,\n",
       "                                     missing=nan, monotone_constraints=None,\n",
       "                                     n_estimators=100, n_jobs=-1,\n",
       "                                     num_parallel_tree=None, random_state=None,\n",
       "                                     reg_alpha=None, reg_lambda=None,\n",
       "                                     scale_pos_weight=None, subsample=None,\n",
       "                                     tree_method=None, use_label_encoder=False,\n",
       "                                     validate_parameters=None, verbosity=1),\n",
       "             n_jobs=-1,\n",
       "             param_grid={'max_depth': [2, 8, 16], 'max_features': [5, 10, 20],\n",
       "                         'n_estimators': [50, 100, 200]},\n",
       "             scoring='accuracy')"
      ]
     },
     "execution_count": 77,
     "metadata": {},
     "output_type": "execute_result"
    }
   ],
   "source": [
    "mul_xgb_model= xgb.XGBClassifier(\n",
    "    learning_rate=0.1,\n",
    "    use_label_encoder=False,\n",
    "    eval_metric=\"mlogloss\",\n",
    "    verbosity=1,\n",
    "    n_jobs=-1)\n",
    "\n",
    "param_values = {'n_estimators' : [50,100,200], 'max_features' : [5,10,20], 'max_depth' : [2,8,16]}\n",
    "gs_mul_xgb_model = GridSearchCV(mul_xgb_model, param_grid=param_values, cv=5, scoring='accuracy', n_jobs=-1)\n",
    "\n",
    "gs_mul_xgb_model.fit(X_transformed_train, y_train)"
   ]
  },
  {
   "cell_type": "code",
   "execution_count": 78,
   "id": "1d41a733",
   "metadata": {},
   "outputs": [
    {
     "name": "stdout",
     "output_type": "stream",
     "text": [
      "{'max_depth': 16, 'max_features': 5, 'n_estimators': 200}\n",
      "accuracy of the model is: 65.98 %\n"
     ]
    }
   ],
   "source": [
    "print(gs_mul_xgb_model.best_params_)\n",
    "print('accuracy of the model is: {} %'.format(\"%.2f\" % (gs_mul_xgb_model.best_score_ * 100)))\n",
    "gs_mul_xgb_model_auc = gs_mul_xgb_model.best_score_"
   ]
  },
  {
   "cell_type": "code",
   "execution_count": 79,
   "id": "819d2795",
   "metadata": {},
   "outputs": [],
   "source": [
    "classifiers_accuracy = {\n",
    "    'Bagging Classifier' : bagging_clf_auc,\n",
    "    'Pasting Classifier' : pasting_clf_auc,\n",
    "    'Random Forest Classifier': rnd_clf_auc,\n",
    "    'AdaBoostring Classifier' : adaboost_clf_auc,\n",
    "    'Extreme Gradient Boostring Classifier(Binary)' : bin_xgb_model_auc,\n",
    "    'Grid Search with Random Forest Classifier' : gs_rnd_clf_auc,\n",
    "    'Grid Seach with Extreme Gradient Boostring Classifier(Multi)' : gs_mul_xgb_model_auc\n",
    "}\n",
    "components_accuracy.append(classifiers_accuracy)"
   ]
  },
  {
   "cell_type": "markdown",
   "id": "1c80a795",
   "metadata": {},
   "source": [
    "# <i>Conclusions of best model in 30^2 pixels (greysacle) and PCA of 185 Components</i>"
   ]
  },
  {
   "cell_type": "code",
   "execution_count": 80,
   "id": "851d1d54",
   "metadata": {},
   "outputs": [
    {
     "name": "stdout",
     "output_type": "stream",
     "text": [
      "\n",
      "The classifier with the maximum accuracy in 30^2 pixels images (greysacle) and 300-PCA Components is: Grid Seach with Extreme Gradient Boostring Classifier(Multi), with the accuracy of: 65.98 %\n"
     ]
    }
   ],
   "source": [
    "max_accuracy_classifier = max(classifiers_accuracy, key=classifiers_accuracy.get)\n",
    "print(\"\\nThe classifier with the maximum accuracy in 30^2 pixels images (greysacle) and 300-PCA Components is: {}, with the accuracy of: {} %\".format(max_accuracy_classifier, \"%.2f\" % (100 * classifiers_accuracy[max_accuracy_classifier])))"
   ]
  },
  {
   "cell_type": "markdown",
   "id": "d6affc15",
   "metadata": {},
   "source": [
    "# Main Conclusions"
   ]
  },
  {
   "cell_type": "code",
   "execution_count": 81,
   "id": "cfbfcb3d",
   "metadata": {},
   "outputs": [
    {
     "name": "stdout",
     "output_type": "stream",
     "text": [
      "\n",
      "\n",
      "\n",
      "335-PCA Components and 100^2 pixels images with greyscale:\n",
      "Bagging Classifier :  55.28 %\n",
      "Pasting Classifier :  54.52 %\n",
      "Random Forest Classifier :  60.80 %\n",
      "AdaBoostring Classifier :  56.20 %\n",
      "Extreme Gradient Boostring Classifier(Binary) :  64.36 %\n",
      "Grid Search with Random Forest Classifier :  61.75 %\n",
      "Grid Seach with Extreme Gradient Boostring Classifier(Multi) :  64.04 %\n",
      "\n",
      "The classifier with the maximum accuracy is: Extreme Gradient Boostring Classifier(Binary), with the accuracy of: 64.36 %\n",
      "\n",
      "\n",
      "\n",
      "300-PCA Components and 30^2 pixels images with no greyscale:\n",
      "Bagging Classifier :  57.12 %\n",
      "Pasting Classifier :  56.64 %\n",
      "Random Forest Classifier :  63.62 %\n",
      "AdaBoostring Classifier :  56.46 %\n",
      "Extreme Gradient Boostring Classifier(Binary) :  65.84 %\n",
      "Grid Search with Random Forest Classifier :  63.00 %\n",
      "Grid Seach with Extreme Gradient Boostring Classifier(Multi) :  66.20 %\n",
      "\n",
      "The classifier with the maximum accuracy is: Grid Seach with Extreme Gradient Boostring Classifier(Multi), with the accuracy of: 66.20 %\n",
      "\n",
      "\n",
      "\n",
      "185-PCA Components and 30^2 pixels images with no greyscale:\n",
      "Bagging Classifier :  58.32 %\n",
      "Pasting Classifier :  57.00 %\n",
      "Random Forest Classifier :  64.48 %\n",
      "AdaBoostring Classifier :  57.50 %\n",
      "Extreme Gradient Boostring Classifier(Binary) :  65.40 %\n",
      "Grid Search with Random Forest Classifier :  63.61 %\n",
      "Grid Seach with Extreme Gradient Boostring Classifier(Multi) :  65.98 %\n",
      "\n",
      "The classifier with the maximum accuracy is: Grid Seach with Extreme Gradient Boostring Classifier(Multi), with the accuracy of: 65.98 %\n"
     ]
    }
   ],
   "source": [
    "i = 0\n",
    "for classifiers_accuracy in components_accuracy:\n",
    "    print(\"\\n\\n\")\n",
    "    if i == 0:\n",
    "        print('335-PCA Components and 100^2 pixels images with greyscale:')\n",
    "    elif i == 1:\n",
    "        print('300-PCA Components and 30^2 pixels images with no greyscale:')\n",
    "    else:\n",
    "        print('185-PCA Components and 30^2 pixels images with no greyscale:')\n",
    "    i += 1\n",
    "    for cls in classifiers_accuracy:\n",
    "        print(cls , ': ', \"%.2f\" % (100 * classifiers_accuracy[cls]), '%')\n",
    "    max_accuracy_classifier = max(classifiers_accuracy, key=classifiers_accuracy.get)\n",
    "    print(\"\\nThe classifier with the maximum accuracy is: {}, with the accuracy of: {} %\".format(max_accuracy_classifier, \"%.2f\" % (100 * classifiers_accuracy[max_accuracy_classifier])))"
   ]
  }
 ],
 "metadata": {
  "kernelspec": {
   "display_name": "Python 3",
   "language": "python",
   "name": "python3"
  },
  "language_info": {
   "codemirror_mode": {
    "name": "ipython",
    "version": 3
   },
   "file_extension": ".py",
   "mimetype": "text/x-python",
   "name": "python",
   "nbconvert_exporter": "python",
   "pygments_lexer": "ipython3",
   "version": "3.8.10"
  }
 },
 "nbformat": 4,
 "nbformat_minor": 5
}
