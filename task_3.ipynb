{
 "cells": [
  {
   "cell_type": "markdown",
   "id": "222a951b",
   "metadata": {},
   "source": [
    "# Data Visualiztion Course Final Projet\n",
    "> by Kfir Goldfarb\n",
    "\n",
    "<a href=\"https://github.com/kggold4\"><img src=\"images/github.png\" width=\"25px\" height=\"25px\" align=\"left\"></a>\n",
    "<a href=\"https://www.linkedin.com/in/kfir-goldfarb/\"><img src=\"images/in.png\"  width=\"25px\" height=\"25px\" align=\"left\"></a>\n",
    "<a href=\"mailto:kfir.goldfarb@msmail.ariel.ac.il\"><img src=\"images/email.png\" width=\"25px\" height=\"25px\" align=\"left\"></a>\n",
    "<a href=\"https://www.youtube.com/channel/UCypEWlruyG_I5A48GqB5c6g\"><img src=\"images/youtube.png\" width=\"25px\" height=\"25px\" align=\"left\"></a>\n",
    "<a href=\"https://www.hackerrank.com/kggold4?hr_r=1\"><img src=\"images/hackerrank.png\" width=\"25px\" height=\"25px\" align=\"left\"></a>\n",
    "<a href=\"https://stackoverflow.com/users/14749277/kfir-goldfarb\"><img src=\"images/stackoverflow.png\" width=\"25px\" height=\"25px\" align=\"left\"></a>\n",
    "\n",
    "\n",
    "<br>\n",
    "\n",
    "# Jupyter Notebook Number 3\n",
    "<i>Dimensionality Reduction and PCA for Cat & Dog dataset</i>"
   ]
  },
  {
   "cell_type": "code",
   "execution_count": 1,
   "id": "ec6945a1",
   "metadata": {},
   "outputs": [],
   "source": [
    "# Data Science libraries\n",
    "import pandas as pd\n",
    "import numpy as np\n",
    "\n",
    "# Graphical libraries\n",
    "import matplotlib.pyplot as plt\n",
    "%matplotlib inline\n",
    "import plotly.graph_objs as go\n",
    "import plotly.offline as py\n",
    "import seaborn as sns\n",
    "import cv2\n",
    "\n",
    "# Main libraries\n",
    "import os\n",
    "import random\n",
    "import warnings\n",
    "from zipfile import ZipFile as zf\n",
    "warnings.filterwarnings('ignore')\n",
    "warnings.simplefilter('ignore')\n",
    "\n",
    "# sklearn tools\n",
    "from sklearn.metrics import confusion_matrix\n",
    "from sklearn.metrics import plot_confusion_matrix\n",
    "from sklearn.metrics import classification_report\n",
    "from sklearn.model_selection import train_test_split\n",
    "from sklearn.model_selection import cross_val_score\n",
    "from sklearn.model_selection import GridSearchCV\n",
    "\n",
    "# basic models\n",
    "from sklearn.neighbors import KNeighborsClassifier\n",
    "from sklearn.tree import DecisionTreeClassifier\n",
    "from sklearn.linear_model import LogisticRegression\n",
    "\n",
    "# sklearn\n",
    "from sklearn.decomposition import PCA\n",
    "from sklearn.cluster import KMeans\n",
    "from sklearn.preprocessing import normalize\n",
    "from sklearn.preprocessing import StandardScaler\n",
    "\n",
    "# ensemble\n",
    "from sklearn.ensemble import VotingClassifier\n",
    "from sklearn.ensemble import BaggingClassifier\n",
    "from sklearn.ensemble import RandomForestClassifier\n",
    "from sklearn.ensemble import AdaBoostClassifier\n",
    "from sklearn.ensemble import GradientBoostingClassifier\n",
    "import xgboost as xgb"
   ]
  },
  {
   "cell_type": "markdown",
   "id": "8d4a8017",
   "metadata": {},
   "source": [
    "### <i>Helping Functions I Wrote:</i>"
   ]
  },
  {
   "cell_type": "code",
   "execution_count": 2,
   "id": "5e4c96de",
   "metadata": {},
   "outputs": [],
   "source": [
    "# function that print the accuracy of a classification model\n",
    "def print_accuracy(clf, X_train, X_test, y_train, y_test):\n",
    "    # fit the train data to the model\n",
    "    clf.fit(X_train, y_train)\n",
    "\n",
    "    # get the pridictions of X_test\n",
    "    pridictions = clf.predict(X_test)\n",
    "\n",
    "    # get the accuracy of the model\n",
    "    accuracy = clf.score(X_test, y_test)\n",
    "\n",
    "    # print the accuracy\n",
    "    print('accuracy of the model is: {} %'.format(\"%.2f\" % (accuracy * 100)))"
   ]
  },
  {
   "cell_type": "code",
   "execution_count": 3,
   "id": "35c56d4a",
   "metadata": {},
   "outputs": [],
   "source": [
    "# function of ploting the confusion_matrix\n",
    "def my_plot_confusion_matrix(clf, X_test, y_test):\n",
    "\n",
    "    # get the confusion_matrix for ploting\n",
    "    matrix = plot_confusion_matrix(clf, X_test, y_test, cmap=plt.cm.Blues)\n",
    "\n",
    "    # main title\n",
    "    matrix.ax_.set_title('Confusion matrix')\n",
    "\n",
    "    # x label\n",
    "    plt.xlabel('Predicted Label')\n",
    "\n",
    "    # y label\n",
    "    plt.ylabel('True label')\n",
    "\n",
    "    # size of the figure\n",
    "    plt.gcf().set_size_inches(10, 6)\n",
    "\n",
    "    # show plot\n",
    "    plt.show()"
   ]
  },
  {
   "cell_type": "code",
   "execution_count": 4,
   "id": "f78fc2b3",
   "metadata": {},
   "outputs": [],
   "source": [
    "# images size\n",
    "IMAGE_SIZE = 100\n",
    "\n",
    "# path of the images of the cats vs dogs data\n",
    "PATH = \"data/task_3/train\"\n",
    "\n",
    "# Creating a dataframe that contains all of our images names with his label (0 - 'cat', 1 - 'dog')\n",
    "images = os.listdir(PATH)\n",
    "label = []\n",
    "\n",
    "for image in images:\n",
    "    if 'cat' in image:\n",
    "        label.append(0)\n",
    "    else:\n",
    "        label.append(1)\n",
    "        \n",
    "dogs_cats = {'image' : images, 'label' : label}\n",
    "dogs_cats = pd.DataFrame(dogs_cats)\n",
    "\n",
    "# mixing data\n",
    "dogs_cats = dogs_cats.sample(frac = 1).reset_index(drop=True)"
   ]
  },
  {
   "cell_type": "code",
   "execution_count": 5,
   "id": "26839519",
   "metadata": {},
   "outputs": [
    {
     "data": {
      "text/html": [
       "<div>\n",
       "<style scoped>\n",
       "    .dataframe tbody tr th:only-of-type {\n",
       "        vertical-align: middle;\n",
       "    }\n",
       "\n",
       "    .dataframe tbody tr th {\n",
       "        vertical-align: top;\n",
       "    }\n",
       "\n",
       "    .dataframe thead th {\n",
       "        text-align: right;\n",
       "    }\n",
       "</style>\n",
       "<table border=\"1\" class=\"dataframe\">\n",
       "  <thead>\n",
       "    <tr style=\"text-align: right;\">\n",
       "      <th></th>\n",
       "      <th>image</th>\n",
       "      <th>label</th>\n",
       "    </tr>\n",
       "  </thead>\n",
       "  <tbody>\n",
       "    <tr>\n",
       "      <th>0</th>\n",
       "      <td>cat.5632.jpg</td>\n",
       "      <td>0</td>\n",
       "    </tr>\n",
       "    <tr>\n",
       "      <th>1</th>\n",
       "      <td>dog.2841.jpg</td>\n",
       "      <td>1</td>\n",
       "    </tr>\n",
       "    <tr>\n",
       "      <th>2</th>\n",
       "      <td>dog.12079.jpg</td>\n",
       "      <td>1</td>\n",
       "    </tr>\n",
       "    <tr>\n",
       "      <th>3</th>\n",
       "      <td>cat.10347.jpg</td>\n",
       "      <td>0</td>\n",
       "    </tr>\n",
       "    <tr>\n",
       "      <th>4</th>\n",
       "      <td>dog.4633.jpg</td>\n",
       "      <td>1</td>\n",
       "    </tr>\n",
       "    <tr>\n",
       "      <th>...</th>\n",
       "      <td>...</td>\n",
       "      <td>...</td>\n",
       "    </tr>\n",
       "    <tr>\n",
       "      <th>24995</th>\n",
       "      <td>dog.941.jpg</td>\n",
       "      <td>1</td>\n",
       "    </tr>\n",
       "    <tr>\n",
       "      <th>24996</th>\n",
       "      <td>cat.931.jpg</td>\n",
       "      <td>0</td>\n",
       "    </tr>\n",
       "    <tr>\n",
       "      <th>24997</th>\n",
       "      <td>cat.244.jpg</td>\n",
       "      <td>0</td>\n",
       "    </tr>\n",
       "    <tr>\n",
       "      <th>24998</th>\n",
       "      <td>cat.11017.jpg</td>\n",
       "      <td>0</td>\n",
       "    </tr>\n",
       "    <tr>\n",
       "      <th>24999</th>\n",
       "      <td>cat.8738.jpg</td>\n",
       "      <td>0</td>\n",
       "    </tr>\n",
       "  </tbody>\n",
       "</table>\n",
       "<p>25000 rows × 2 columns</p>\n",
       "</div>"
      ],
      "text/plain": [
       "               image  label\n",
       "0       cat.5632.jpg      0\n",
       "1       dog.2841.jpg      1\n",
       "2      dog.12079.jpg      1\n",
       "3      cat.10347.jpg      0\n",
       "4       dog.4633.jpg      1\n",
       "...              ...    ...\n",
       "24995    dog.941.jpg      1\n",
       "24996    cat.931.jpg      0\n",
       "24997    cat.244.jpg      0\n",
       "24998  cat.11017.jpg      0\n",
       "24999   cat.8738.jpg      0\n",
       "\n",
       "[25000 rows x 2 columns]"
      ]
     },
     "execution_count": 5,
     "metadata": {},
     "output_type": "execute_result"
    }
   ],
   "source": [
    "# show first and last five samples of our data\n",
    "dogs_cats"
   ]
  },
  {
   "cell_type": "code",
   "execution_count": 6,
   "id": "b0658f06",
   "metadata": {},
   "outputs": [
    {
     "data": {
      "text/plain": [
       "<matplotlib.image.AxesImage at 0x1b3fbab1d30>"
      ]
     },
     "execution_count": 6,
     "metadata": {},
     "output_type": "execute_result"
    },
    {
     "data": {
      "image/png": "[encoded data removed]",
      "text/plain": [
       "<Figure size 432x288 with 1 Axes>"
      ]
     },
     "metadata": {
      "needs_background": "light"
     },
     "output_type": "display_data"
    }
   ],
   "source": [
    "# printing a random image from the data\n",
    "random_image_name = random.choice(dogs_cats.image)\n",
    "random_image = cv2.imread(PATH + '/' + str(random_image_name))\n",
    "random_image = cv2.resize(random_image, (IMAGE_SIZE, IMAGE_SIZE))\n",
    "random_image = cv2.cvtColor(random_image, cv2.COLOR_RGB2GRAY)\n",
    "plt.imshow(random_image)"
   ]
  },
  {
   "cell_type": "code",
   "execution_count": 7,
   "id": "64c5d2cf",
   "metadata": {},
   "outputs": [],
   "source": [
    "image_data  = []\n",
    "image_label = []\n",
    "\n",
    "for i in range(len(dogs_cats)):\n",
    "    IMAGE_PATH = PATH + '/' + dogs_cats[\"image\"][i]\n",
    "    image = cv2.imread(IMAGE_PATH, cv2.IMREAD_GRAYSCALE)\n",
    "    image = cv2.resize(image, (IMAGE_SIZE, IMAGE_SIZE))\n",
    "    # here, we are normalizing the images\n",
    "    norm_image = image / 255.0 \n",
    "    # Creating and saving each image in the form of numerical data in an array\n",
    "    image_data.append(norm_image)\n",
    "    image_label.append(dogs_cats[\"label\"][i])\n",
    "\n",
    "X = np.array(image_data)\n",
    "y = np.array(image_label)\n",
    "\n",
    "# reshape X from 3D shape to 2D shape\n",
    "X = X.reshape(-1, IMAGE_SIZE * IMAGE_SIZE)"
   ]
  },
  {
   "cell_type": "code",
   "execution_count": 8,
   "id": "527e0fb3",
   "metadata": {},
   "outputs": [],
   "source": [
    "# split data to 20000 train samples and 5000 to test samples\n",
    "X_train, X_test, y_train, y_test = train_test_split(X, y, test_size=0.20)"
   ]
  },
  {
   "cell_type": "code",
   "execution_count": 9,
   "id": "a9cedf09",
   "metadata": {},
   "outputs": [
    {
     "data": {
      "text/plain": [
       "(20000, 10000)"
      ]
     },
     "execution_count": 9,
     "metadata": {},
     "output_type": "execute_result"
    }
   ],
   "source": [
    "# train shape is 20000 on 100^2 pixels\n",
    "X_train.shape"
   ]
  },
  {
   "cell_type": "code",
   "execution_count": 10,
   "id": "b3e4a15a",
   "metadata": {},
   "outputs": [
    {
     "name": "stdout",
     "output_type": "stream",
     "text": [
      "shape of 2 component PCA train data is: (20000, 333)\n",
      "shape of 2 component PCA test data is: (5000, 333)\n"
     ]
    }
   ],
   "source": [
    "pca_components = PCA(n_components=0.9)\n",
    "X_transformed_train = pca_components.fit(X_train).transform(X_train)\n",
    "X_transformed_test = pca_components.transform(X_test)\n",
    "print(\"shape of 2 component PCA train data is:\", X_transformed_train.shape)\n",
    "print(\"shape of 2 component PCA test data is:\", X_transformed_test.shape)"
   ]
  },
  {
   "cell_type": "code",
   "execution_count": 11,
   "id": "dcf127f9",
   "metadata": {},
   "outputs": [
    {
     "data": {
      "text/plain": [
       "array([2.01759501e-01, 1.11588165e-01, 7.57974862e-02, 6.12777801e-02,\n",
       "       3.13637075e-02, 2.83869473e-02, 2.39728287e-02, 2.01631655e-02,\n",
       "       1.83677893e-02, 1.47029308e-02, 1.32241673e-02, 1.22655145e-02,\n",
       "       1.05232214e-02, 8.81381083e-03, 8.20899140e-03, 7.89233570e-03,\n",
       "       7.33531174e-03, 7.27505545e-03, 6.64002712e-03, 6.09731133e-03,\n",
       "       5.29707506e-03, 5.14053533e-03, 4.85745532e-03, 4.62488286e-03,\n",
       "       4.59479735e-03, 4.04163987e-03, 4.00185665e-03, 3.85161382e-03,\n",
       "       3.67278123e-03, 3.49036425e-03, 3.44563786e-03, 3.32888150e-03,\n",
       "       3.31421009e-03, 3.04331349e-03, 2.84111866e-03, 2.80914705e-03,\n",
       "       2.71627841e-03, 2.64426142e-03, 2.49072498e-03, 2.41221748e-03,\n",
       "       2.31624165e-03, 2.25705806e-03, 2.23810652e-03, 2.22001109e-03,\n",
       "       2.11039796e-03, 2.09150326e-03, 2.00710198e-03, 1.98143887e-03,\n",
       "       1.89725037e-03, 1.85080500e-03, 1.80427373e-03, 1.75700981e-03,\n",
       "       1.74484424e-03, 1.68029037e-03, 1.62537121e-03, 1.61488187e-03,\n",
       "       1.54692469e-03, 1.53384610e-03, 1.46664267e-03, 1.44331692e-03,\n",
       "       1.41033758e-03, 1.39193487e-03, 1.36290967e-03, 1.32896634e-03,\n",
       "       1.30613592e-03, 1.30176081e-03, 1.28945026e-03, 1.26726272e-03,\n",
       "       1.20757880e-03, 1.19888744e-03, 1.17877374e-03, 1.13851778e-03,\n",
       "       1.12520696e-03, 1.11389863e-03, 1.09689917e-03, 1.08441155e-03,\n",
       "       1.07186361e-03, 1.03063237e-03, 1.02340674e-03, 1.01231351e-03,\n",
       "       9.91321729e-04, 9.59558335e-04, 9.50096148e-04, 9.43618164e-04,\n",
       "       9.23827205e-04, 9.09815511e-04, 9.01991383e-04, 8.93683058e-04,\n",
       "       8.75819071e-04, 8.70531331e-04, 8.59126913e-04, 8.29573763e-04,\n",
       "       8.25572096e-04, 8.15468171e-04, 8.12816136e-04, 7.92108223e-04,\n",
       "       7.81472479e-04, 7.69076337e-04, 7.63566001e-04, 7.50499475e-04,\n",
       "       7.33737141e-04, 7.32370104e-04, 7.26805821e-04, 7.07086613e-04,\n",
       "       6.94529231e-04, 6.88829997e-04, 6.72072110e-04, 6.67127423e-04,\n",
       "       6.59154190e-04, 6.52930937e-04, 6.50925392e-04, 6.44060648e-04,\n",
       "       6.35377232e-04, 6.29421350e-04, 6.20910536e-04, 6.15171149e-04,\n",
       "       6.04426479e-04, 6.00468706e-04, 5.94410307e-04, 5.87389929e-04,\n",
       "       5.84430549e-04, 5.77895240e-04, 5.66422954e-04, 5.63841110e-04,\n",
       "       5.58232863e-04, 5.53186683e-04, 5.48536327e-04, 5.41366036e-04,\n",
       "       5.37190167e-04, 5.34110717e-04, 5.24519266e-04, 5.22187352e-04,\n",
       "       5.14105428e-04, 5.07299069e-04, 5.01926737e-04, 4.95888721e-04,\n",
       "       4.92527867e-04, 4.82612872e-04, 4.79517107e-04, 4.75925252e-04,\n",
       "       4.71748276e-04, 4.70537313e-04, 4.68860845e-04, 4.58635070e-04,\n",
       "       4.54548286e-04, 4.50893633e-04, 4.46961726e-04, 4.41696694e-04,\n",
       "       4.37523315e-04, 4.34460753e-04, 4.30813988e-04, 4.29782255e-04,\n",
       "       4.25489785e-04, 4.22388086e-04, 4.18581260e-04, 4.16362620e-04,\n",
       "       4.06286279e-04, 4.03983103e-04, 3.99274590e-04, 3.95894533e-04,\n",
       "       3.94897662e-04, 3.92546098e-04, 3.90357908e-04, 3.88890107e-04,\n",
       "       3.81425179e-04, 3.80823952e-04, 3.75080628e-04, 3.72515167e-04,\n",
       "       3.70082997e-04, 3.67459812e-04, 3.64415277e-04, 3.58610491e-04,\n",
       "       3.55875746e-04, 3.55658512e-04, 3.52340068e-04, 3.50184933e-04,\n",
       "       3.47114002e-04, 3.46035520e-04, 3.43003730e-04, 3.40707438e-04,\n",
       "       3.39065823e-04, 3.34871568e-04, 3.32759046e-04, 3.30432023e-04,\n",
       "       3.26884597e-04, 3.25150798e-04, 3.21616912e-04, 3.19345119e-04,\n",
       "       3.16949717e-04, 3.16267804e-04, 3.15581846e-04, 3.12235534e-04,\n",
       "       3.11944763e-04, 3.09170852e-04, 3.06212577e-04, 3.04099854e-04,\n",
       "       3.02784794e-04, 2.99280357e-04, 2.96675916e-04, 2.94304872e-04,\n",
       "       2.91846034e-04, 2.89335301e-04, 2.88275585e-04, 2.85837201e-04,\n",
       "       2.84896660e-04, 2.82193902e-04, 2.80922641e-04, 2.80046317e-04,\n",
       "       2.77972058e-04, 2.75098580e-04, 2.72815784e-04, 2.72051335e-04,\n",
       "       2.71234900e-04, 2.69401581e-04, 2.67601649e-04, 2.66239362e-04,\n",
       "       2.64330961e-04, 2.62122417e-04, 2.61590155e-04, 2.58498978e-04,\n",
       "       2.56507318e-04, 2.55676199e-04, 2.55271109e-04, 2.53442471e-04,\n",
       "       2.52584510e-04, 2.51482774e-04, 2.48102862e-04, 2.46963585e-04,\n",
       "       2.45564056e-04, 2.43592856e-04, 2.42204768e-04, 2.40443677e-04,\n",
       "       2.39123207e-04, 2.38492786e-04, 2.36664719e-04, 2.35092042e-04,\n",
       "       2.34568731e-04, 2.32940533e-04, 2.30020930e-04, 2.28884172e-04,\n",
       "       2.27580542e-04, 2.27281272e-04, 2.25853215e-04, 2.24175515e-04,\n",
       "       2.22938157e-04, 2.22351306e-04, 2.22309640e-04, 2.20500205e-04,\n",
       "       2.18342707e-04, 2.17164896e-04, 2.16205143e-04, 2.15466669e-04,\n",
       "       2.14351144e-04, 2.12499153e-04, 2.11462371e-04, 2.09898476e-04,\n",
       "       2.09464368e-04, 2.07442286e-04, 2.06610149e-04, 2.05598633e-04,\n",
       "       2.04449172e-04, 2.03818154e-04, 2.03590948e-04, 2.02689003e-04,\n",
       "       2.01469437e-04, 1.99403262e-04, 1.98569865e-04, 1.97552844e-04,\n",
       "       1.96298385e-04, 1.95896919e-04, 1.94755311e-04, 1.94120246e-04,\n",
       "       1.92937017e-04, 1.92303956e-04, 1.91418572e-04, 1.90990538e-04,\n",
       "       1.90261973e-04, 1.89238809e-04, 1.87729878e-04, 1.86609519e-04,\n",
       "       1.85555291e-04, 1.85003969e-04, 1.84286744e-04, 1.82995171e-04,\n",
       "       1.82106823e-04, 1.81358948e-04, 1.80395757e-04, 1.80107201e-04,\n",
       "       1.78671235e-04, 1.78301728e-04, 1.77328495e-04, 1.76772686e-04,\n",
       "       1.75635390e-04, 1.74994637e-04, 1.74149341e-04, 1.73781978e-04,\n",
       "       1.72811447e-04, 1.72200026e-04, 1.71964107e-04, 1.70685300e-04,\n",
       "       1.70002315e-04, 1.68684291e-04, 1.68384055e-04, 1.67728020e-04,\n",
       "       1.66324417e-04, 1.65752245e-04, 1.64134007e-04, 1.63841653e-04,\n",
       "       1.62966773e-04, 1.62759728e-04, 1.61842076e-04, 1.60992980e-04,\n",
       "       1.60741048e-04, 1.59348359e-04, 1.59087283e-04, 1.58131793e-04,\n",
       "       1.57822523e-04, 1.56820785e-04, 1.56532144e-04, 1.55685079e-04,\n",
       "       1.55120221e-04, 1.53997626e-04, 1.53297767e-04, 1.52973245e-04,\n",
       "       1.52648156e-04, 1.52178561e-04, 1.51693035e-04, 1.50931586e-04,\n",
       "       1.50182585e-04, 1.49528593e-04, 1.48714704e-04, 1.47941121e-04,\n",
       "       1.47528173e-04])"
      ]
     },
     "execution_count": 11,
     "metadata": {},
     "output_type": "execute_result"
    }
   ],
   "source": [
    "pca_components.explained_variance_ratio_"
   ]
  },
  {
   "cell_type": "markdown",
   "id": "3f522026",
   "metadata": {},
   "source": [
    "### Bagging Classifier:"
   ]
  },
  {
   "cell_type": "code",
   "execution_count": 12,
   "id": "ed4091bf",
   "metadata": {},
   "outputs": [
    {
     "name": "stdout",
     "output_type": "stream",
     "text": [
      "accuracy of the model is: 56.26 %\n"
     ]
    }
   ],
   "source": [
    "bagging_clf = BaggingClassifier(\n",
    "    DecisionTreeClassifier(), n_estimators=500,\n",
    "    max_samples=100, bootstrap=True, n_jobs=-1)\n",
    "\n",
    "# print accuracy\n",
    "print_accuracy(bagging_clf, X_transformed_train, X_transformed_test, y_train, y_test)"
   ]
  },
  {
   "cell_type": "code",
   "execution_count": 13,
   "id": "76f5a9c8",
   "metadata": {},
   "outputs": [
    {
     "data": {
      "image/png": "[encoded data removed]",
      "text/plain": [
       "<Figure size 720x432 with 2 Axes>"
      ]
     },
     "metadata": {
      "needs_background": "light"
     },
     "output_type": "display_data"
    }
   ],
   "source": [
    "# plot the confusion matrix using the my_plot_confusion_matrix function\n",
    "my_plot_confusion_matrix(bagging_clf, X_transformed_test, y_test)"
   ]
  },
  {
   "cell_type": "markdown",
   "id": "3269faea",
   "metadata": {},
   "source": [
    "### Pating Classifier:"
   ]
  },
  {
   "cell_type": "code",
   "execution_count": 14,
   "id": "05e3e831",
   "metadata": {},
   "outputs": [
    {
     "name": "stdout",
     "output_type": "stream",
     "text": [
      "accuracy of the model is: 58.56 %\n"
     ]
    }
   ],
   "source": [
    "pasting_clf = BaggingClassifier(\n",
    "    DecisionTreeClassifier(), n_estimators=500,\n",
    "    max_samples=100, bootstrap=False, n_jobs=-1)\n",
    "\n",
    "# print accuracy\n",
    "print_accuracy(pasting_clf, X_transformed_train, X_transformed_test, y_train, y_test)"
   ]
  },
  {
   "cell_type": "code",
   "execution_count": 15,
   "id": "eb3313ba",
   "metadata": {},
   "outputs": [
    {
     "data": {
      "image/png": "[encoded data removed]",
      "text/plain": [
       "<Figure size 720x432 with 2 Axes>"
      ]
     },
     "metadata": {
      "needs_background": "light"
     },
     "output_type": "display_data"
    }
   ],
   "source": [
    "# plot the confusion matrix using the my_plot_confusion_matrix function\n",
    "my_plot_confusion_matrix(pasting_clf, X_transformed_test, y_test)"
   ]
  },
  {
   "cell_type": "markdown",
   "id": "f004d9ac",
   "metadata": {},
   "source": [
    "### Random Forest Classifier:"
   ]
  },
  {
   "cell_type": "code",
   "execution_count": 16,
   "id": "6a5998ec",
   "metadata": {},
   "outputs": [
    {
     "name": "stdout",
     "output_type": "stream",
     "text": [
      "accuracy of the model is: 58.98 %\n"
     ]
    }
   ],
   "source": [
    "rnd_clf = RandomForestClassifier(\n",
    "    n_estimators=100,\n",
    "    max_features=5,\n",
    "    max_depth=16,\n",
    "    n_jobs=-1)\n",
    "\n",
    "# print accuracy\n",
    "print_accuracy(rnd_clf, X_transformed_train, X_transformed_test, y_train, y_test)"
   ]
  },
  {
   "cell_type": "code",
   "execution_count": 17,
   "id": "20ba2a83",
   "metadata": {},
   "outputs": [
    {
     "data": {
      "image/png": "[encoded data removed]",
      "text/plain": [
       "<Figure size 720x432 with 2 Axes>"
      ]
     },
     "metadata": {
      "needs_background": "light"
     },
     "output_type": "display_data"
    }
   ],
   "source": [
    "# plot the confusion matrix using the my_plot_confusion_matrix function\n",
    "my_plot_confusion_matrix(rnd_clf, X_transformed_test, y_test)"
   ]
  },
  {
   "cell_type": "markdown",
   "id": "58b6b1a5",
   "metadata": {},
   "source": [
    "### AdaBoost Classifier:"
   ]
  },
  {
   "cell_type": "code",
   "execution_count": 18,
   "id": "60e748ae",
   "metadata": {},
   "outputs": [
    {
     "name": "stdout",
     "output_type": "stream",
     "text": [
      "accuracy of the model is: 55.84 %\n"
     ]
    }
   ],
   "source": [
    "adaboost_clf = AdaBoostClassifier(\n",
    "    DecisionTreeClassifier(max_depth=16),\n",
    "    n_estimators=200,\n",
    "    algorithm=\"SAMME.R\",\n",
    "    learning_rate=0.5)\n",
    "\n",
    "# print accuracy\n",
    "print_accuracy(adaboost_clf, X_transformed_train, X_transformed_test, y_train, y_test)"
   ]
  },
  {
   "cell_type": "code",
   "execution_count": 19,
   "id": "76ed87e1",
   "metadata": {},
   "outputs": [
    {
     "data": {
      "image/png": "[encoded data removed]",
      "text/plain": [
       "<Figure size 720x432 with 2 Axes>"
      ]
     },
     "metadata": {
      "needs_background": "light"
     },
     "output_type": "display_data"
    }
   ],
   "source": [
    "# plot the confusion matrix using the my_plot_confusion_matrix function\n",
    "my_plot_confusion_matrix(adaboost_clf, X_transformed_test, y_test)"
   ]
  },
  {
   "cell_type": "markdown",
   "id": "fe0a7f10",
   "metadata": {},
   "source": [
    "### Extreme Gradient Boostring Classifier(Binary):"
   ]
  },
  {
   "cell_type": "code",
   "execution_count": 35,
   "id": "f76d52e4",
   "metadata": {},
   "outputs": [
    {
     "name": "stdout",
     "output_type": "stream",
     "text": [
      "accuracy of the model is: 64.16 %\n"
     ]
    }
   ],
   "source": [
    "bin_xgb_model = xgb.XGBClassifier(\n",
    "    learning_rate=0.1,\n",
    "    n_estimators=400,\n",
    "    use_label_encoder=False,\n",
    "    objective=\"binary:logistic\",\n",
    "    eval_metric=\"auc\",\n",
    "    verbosity=1)\n",
    "\n",
    "# print accuracy\n",
    "print_accuracy(bin_xgb_model, X_transformed_train, X_transformed_test, y_train, y_test)"
   ]
  },
  {
   "cell_type": "code",
   "execution_count": 36,
   "id": "d6365c67",
   "metadata": {},
   "outputs": [
    {
     "data": {
      "image/png": "[encoded data removed]",
      "text/plain": [
       "<Figure size 720x432 with 2 Axes>"
      ]
     },
     "metadata": {
      "needs_background": "light"
     },
     "output_type": "display_data"
    }
   ],
   "source": [
    "# plot the confusion matrix using the my_plot_confusion_matrix function\n",
    "my_plot_confusion_matrix(bin_xgb_model, X_transformed_test, y_test)"
   ]
  },
  {
   "cell_type": "markdown",
   "id": "28e54378",
   "metadata": {},
   "source": [
    "### Grid Search with Random Forest Classifier"
   ]
  },
  {
   "cell_type": "code",
   "execution_count": 37,
   "id": "52f8be32",
   "metadata": {},
   "outputs": [
    {
     "data": {
      "text/plain": [
       "GridSearchCV(cv=5, estimator=RandomForestClassifier(), n_jobs=-1,\n",
       "             param_grid={'max_features': [5, 10, 20],\n",
       "                         'n_estimators': [10, 50, 100]},\n",
       "             scoring='accuracy')"
      ]
     },
     "execution_count": 37,
     "metadata": {},
     "output_type": "execute_result"
    }
   ],
   "source": [
    "rnd_clf = RandomForestClassifier().fit(X_transformed_train, y_train)\n",
    "\n",
    "param_values = {'n_estimators' : [10,50,100], 'max_features' : [5,10,20]}\n",
    "gs_rnd_clf = GridSearchCV(rnd_clf, param_grid=param_values, cv=5, scoring='accuracy', n_jobs=-1)\n",
    "\n",
    "gs_rnd_clf.fit(X_transformed_train, y_train)"
   ]
  },
  {
   "cell_type": "code",
   "execution_count": 38,
   "id": "673397ec",
   "metadata": {},
   "outputs": [
    {
     "name": "stdout",
     "output_type": "stream",
     "text": [
      "{'max_features': 20, 'n_estimators': 100}\n",
      "accuracy of the model is: 60.72 %\n"
     ]
    }
   ],
   "source": [
    "print(gs_rnd_clf.best_params_)\n",
    "print('accuracy of the model is: {} %'.format(\"%.2f\" % (gs_rnd_clf.best_score_ * 100)))"
   ]
  },
  {
   "cell_type": "markdown",
   "id": "9de15d1c",
   "metadata": {},
   "source": [
    "### Grid Seach with Extreme Gradient Boostring Classifier(Multi):"
   ]
  },
  {
   "cell_type": "code",
   "execution_count": 44,
   "id": "bbe5d2f9",
   "metadata": {},
   "outputs": [
    {
     "name": "stdout",
     "output_type": "stream",
     "text": [
      "[21:49:37] WARNING: ..\\src\\learner.cc:541: \n",
      "Parameters: { max_features } might not be used.\n",
      "\n",
      "  This may not be accurate due to some parameters are only used in language bindings but\n",
      "  passed down to XGBoost core.  Or some parameters are not used but slip through this\n",
      "  verification. Please open an issue if you find above cases.\n",
      "\n",
      "\n"
     ]
    },
    {
     "data": {
      "text/plain": [
       "GridSearchCV(cv=5,\n",
       "             estimator=XGBClassifier(base_score=None, booster=None,\n",
       "                                     colsample_bylevel=None,\n",
       "                                     colsample_bynode=None,\n",
       "                                     colsample_bytree=None,\n",
       "                                     eval_metric='mlogloss', gamma=None,\n",
       "                                     gpu_id=None, importance_type='gain',\n",
       "                                     interaction_constraints=None,\n",
       "                                     learning_rate=0.1, max_delta_step=None,\n",
       "                                     max_depth=None, min_child_weight=None,\n",
       "                                     missing=nan, monotone_constraints=None,\n",
       "                                     n_estimators=100, n_jobs=None,\n",
       "                                     num_parallel_tree=None, random_state=None,\n",
       "                                     reg_alpha=None, reg_lambda=None,\n",
       "                                     scale_pos_weight=None, subsample=None,\n",
       "                                     tree_method=None, use_label_encoder=False,\n",
       "                                     validate_parameters=None, verbosity=1),\n",
       "             n_jobs=-1,\n",
       "             param_grid={'max_depth': [2, 8, 16], 'max_features': [5, 10, 20],\n",
       "                         'n_estimators': [50, 100, 200]},\n",
       "             scoring='accuracy')"
      ]
     },
     "execution_count": 44,
     "metadata": {},
     "output_type": "execute_result"
    }
   ],
   "source": [
    "mul_xgb_model= xgb.XGBClassifier(learning_rate=0.1, use_label_encoder=False, eval_metric=\"mlogloss\", verbosity=1)\n",
    "\n",
    "param_values = {'n_estimators' : [50,100,200], 'max_features' : [5,10,20], 'max_depth' : [2,8,16]}\n",
    "gs_mul_xgb_model = GridSearchCV(mul_xgb_model, param_grid=param_values, cv=5, scoring='accuracy', n_jobs=-1)\n",
    "\n",
    "gs_mul_xgb_model.fit(X_transformed_train, y_train)"
   ]
  },
  {
   "cell_type": "code",
   "execution_count": 45,
   "id": "f8a909b8",
   "metadata": {},
   "outputs": [
    {
     "name": "stdout",
     "output_type": "stream",
     "text": [
      "{'max_depth': 8, 'max_features': 5, 'n_estimators': 200}\n",
      "accuracy of the model is: 64.03 %\n"
     ]
    }
   ],
   "source": [
    "print(gs_mul_xgb_model.best_params_)\n",
    "print('accuracy of the model is: {} %'.format(\"%.2f\" % (gs_mul_xgb_model.best_score_ * 100)))"
   ]
  },
  {
   "cell_type": "code",
   "execution_count": 46,
   "id": "8a4ec6d8",
   "metadata": {
    "scrolled": false
   },
   "outputs": [
    {
     "name": "stdout",
     "output_type": "stream",
     "text": [
      "accuracy of the model is: 59.96 %\n"
     ]
    }
   ],
   "source": [
    "xgb_clf = xgb.XGBClassifier(learning_rate=1.0, use_label_encoder=False, eval_metric=\"mlogloss\", verbosity=1)\n",
    "print_accuracy(xgb_clf, X_transformed_train, X_transformed_test, y_train, y_test)"
   ]
  },
  {
   "cell_type": "code",
   "execution_count": null,
   "id": "741c49a5",
   "metadata": {},
   "outputs": [],
   "source": []
  }
 ],
 "metadata": {
  "kernelspec": {
   "display_name": "Python 3",
   "language": "python",
   "name": "python3"
  },
  "language_info": {
   "codemirror_mode": {
    "name": "ipython",
    "version": 3
   },
   "file_extension": ".py",
   "mimetype": "text/x-python",
   "name": "python",
   "nbconvert_exporter": "python",
   "pygments_lexer": "ipython3",
   "version": "3.8.10"
  }
 },
 "nbformat": 4,
 "nbformat_minor": 5
}
