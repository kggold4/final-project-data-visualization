{
 "cells": [
  {
   "cell_type": "markdown",
   "id": "222a951b",
   "metadata": {},
   "source": [
    "# Data Visualiztion Course Final Projet\n",
    "> by Kfir Goldfarb\n",
    "\n",
    "<a href=\"https://github.com/kggold4\"><img src=\"images/github.png\" width=\"25px\" height=\"25px\" align=\"left\"></a>\n",
    "<a href=\"https://www.linkedin.com/in/kfir-goldfarb/\"><img src=\"images/in.png\"  width=\"25px\" height=\"25px\" align=\"left\"></a>\n",
    "<a href=\"mailto:kfir.goldfarb@msmail.ariel.ac.il\"><img src=\"images/email.png\" width=\"25px\" height=\"25px\" align=\"left\"></a>\n",
    "<a href=\"https://www.youtube.com/channel/UCypEWlruyG_I5A48GqB5c6g\"><img src=\"images/youtube.png\" width=\"25px\" height=\"25px\" align=\"left\"></a>\n",
    "<a href=\"https://www.hackerrank.com/kggold4?hr_r=1\"><img src=\"images/hackerrank.png\" width=\"25px\" height=\"25px\" align=\"left\"></a>\n",
    "<a href=\"https://stackoverflow.com/users/14749277/kfir-goldfarb\"><img src=\"images/stackoverflow.png\" width=\"25px\" height=\"25px\" align=\"left\"></a>\n",
    "\n",
    "\n",
    "<br>\n",
    "\n",
    "# Jupyter Notebook Number 3\n",
    "<i>Dimensionality Reduction and PCA for Cat & Dog dataset</i>"
   ]
  },
  {
   "cell_type": "code",
   "execution_count": 1,
   "id": "ec6945a1",
   "metadata": {},
   "outputs": [],
   "source": [
    "# Data Science libraries\n",
    "import pandas as pd\n",
    "import numpy as np\n",
    "\n",
    "# Graphical libraries\n",
    "import matplotlib.pyplot as plt\n",
    "%matplotlib inline\n",
    "import plotly.graph_objs as go\n",
    "import plotly.offline as py\n",
    "import seaborn as sns\n",
    "import cv2\n",
    "\n",
    "# Main libraries\n",
    "import os\n",
    "import random\n",
    "import warnings\n",
    "from zipfile import ZipFile as zf\n",
    "warnings.filterwarnings('ignore')\n",
    "warnings.simplefilter('ignore')\n",
    "\n",
    "# sklearn tools\n",
    "from sklearn.metrics import confusion_matrix\n",
    "from sklearn.metrics import plot_confusion_matrix\n",
    "from sklearn.metrics import classification_report\n",
    "from sklearn.metrics import accuracy_score\n",
    "from sklearn.model_selection import train_test_split\n",
    "from sklearn.model_selection import cross_val_score\n",
    "from sklearn.model_selection import GridSearchCV\n",
    "\n",
    "# basic models\n",
    "from sklearn.neighbors import KNeighborsClassifier\n",
    "from sklearn.tree import DecisionTreeClassifier\n",
    "from sklearn.linear_model import LogisticRegression\n",
    "\n",
    "# sklearn\n",
    "from sklearn.decomposition import PCA\n",
    "from sklearn.cluster import KMeans\n",
    "from sklearn.preprocessing import normalize\n",
    "from sklearn.preprocessing import StandardScaler\n",
    "\n",
    "# ensemble\n",
    "from sklearn.ensemble import VotingClassifier\n",
    "from sklearn.ensemble import BaggingClassifier\n",
    "from sklearn.ensemble import RandomForestClassifier\n",
    "from sklearn.ensemble import AdaBoostClassifier\n",
    "from sklearn.ensemble import GradientBoostingClassifier\n",
    "import xgboost as xgb"
   ]
  },
  {
   "cell_type": "markdown",
   "id": "8d4a8017",
   "metadata": {},
   "source": [
    "### <i>Helping Functions I Wrote:</i>"
   ]
  },
  {
   "cell_type": "code",
   "execution_count": 2,
   "id": "5e4c96de",
   "metadata": {},
   "outputs": [],
   "source": [
    "# function that print the accuracy of a classification model\n",
    "def print_accuracy(clf, X_train, X_test, y_train, y_test):\n",
    "    # fit the train data to the model\n",
    "    clf.fit(X_train, y_train)\n",
    "\n",
    "    # get the pridictions of X_test\n",
    "    pridictions = clf.predict(X_test)\n",
    "    probabilities = clf.predict_proba(X_test)\n",
    "    probabilities = probabilities[:, 1]\n",
    "\n",
    "    # get the accuracy of the model\n",
    "    accuracy = clf.score(X_test, y_test)\n",
    "\n",
    "    # print the accuracy\n",
    "    print(classification_report(y_test, pridictions))\n",
    "    print('accuracy of the model is: {} %'.format(\"%.2f\" % (accuracy * 100)))\n",
    "    return accuracy"
   ]
  },
  {
   "cell_type": "code",
   "execution_count": 3,
   "id": "35c56d4a",
   "metadata": {},
   "outputs": [],
   "source": [
    "# function of ploting the confusion_matrix\n",
    "def my_plot_confusion_matrix(clf, X_test, y_test):\n",
    "\n",
    "    # get the confusion_matrix for ploting\n",
    "    matrix = plot_confusion_matrix(clf, X_test, y_test, cmap=plt.cm.Blues)\n",
    "\n",
    "    # main title\n",
    "    matrix.ax_.set_title('Confusion matrix')\n",
    "\n",
    "    # x label\n",
    "    plt.xlabel('Predicted Label')\n",
    "\n",
    "    # y label\n",
    "    plt.ylabel('True label')\n",
    "\n",
    "    # size of the figure\n",
    "    plt.gcf().set_size_inches(10, 6)\n",
    "\n",
    "    # show plot\n",
    "    plt.show()"
   ]
  },
  {
   "cell_type": "code",
   "execution_count": 4,
   "id": "f78fc2b3",
   "metadata": {},
   "outputs": [],
   "source": [
    "# images size\n",
    "IMAGE_SIZE = 100\n",
    "\n",
    "# path of the images of the cats vs dogs data\n",
    "PATH = \"data/task_3/train\"\n",
    "\n",
    "# Creating a dataframe that contains all of our images names with his label (0 - 'cat', 1 - 'dog')\n",
    "images = os.listdir(PATH)\n",
    "label = []\n",
    "\n",
    "for image in images:\n",
    "    if 'cat' in image:\n",
    "        label.append(0)\n",
    "    else:\n",
    "        label.append(1)\n",
    "        \n",
    "dogs_cats = {'image' : images, 'label' : label}\n",
    "dogs_cats = pd.DataFrame(dogs_cats)\n",
    "\n",
    "# mixing data\n",
    "dogs_cats = dogs_cats.sample(frac = 1).reset_index(drop=True)"
   ]
  },
  {
   "cell_type": "code",
   "execution_count": 5,
   "id": "26839519",
   "metadata": {},
   "outputs": [
    {
     "data": {
      "text/html": [
       "<div>\n",
       "<style scoped>\n",
       "    .dataframe tbody tr th:only-of-type {\n",
       "        vertical-align: middle;\n",
       "    }\n",
       "\n",
       "    .dataframe tbody tr th {\n",
       "        vertical-align: top;\n",
       "    }\n",
       "\n",
       "    .dataframe thead th {\n",
       "        text-align: right;\n",
       "    }\n",
       "</style>\n",
       "<table border=\"1\" class=\"dataframe\">\n",
       "  <thead>\n",
       "    <tr style=\"text-align: right;\">\n",
       "      <th></th>\n",
       "      <th>image</th>\n",
       "      <th>label</th>\n",
       "    </tr>\n",
       "  </thead>\n",
       "  <tbody>\n",
       "    <tr>\n",
       "      <th>0</th>\n",
       "      <td>dog.7955.jpg</td>\n",
       "      <td>1</td>\n",
       "    </tr>\n",
       "    <tr>\n",
       "      <th>1</th>\n",
       "      <td>dog.1668.jpg</td>\n",
       "      <td>1</td>\n",
       "    </tr>\n",
       "    <tr>\n",
       "      <th>2</th>\n",
       "      <td>cat.10419.jpg</td>\n",
       "      <td>0</td>\n",
       "    </tr>\n",
       "    <tr>\n",
       "      <th>3</th>\n",
       "      <td>cat.12180.jpg</td>\n",
       "      <td>0</td>\n",
       "    </tr>\n",
       "    <tr>\n",
       "      <th>4</th>\n",
       "      <td>dog.9920.jpg</td>\n",
       "      <td>1</td>\n",
       "    </tr>\n",
       "    <tr>\n",
       "      <th>...</th>\n",
       "      <td>...</td>\n",
       "      <td>...</td>\n",
       "    </tr>\n",
       "    <tr>\n",
       "      <th>24995</th>\n",
       "      <td>dog.9525.jpg</td>\n",
       "      <td>1</td>\n",
       "    </tr>\n",
       "    <tr>\n",
       "      <th>24996</th>\n",
       "      <td>dog.1153.jpg</td>\n",
       "      <td>1</td>\n",
       "    </tr>\n",
       "    <tr>\n",
       "      <th>24997</th>\n",
       "      <td>cat.4249.jpg</td>\n",
       "      <td>0</td>\n",
       "    </tr>\n",
       "    <tr>\n",
       "      <th>24998</th>\n",
       "      <td>dog.2340.jpg</td>\n",
       "      <td>1</td>\n",
       "    </tr>\n",
       "    <tr>\n",
       "      <th>24999</th>\n",
       "      <td>cat.6636.jpg</td>\n",
       "      <td>0</td>\n",
       "    </tr>\n",
       "  </tbody>\n",
       "</table>\n",
       "<p>25000 rows × 2 columns</p>\n",
       "</div>"
      ],
      "text/plain": [
       "               image  label\n",
       "0       dog.7955.jpg      1\n",
       "1       dog.1668.jpg      1\n",
       "2      cat.10419.jpg      0\n",
       "3      cat.12180.jpg      0\n",
       "4       dog.9920.jpg      1\n",
       "...              ...    ...\n",
       "24995   dog.9525.jpg      1\n",
       "24996   dog.1153.jpg      1\n",
       "24997   cat.4249.jpg      0\n",
       "24998   dog.2340.jpg      1\n",
       "24999   cat.6636.jpg      0\n",
       "\n",
       "[25000 rows x 2 columns]"
      ]
     },
     "execution_count": 5,
     "metadata": {},
     "output_type": "execute_result"
    }
   ],
   "source": [
    "# show first and last five samples of our data\n",
    "dogs_cats"
   ]
  },
  {
   "cell_type": "markdown",
   "id": "0763495c",
   "metadata": {},
   "source": [
    "# 100^2 Pixels with grey scale and PCA of 336 Components:"
   ]
  },
  {
   "cell_type": "code",
   "execution_count": 6,
   "id": "b0658f06",
   "metadata": {},
   "outputs": [
    {
     "data": {
      "text/plain": [
       "<matplotlib.image.AxesImage at 0x1a953fe0d00>"
      ]
     },
     "execution_count": 6,
     "metadata": {},
     "output_type": "execute_result"
    },
    {
     "data": {
      "image/png": "[encoded data removed]",
      "text/plain": [
       "<Figure size 432x288 with 1 Axes>"
      ]
     },
     "metadata": {
      "needs_background": "light"
     },
     "output_type": "display_data"
    }
   ],
   "source": [
    "# printing a random image from the data\n",
    "random_image_name = random.choice(dogs_cats.image)\n",
    "random_image = cv2.imread(PATH + '/' + str(random_image_name))\n",
    "random_image = cv2.resize(random_image, (IMAGE_SIZE, IMAGE_SIZE))\n",
    "random_image = cv2.cvtColor(random_image, cv2.COLOR_RGB2GRAY)\n",
    "plt.imshow(random_image)"
   ]
  },
  {
   "cell_type": "code",
   "execution_count": 7,
   "id": "64c5d2cf",
   "metadata": {},
   "outputs": [],
   "source": [
    "image_data  = []\n",
    "image_label = []\n",
    "\n",
    "for i in range(len(dogs_cats)):\n",
    "    IMAGE_PATH = PATH + '/' + dogs_cats[\"image\"][i]\n",
    "    image = cv2.imread(IMAGE_PATH, cv2.IMREAD_GRAYSCALE) \n",
    "    image = cv2.resize(image, (IMAGE_SIZE, IMAGE_SIZE))\n",
    "    # here, we are normalizing the images\n",
    "    norm_image = image / 255.0 \n",
    "    # Creating and saving each image in the form of numerical data in an array\n",
    "    image_data.append(norm_image)\n",
    "    image_label.append(dogs_cats[\"label\"][i])\n",
    "\n",
    "X = np.array(image_data)\n",
    "y = np.array(image_label)\n",
    "\n",
    "# reshape X from 3D shape to 2D shape\n",
    "X = X.reshape(-1, IMAGE_SIZE * IMAGE_SIZE)"
   ]
  },
  {
   "cell_type": "code",
   "execution_count": 8,
   "id": "a3a93600",
   "metadata": {},
   "outputs": [
    {
     "data": {
      "text/plain": [
       "(25000, 10000)"
      ]
     },
     "execution_count": 8,
     "metadata": {},
     "output_type": "execute_result"
    }
   ],
   "source": [
    "X.shape"
   ]
  },
  {
   "cell_type": "code",
   "execution_count": 9,
   "id": "af256f83",
   "metadata": {},
   "outputs": [
    {
     "data": {
      "text/plain": [
       "(25000,)"
      ]
     },
     "execution_count": 9,
     "metadata": {},
     "output_type": "execute_result"
    }
   ],
   "source": [
    "y.shape"
   ]
  },
  {
   "cell_type": "code",
   "execution_count": 10,
   "id": "527e0fb3",
   "metadata": {},
   "outputs": [],
   "source": [
    "# split data to 20000 train samples and 5000 to test samples\n",
    "X_train, X_test, y_train, y_test = train_test_split(X, y, test_size=0.20)"
   ]
  },
  {
   "cell_type": "code",
   "execution_count": 11,
   "id": "a9cedf09",
   "metadata": {},
   "outputs": [
    {
     "data": {
      "text/plain": [
       "(20000, 10000)"
      ]
     },
     "execution_count": 11,
     "metadata": {},
     "output_type": "execute_result"
    }
   ],
   "source": [
    "# train shape is 20000 on 100^2 pixels\n",
    "X_train.shape"
   ]
  },
  {
   "cell_type": "code",
   "execution_count": 12,
   "id": "b3e4a15a",
   "metadata": {},
   "outputs": [
    {
     "name": "stdout",
     "output_type": "stream",
     "text": [
      "shape of 2 component PCA train data is: (20000, 335)\n",
      "shape of 2 component PCA test data is: (5000, 335)\n"
     ]
    }
   ],
   "source": [
    "pca_components = PCA(n_components=0.9)\n",
    "X_transformed_train = pca_components.fit(X_train).transform(X_train)\n",
    "X_transformed_test = pca_components.transform(X_test)\n",
    "print(\"shape of 2 component PCA train data is:\", X_transformed_train.shape)\n",
    "print(\"shape of 2 component PCA test data is:\", X_transformed_test.shape)"
   ]
  },
  {
   "cell_type": "code",
   "execution_count": 13,
   "id": "dcf127f9",
   "metadata": {},
   "outputs": [
    {
     "data": {
      "text/plain": [
       "array([1.99814314e-01, 1.11943985e-01, 7.61361783e-02, 6.09633534e-02,\n",
       "       3.12724867e-02, 2.84134087e-02, 2.40645389e-02, 2.03887849e-02,\n",
       "       1.84075505e-02, 1.48457646e-02, 1.31909096e-02, 1.22473338e-02,\n",
       "       1.06115131e-02, 8.96114045e-03, 8.26329881e-03, 8.00817526e-03,\n",
       "       7.31611043e-03, 7.24890975e-03, 6.64670377e-03, 6.15316455e-03,\n",
       "       5.31775553e-03, 5.17036214e-03, 4.90663818e-03, 4.59628125e-03,\n",
       "       4.57213093e-03, 4.04900004e-03, 4.02109508e-03, 3.85082732e-03,\n",
       "       3.64376092e-03, 3.50270440e-03, 3.45652364e-03, 3.33759733e-03,\n",
       "       3.25985992e-03, 3.03670921e-03, 2.86086523e-03, 2.78384346e-03,\n",
       "       2.74119483e-03, 2.62437248e-03, 2.48923698e-03, 2.41220545e-03,\n",
       "       2.31689258e-03, 2.29708126e-03, 2.26411459e-03, 2.21525079e-03,\n",
       "       2.10909369e-03, 2.08925150e-03, 2.00771024e-03, 2.00327535e-03,\n",
       "       1.89403524e-03, 1.85200025e-03, 1.82374782e-03, 1.76377521e-03,\n",
       "       1.73022179e-03, 1.69911523e-03, 1.65034426e-03, 1.63371346e-03,\n",
       "       1.55313734e-03, 1.54476327e-03, 1.48188493e-03, 1.44953167e-03,\n",
       "       1.41868501e-03, 1.40471282e-03, 1.36319172e-03, 1.32814111e-03,\n",
       "       1.31340352e-03, 1.29841235e-03, 1.27813117e-03, 1.27331061e-03,\n",
       "       1.21345496e-03, 1.20579362e-03, 1.18517054e-03, 1.14451320e-03,\n",
       "       1.13156358e-03, 1.11283184e-03, 1.10623801e-03, 1.08974300e-03,\n",
       "       1.06820977e-03, 1.04206830e-03, 1.03330168e-03, 1.01849944e-03,\n",
       "       9.92233071e-04, 9.67228358e-04, 9.51702858e-04, 9.42925384e-04,\n",
       "       9.39858972e-04, 9.17376716e-04, 9.07546320e-04, 8.95218804e-04,\n",
       "       8.87952853e-04, 8.69199640e-04, 8.64912484e-04, 8.38664325e-04,\n",
       "       8.29643132e-04, 8.18996740e-04, 8.09898583e-04, 7.91839571e-04,\n",
       "       7.78941549e-04, 7.72658912e-04, 7.67198717e-04, 7.59765740e-04,\n",
       "       7.43600791e-04, 7.34952556e-04, 7.24977916e-04, 7.07596631e-04,\n",
       "       6.90986459e-04, 6.86345037e-04, 6.78975755e-04, 6.73599396e-04,\n",
       "       6.65461740e-04, 6.57052895e-04, 6.53900537e-04, 6.46490698e-04,\n",
       "       6.42277918e-04, 6.28921442e-04, 6.19491241e-04, 6.14843835e-04,\n",
       "       6.09339876e-04, 6.01211500e-04, 5.92373322e-04, 5.87592383e-04,\n",
       "       5.81937303e-04, 5.74360988e-04, 5.72553414e-04, 5.68794504e-04,\n",
       "       5.58185656e-04, 5.51460737e-04, 5.46311239e-04, 5.40855539e-04,\n",
       "       5.38406393e-04, 5.33155157e-04, 5.26479172e-04, 5.24363746e-04,\n",
       "       5.13645032e-04, 5.08598064e-04, 5.06294579e-04, 4.96216444e-04,\n",
       "       4.88243049e-04, 4.86906595e-04, 4.83204418e-04, 4.78833131e-04,\n",
       "       4.73953437e-04, 4.68946825e-04, 4.65728227e-04, 4.60149962e-04,\n",
       "       4.57388379e-04, 4.51875951e-04, 4.47906688e-04, 4.44446574e-04,\n",
       "       4.40775308e-04, 4.38110433e-04, 4.34155899e-04, 4.30700495e-04,\n",
       "       4.26830587e-04, 4.26247634e-04, 4.16977471e-04, 4.14905304e-04,\n",
       "       4.07432198e-04, 4.03076237e-04, 4.01434911e-04, 3.97604598e-04,\n",
       "       3.94277942e-04, 3.92274237e-04, 3.88011897e-04, 3.84142607e-04,\n",
       "       3.82879963e-04, 3.79153931e-04, 3.75526012e-04, 3.73489123e-04,\n",
       "       3.69211892e-04, 3.68111298e-04, 3.64685588e-04, 3.62108326e-04,\n",
       "       3.58558435e-04, 3.56265571e-04, 3.53228607e-04, 3.50433119e-04,\n",
       "       3.46921772e-04, 3.45517250e-04, 3.44605363e-04, 3.42343495e-04,\n",
       "       3.37121806e-04, 3.35815470e-04, 3.31812198e-04, 3.29176959e-04,\n",
       "       3.27616078e-04, 3.25696464e-04, 3.23624285e-04, 3.20895454e-04,\n",
       "       3.18481447e-04, 3.17741679e-04, 3.11417725e-04, 3.10703702e-04,\n",
       "       3.09071950e-04, 3.07409563e-04, 3.05963426e-04, 3.02334476e-04,\n",
       "       3.00272567e-04, 2.97098316e-04, 2.96777353e-04, 2.94443021e-04,\n",
       "       2.93000572e-04, 2.90333839e-04, 2.89325866e-04, 2.87890896e-04,\n",
       "       2.86482664e-04, 2.83758418e-04, 2.82239124e-04, 2.80295195e-04,\n",
       "       2.79424075e-04, 2.75115489e-04, 2.73509624e-04, 2.73179730e-04,\n",
       "       2.70191705e-04, 2.68505210e-04, 2.66597696e-04, 2.66089669e-04,\n",
       "       2.64910081e-04, 2.61630313e-04, 2.59499329e-04, 2.58236124e-04,\n",
       "       2.55659540e-04, 2.55323797e-04, 2.55130246e-04, 2.53791953e-04,\n",
       "       2.50071886e-04, 2.49946470e-04, 2.48935389e-04, 2.48016667e-04,\n",
       "       2.45663102e-04, 2.44095627e-04, 2.41470335e-04, 2.40622047e-04,\n",
       "       2.39406729e-04, 2.39187412e-04, 2.38350785e-04, 2.35403161e-04,\n",
       "       2.33568779e-04, 2.32623455e-04, 2.31217201e-04, 2.30396653e-04,\n",
       "       2.27879159e-04, 2.27795319e-04, 2.25633700e-04, 2.24769005e-04,\n",
       "       2.24188646e-04, 2.22805680e-04, 2.22078215e-04, 2.20706818e-04,\n",
       "       2.20520289e-04, 2.17269125e-04, 2.16399527e-04, 2.15838689e-04,\n",
       "       2.14812326e-04, 2.13311656e-04, 2.12544736e-04, 2.11180780e-04,\n",
       "       2.10566253e-04, 2.08337979e-04, 2.07445715e-04, 2.07154969e-04,\n",
       "       2.05433841e-04, 2.04468479e-04, 2.03655869e-04, 2.02816008e-04,\n",
       "       2.01432780e-04, 2.00271254e-04, 1.98633701e-04, 1.97555291e-04,\n",
       "       1.96753603e-04, 1.95092672e-04, 1.94651870e-04, 1.94455511e-04,\n",
       "       1.93137359e-04, 1.91967327e-04, 1.91219259e-04, 1.91029806e-04,\n",
       "       1.89520602e-04, 1.88467747e-04, 1.88035324e-04, 1.87581087e-04,\n",
       "       1.86668240e-04, 1.85553979e-04, 1.84108992e-04, 1.83149008e-04,\n",
       "       1.82632424e-04, 1.81783737e-04, 1.81248553e-04, 1.79509552e-04,\n",
       "       1.79076426e-04, 1.78246221e-04, 1.77943610e-04, 1.76619853e-04,\n",
       "       1.76119535e-04, 1.75463346e-04, 1.74362870e-04, 1.73304871e-04,\n",
       "       1.72598648e-04, 1.71693762e-04, 1.70962212e-04, 1.70276749e-04,\n",
       "       1.69404902e-04, 1.68939397e-04, 1.68460603e-04, 1.67313129e-04,\n",
       "       1.66283201e-04, 1.65204511e-04, 1.64843900e-04, 1.64056783e-04,\n",
       "       1.63361067e-04, 1.62543118e-04, 1.62346638e-04, 1.62081711e-04,\n",
       "       1.61513300e-04, 1.59974095e-04, 1.59396384e-04, 1.59103635e-04,\n",
       "       1.58985635e-04, 1.57250510e-04, 1.56572109e-04, 1.56068576e-04,\n",
       "       1.55511687e-04, 1.54984167e-04, 1.54113446e-04, 1.53912082e-04,\n",
       "       1.53280045e-04, 1.52183151e-04, 1.51665215e-04, 1.50407404e-04,\n",
       "       1.50371123e-04, 1.49596603e-04, 1.48748767e-04, 1.48310291e-04,\n",
       "       1.48077499e-04, 1.47625603e-04, 1.47245768e-04])"
      ]
     },
     "execution_count": 13,
     "metadata": {},
     "output_type": "execute_result"
    }
   ],
   "source": [
    "pca_components.explained_variance_ratio_"
   ]
  },
  {
   "cell_type": "markdown",
   "id": "3f522026",
   "metadata": {},
   "source": [
    "### Bagging Classifier:"
   ]
  },
  {
   "cell_type": "code",
   "execution_count": 14,
   "id": "ed4091bf",
   "metadata": {},
   "outputs": [
    {
     "name": "stdout",
     "output_type": "stream",
     "text": [
      "              precision    recall  f1-score   support\n",
      "\n",
      "           0       0.54      0.67      0.60      2481\n",
      "           1       0.58      0.44      0.50      2519\n",
      "\n",
      "    accuracy                           0.55      5000\n",
      "   macro avg       0.56      0.56      0.55      5000\n",
      "weighted avg       0.56      0.55      0.55      5000\n",
      "\n",
      "accuracy of the model is: 55.44 %\n"
     ]
    }
   ],
   "source": [
    "bagging_clf = BaggingClassifier(\n",
    "    DecisionTreeClassifier(),\n",
    "    n_estimators=200,\n",
    "    max_samples=100,\n",
    "    bootstrap=True,\n",
    "    n_jobs=-1)\n",
    "\n",
    "# print accuracy\n",
    "bagging_clf_auc = print_accuracy(bagging_clf, X_transformed_train, X_transformed_test, y_train, y_test)"
   ]
  },
  {
   "cell_type": "code",
   "execution_count": 15,
   "id": "76f5a9c8",
   "metadata": {},
   "outputs": [
    {
     "data": {
      "image/png": "[encoded data removed]",
      "text/plain": [
       "<Figure size 720x432 with 2 Axes>"
      ]
     },
     "metadata": {
      "needs_background": "light"
     },
     "output_type": "display_data"
    }
   ],
   "source": [
    "# plot the confusion matrix using the my_plot_confusion_matrix function\n",
    "my_plot_confusion_matrix(bagging_clf, X_transformed_test, y_test)"
   ]
  },
  {
   "cell_type": "markdown",
   "id": "3269faea",
   "metadata": {},
   "source": [
    "### Pating Classifier:"
   ]
  },
  {
   "cell_type": "code",
   "execution_count": 16,
   "id": "05e3e831",
   "metadata": {},
   "outputs": [
    {
     "name": "stdout",
     "output_type": "stream",
     "text": [
      "              precision    recall  f1-score   support\n",
      "\n",
      "           0       0.54      0.62      0.57      2481\n",
      "           1       0.56      0.48      0.52      2519\n",
      "\n",
      "    accuracy                           0.55      5000\n",
      "   macro avg       0.55      0.55      0.55      5000\n",
      "weighted avg       0.55      0.55      0.54      5000\n",
      "\n",
      "accuracy of the model is: 54.70 %\n"
     ]
    }
   ],
   "source": [
    "pasting_clf = BaggingClassifier(\n",
    "    DecisionTreeClassifier(),\n",
    "    n_estimators=200,\n",
    "    max_samples=100,\n",
    "    bootstrap=False,\n",
    "    n_jobs=-1)\n",
    "\n",
    "# print accuracy\n",
    "pasting_clf_auc = print_accuracy(pasting_clf, X_transformed_train, X_transformed_test, y_train, y_test)"
   ]
  },
  {
   "cell_type": "code",
   "execution_count": 17,
   "id": "eb3313ba",
   "metadata": {},
   "outputs": [
    {
     "data": {
      "image/png": "[encoded data removed]",
      "text/plain": [
       "<Figure size 720x432 with 2 Axes>"
      ]
     },
     "metadata": {
      "needs_background": "light"
     },
     "output_type": "display_data"
    }
   ],
   "source": [
    "# plot the confusion matrix using the my_plot_confusion_matrix function\n",
    "my_plot_confusion_matrix(pasting_clf, X_transformed_test, y_test)"
   ]
  },
  {
   "cell_type": "markdown",
   "id": "f004d9ac",
   "metadata": {},
   "source": [
    "### Random Forest Classifier:"
   ]
  },
  {
   "cell_type": "code",
   "execution_count": 18,
   "id": "6a5998ec",
   "metadata": {},
   "outputs": [
    {
     "name": "stdout",
     "output_type": "stream",
     "text": [
      "              precision    recall  f1-score   support\n",
      "\n",
      "           0       0.59      0.68      0.63      2481\n",
      "           1       0.63      0.54      0.58      2519\n",
      "\n",
      "    accuracy                           0.61      5000\n",
      "   macro avg       0.61      0.61      0.61      5000\n",
      "weighted avg       0.61      0.61      0.60      5000\n",
      "\n",
      "accuracy of the model is: 60.66 %\n"
     ]
    }
   ],
   "source": [
    "rnd_clf = RandomForestClassifier(\n",
    "    n_estimators=400,\n",
    "    max_features=5,\n",
    "    max_depth=16,\n",
    "    n_jobs=-1)\n",
    "\n",
    "# print accuracy\n",
    "rnd_clf_auc = print_accuracy(rnd_clf, X_transformed_train, X_transformed_test, y_train, y_test)"
   ]
  },
  {
   "cell_type": "code",
   "execution_count": 19,
   "id": "20ba2a83",
   "metadata": {},
   "outputs": [
    {
     "data": {
      "image/png": "[encoded data removed]",
      "text/plain": [
       "<Figure size 720x432 with 2 Axes>"
      ]
     },
     "metadata": {
      "needs_background": "light"
     },
     "output_type": "display_data"
    }
   ],
   "source": [
    "# plot the confusion matrix using the my_plot_confusion_matrix function\n",
    "my_plot_confusion_matrix(rnd_clf, X_transformed_test, y_test)"
   ]
  },
  {
   "cell_type": "markdown",
   "id": "58b6b1a5",
   "metadata": {},
   "source": [
    "### AdaBoost Classifier:"
   ]
  },
  {
   "cell_type": "code",
   "execution_count": 20,
   "id": "60e748ae",
   "metadata": {},
   "outputs": [
    {
     "name": "stdout",
     "output_type": "stream",
     "text": [
      "              precision    recall  f1-score   support\n",
      "\n",
      "           0       0.59      0.56      0.57      2481\n",
      "           1       0.59      0.62      0.60      2519\n",
      "\n",
      "    accuracy                           0.59      5000\n",
      "   macro avg       0.59      0.59      0.59      5000\n",
      "weighted avg       0.59      0.59      0.59      5000\n",
      "\n",
      "accuracy of the model is: 58.80 %\n"
     ]
    }
   ],
   "source": [
    "adaboost_clf = AdaBoostClassifier(\n",
    "    DecisionTreeClassifier(max_depth=16),\n",
    "    n_estimators=200,\n",
    "    algorithm=\"SAMME.R\",\n",
    "    learning_rate=0.1)\n",
    "\n",
    "# print accuracy\n",
    "adaboost_clf_auc = print_accuracy(adaboost_clf, X_transformed_train, X_transformed_test, y_train, y_test)"
   ]
  },
  {
   "cell_type": "code",
   "execution_count": 21,
   "id": "76ed87e1",
   "metadata": {},
   "outputs": [
    {
     "data": {
      "image/png": "[encoded data removed]",
      "text/plain": [
       "<Figure size 720x432 with 2 Axes>"
      ]
     },
     "metadata": {
      "needs_background": "light"
     },
     "output_type": "display_data"
    }
   ],
   "source": [
    "# plot the confusion matrix using the my_plot_confusion_matrix function\n",
    "my_plot_confusion_matrix(adaboost_clf, X_transformed_test, y_test)"
   ]
  },
  {
   "cell_type": "markdown",
   "id": "fe0a7f10",
   "metadata": {},
   "source": [
    "### Extreme Gradient Boostring Classifier(Binary):"
   ]
  },
  {
   "cell_type": "code",
   "execution_count": 22,
   "id": "f76d52e4",
   "metadata": {},
   "outputs": [
    {
     "name": "stdout",
     "output_type": "stream",
     "text": [
      "              precision    recall  f1-score   support\n",
      "\n",
      "           0       0.63      0.63      0.63      2481\n",
      "           1       0.64      0.64      0.64      2519\n",
      "\n",
      "    accuracy                           0.63      5000\n",
      "   macro avg       0.63      0.63      0.63      5000\n",
      "weighted avg       0.63      0.63      0.63      5000\n",
      "\n",
      "accuracy of the model is: 63.46 %\n"
     ]
    }
   ],
   "source": [
    "bin_xgb_model = xgb.XGBClassifier(\n",
    "    learning_rate=0.1,\n",
    "    n_estimators=200,\n",
    "    use_label_encoder=False,\n",
    "    objective=\"binary:logistic\",\n",
    "    eval_metric=\"auc\",\n",
    "    verbosity=1,\n",
    "    n_jobs=-1)\n",
    "\n",
    "# print accuracy\n",
    "bin_xgb_model_auc = print_accuracy(bin_xgb_model, X_transformed_train, X_transformed_test, y_train, y_test)"
   ]
  },
  {
   "cell_type": "code",
   "execution_count": 23,
   "id": "d6365c67",
   "metadata": {},
   "outputs": [
    {
     "data": {
      "image/png": "[encoded data removed]",
      "text/plain": [
       "<Figure size 720x432 with 2 Axes>"
      ]
     },
     "metadata": {
      "needs_background": "light"
     },
     "output_type": "display_data"
    }
   ],
   "source": [
    "# plot the confusion matrix using the my_plot_confusion_matrix function\n",
    "my_plot_confusion_matrix(bin_xgb_model, X_transformed_test, y_test)"
   ]
  },
  {
   "cell_type": "markdown",
   "id": "28e54378",
   "metadata": {},
   "source": [
    "### Grid Search with Random Forest Classifier"
   ]
  },
  {
   "cell_type": "code",
   "execution_count": 24,
   "id": "52f8be32",
   "metadata": {},
   "outputs": [
    {
     "data": {
      "text/plain": [
       "GridSearchCV(cv=5, estimator=RandomForestClassifier(), n_jobs=-1,\n",
       "             param_grid={'max_features': [5, 10, 20],\n",
       "                         'n_estimators': [50, 100, 200]},\n",
       "             scoring='accuracy')"
      ]
     },
     "execution_count": 24,
     "metadata": {},
     "output_type": "execute_result"
    }
   ],
   "source": [
    "rnd_clf = RandomForestClassifier().fit(X_transformed_train, y_train)\n",
    "\n",
    "param_values = {'n_estimators' : [50,100,200], 'max_features' : [5,10,20]}\n",
    "gs_rnd_clf = GridSearchCV(rnd_clf, param_grid=param_values, cv=5, scoring='accuracy', n_jobs=-1)\n",
    "\n",
    "gs_rnd_clf.fit(X_transformed_train, y_train)"
   ]
  },
  {
   "cell_type": "code",
   "execution_count": 25,
   "id": "673397ec",
   "metadata": {},
   "outputs": [
    {
     "name": "stdout",
     "output_type": "stream",
     "text": [
      "{'max_features': 20, 'n_estimators': 200}\n",
      "accuracy of the model is: 61.34 %\n"
     ]
    }
   ],
   "source": [
    "print(gs_rnd_clf.best_params_)\n",
    "print('accuracy of the model is: {} %'.format(\"%.2f\" % (gs_rnd_clf.best_score_ * 100)))\n",
    "gs_rnd_clf_auc = gs_rnd_clf.best_score_"
   ]
  },
  {
   "cell_type": "markdown",
   "id": "9de15d1c",
   "metadata": {},
   "source": [
    "### Grid Seach with Extreme Gradient Boostring Classifier:"
   ]
  },
  {
   "cell_type": "code",
   "execution_count": 26,
   "id": "bbe5d2f9",
   "metadata": {},
   "outputs": [
    {
     "name": "stdout",
     "output_type": "stream",
     "text": [
      "[11:38:55] WARNING: ..\\src\\learner.cc:541: \n",
      "Parameters: { max_features } might not be used.\n",
      "\n",
      "  This may not be accurate due to some parameters are only used in language bindings but\n",
      "  passed down to XGBoost core.  Or some parameters are not used but slip through this\n",
      "  verification. Please open an issue if you find above cases.\n",
      "\n",
      "\n"
     ]
    },
    {
     "data": {
      "text/plain": [
       "GridSearchCV(cv=5,\n",
       "             estimator=XGBClassifier(base_score=None, booster=None,\n",
       "                                     colsample_bylevel=None,\n",
       "                                     colsample_bynode=None,\n",
       "                                     colsample_bytree=None,\n",
       "                                     eval_metric='mlogloss', gamma=None,\n",
       "                                     gpu_id=None, importance_type='gain',\n",
       "                                     interaction_constraints=None,\n",
       "                                     learning_rate=0.1, max_delta_step=None,\n",
       "                                     max_depth=None, min_child_weight=None,\n",
       "                                     missing=nan, monotone_constraints=None,\n",
       "                                     n_estimators=100, n_jobs=-1,\n",
       "                                     num_parallel_tree=None, random_state=None,\n",
       "                                     reg_alpha=None, reg_lambda=None,\n",
       "                                     scale_pos_weight=None, subsample=None,\n",
       "                                     tree_method=None, use_label_encoder=False,\n",
       "                                     validate_parameters=None, verbosity=1),\n",
       "             n_jobs=-1,\n",
       "             param_grid={'max_depth': [2, 8, 16], 'max_features': [5, 10, 20],\n",
       "                         'n_estimators': [50, 100, 200]},\n",
       "             scoring='accuracy')"
      ]
     },
     "execution_count": 26,
     "metadata": {},
     "output_type": "execute_result"
    }
   ],
   "source": [
    "mul_xgb_model= xgb.XGBClassifier(\n",
    "    learning_rate=0.1,\n",
    "    use_label_encoder=False,\n",
    "    eval_metric=\"mlogloss\",\n",
    "    verbosity=1,\n",
    "    n_jobs=-1)\n",
    "\n",
    "param_values = {'n_estimators' : [50,100,200], 'max_features' : [5,10,20], 'max_depth' : [2,8,16]}\n",
    "gs_mul_xgb_model = GridSearchCV(mul_xgb_model, param_grid=param_values, cv=5, scoring='accuracy', n_jobs=-1)\n",
    "\n",
    "gs_mul_xgb_model.fit(X_transformed_train, y_train)"
   ]
  },
  {
   "cell_type": "code",
   "execution_count": 27,
   "id": "f8a909b8",
   "metadata": {},
   "outputs": [
    {
     "name": "stdout",
     "output_type": "stream",
     "text": [
      "{'max_depth': 16, 'max_features': 5, 'n_estimators': 200}\n",
      "accuracy of the model is: 64.14 %\n"
     ]
    }
   ],
   "source": [
    "print(gs_mul_xgb_model.best_params_)\n",
    "print('accuracy of the model is: {} %'.format(\"%.2f\" % (gs_mul_xgb_model.best_score_ * 100)))\n",
    "gs_mul_xgb_model_auc = gs_mul_xgb_model.best_score_"
   ]
  },
  {
   "cell_type": "code",
   "execution_count": 28,
   "id": "2352dcb2",
   "metadata": {},
   "outputs": [],
   "source": [
    "classifiers_accuracy = {\n",
    "    'Bagging Classifier' : bagging_clf_auc,\n",
    "    'Pasting Classifier' : pasting_clf_auc,\n",
    "    'Random Forest Classifier': rnd_clf_auc,\n",
    "    'AdaBoostring Classifier' : adaboost_clf_auc,\n",
    "    'Grid Search with Random Forest Classifier' : gs_rnd_clf_auc,\n",
    "    'Grid Seach with Extreme Gradient Boostring Classifier(Multi)' : gs_mul_xgb_model_auc\n",
    "}"
   ]
  },
  {
   "cell_type": "markdown",
   "id": "4d410c08",
   "metadata": {},
   "source": [
    "# <i>Conclusions of best model in 100^2 pixels (greysacle) and PCA of 336 Components</i>"
   ]
  },
  {
   "cell_type": "code",
   "execution_count": 29,
   "id": "0053b6e9",
   "metadata": {},
   "outputs": [
    {
     "name": "stdout",
     "output_type": "stream",
     "text": [
      "\n",
      "The classifier with the maximum accuracy in 100^2 pixels images (greysacle) and 336-PCA Components is: Grid Seach with Extreme Gradient Boostring Classifier(Multi), with the accuracy of: 64.14 %\n"
     ]
    }
   ],
   "source": [
    "max_accuracy_classifier = max(classifiers_accuracy, key=classifiers_accuracy.get)\n",
    "print(\"\\nThe classifier with the maximum accuracy in 100^2 pixels images (greysacle) and 336-PCA Components is: {}, with the accuracy of: {} %\".format(max_accuracy_classifier, \"%.2f\" % (100 * classifiers_accuracy[max_accuracy_classifier])))"
   ]
  },
  {
   "cell_type": "markdown",
   "id": "93435df5",
   "metadata": {},
   "source": [
    "# 30^2 Pixels with no grey scale and PCA of _ Components:"
   ]
  },
  {
   "cell_type": "code",
   "execution_count": 30,
   "id": "741c49a5",
   "metadata": {},
   "outputs": [],
   "source": [
    "# images size\n",
    "IMAGE_SIZE = 30"
   ]
  },
  {
   "cell_type": "code",
   "execution_count": 31,
   "id": "e89a0beb",
   "metadata": {},
   "outputs": [],
   "source": [
    "image_data  = []\n",
    "image_label = []\n",
    "\n",
    "for i in range(len(dogs_cats)):\n",
    "    IMAGE_PATH = PATH + '/' + dogs_cats[\"image\"][i]\n",
    "    image = cv2.imread(IMAGE_PATH, cv2.IMREAD_GRAYSCALE) \n",
    "    image = cv2.resize(image, (IMAGE_SIZE, IMAGE_SIZE))\n",
    "    # here, we are normalizing the images\n",
    "    norm_image = image / 255.0 \n",
    "    # Creating and saving each image in the form of numerical data in an array\n",
    "    image_data.append(norm_image)\n",
    "    image_label.append(dogs_cats[\"label\"][i])\n",
    "\n",
    "X = np.array(image_data)\n",
    "y = np.array(image_label)\n",
    "\n",
    "# reshape X from 3D shape to 2D shape\n",
    "X = X.reshape(-1, IMAGE_SIZE * IMAGE_SIZE)"
   ]
  },
  {
   "cell_type": "code",
   "execution_count": 32,
   "id": "3c5e8588",
   "metadata": {},
   "outputs": [
    {
     "data": {
      "text/plain": [
       "(25000, 900)"
      ]
     },
     "execution_count": 32,
     "metadata": {},
     "output_type": "execute_result"
    }
   ],
   "source": [
    "X.shape"
   ]
  },
  {
   "cell_type": "code",
   "execution_count": 33,
   "id": "04824e3c",
   "metadata": {},
   "outputs": [
    {
     "data": {
      "text/plain": [
       "(25000,)"
      ]
     },
     "execution_count": 33,
     "metadata": {},
     "output_type": "execute_result"
    }
   ],
   "source": [
    "y.shape"
   ]
  },
  {
   "cell_type": "code",
   "execution_count": 34,
   "id": "b97d6a82",
   "metadata": {},
   "outputs": [],
   "source": [
    "# split data to 20000 train samples and 5000 to test samples\n",
    "X_train, X_test, y_train, y_test = train_test_split(X, y, test_size=0.20)"
   ]
  },
  {
   "cell_type": "code",
   "execution_count": 35,
   "id": "ee5173a1",
   "metadata": {},
   "outputs": [
    {
     "data": {
      "text/plain": [
       "(20000, 900)"
      ]
     },
     "execution_count": 35,
     "metadata": {},
     "output_type": "execute_result"
    }
   ],
   "source": [
    "# train shape is 20000 on 30^2 pixels\n",
    "X_train.shape"
   ]
  },
  {
   "cell_type": "code",
   "execution_count": 36,
   "id": "0ab38d88",
   "metadata": {},
   "outputs": [
    {
     "data": {
      "text/plain": [
       "<matplotlib.image.AxesImage at 0x1a98df57ca0>"
      ]
     },
     "execution_count": 36,
     "metadata": {},
     "output_type": "execute_result"
    },
    {
     "data": {
      "image/png": "[encoded data removed]",
      "text/plain": [
       "<Figure size 432x288 with 1 Axes>"
      ]
     },
     "metadata": {
      "needs_background": "light"
     },
     "output_type": "display_data"
    }
   ],
   "source": [
    "# printing a random image from the data\n",
    "random_image_name = random.choice(dogs_cats.image)\n",
    "random_image = cv2.imread(PATH + '/' + str(random_image_name))\n",
    "random_image = cv2.resize(random_image, (IMAGE_SIZE, IMAGE_SIZE))\n",
    "random_image = cv2.cvtColor(random_image, cv2.COLOR_RGB2GRAY)\n",
    "plt.imshow(random_image)"
   ]
  },
  {
   "cell_type": "code",
   "execution_count": 37,
   "id": "c360b9b6",
   "metadata": {},
   "outputs": [
    {
     "name": "stdout",
     "output_type": "stream",
     "text": [
      "shape of 2 component PCA train data is: (20000, 25)\n",
      "shape of 2 component PCA test data is: (5000, 25)\n"
     ]
    }
   ],
   "source": [
    "pca_components = PCA(n_components=0.7)\n",
    "X_transformed_train = pca_components.fit(X_train).transform(X_train)\n",
    "X_transformed_test = pca_components.transform(X_test)\n",
    "print(\"shape of 2 component PCA train data is:\", X_transformed_train.shape)\n",
    "print(\"shape of 2 component PCA test data is:\", X_transformed_test.shape)"
   ]
  },
  {
   "cell_type": "code",
   "execution_count": 38,
   "id": "95ec9ece",
   "metadata": {},
   "outputs": [
    {
     "data": {
      "text/plain": [
       "array([0.19966697, 0.11232473, 0.07706448, 0.0615299 , 0.03154066,\n",
       "       0.02864663, 0.02400413, 0.02053702, 0.01838302, 0.01487362,\n",
       "       0.01335321, 0.01250199, 0.01068638, 0.00905326, 0.00837781,\n",
       "       0.00805662, 0.00747077, 0.00731271, 0.0068124 , 0.00632492,\n",
       "       0.00545546, 0.00532096, 0.00494709, 0.00472788, 0.00468466])"
      ]
     },
     "execution_count": 38,
     "metadata": {},
     "output_type": "execute_result"
    }
   ],
   "source": [
    "pca_components.explained_variance_ratio_"
   ]
  },
  {
   "cell_type": "markdown",
   "id": "5489eb56",
   "metadata": {},
   "source": [
    "### Bagging Classifier:"
   ]
  },
  {
   "cell_type": "code",
   "execution_count": 39,
   "id": "b13ee78a",
   "metadata": {},
   "outputs": [
    {
     "name": "stdout",
     "output_type": "stream",
     "text": [
      "              precision    recall  f1-score   support\n",
      "\n",
      "           0       0.58      0.58      0.58      2512\n",
      "           1       0.58      0.58      0.58      2488\n",
      "\n",
      "    accuracy                           0.58      5000\n",
      "   macro avg       0.58      0.58      0.58      5000\n",
      "weighted avg       0.58      0.58      0.58      5000\n",
      "\n",
      "accuracy of the model is: 57.92 %\n"
     ]
    }
   ],
   "source": [
    "bagging_clf = BaggingClassifier(\n",
    "    DecisionTreeClassifier(),\n",
    "    n_estimators=200,\n",
    "    max_samples=100,\n",
    "    bootstrap=True,\n",
    "    n_jobs=-1)\n",
    "\n",
    "# print accuracy\n",
    "bagging_clf_auc = print_accuracy(bagging_clf, X_transformed_train, X_transformed_test, y_train, y_test)"
   ]
  },
  {
   "cell_type": "code",
   "execution_count": 40,
   "id": "cc257cfe",
   "metadata": {},
   "outputs": [
    {
     "data": {
      "image/png": "[encoded data removed]",
      "text/plain": [
       "<Figure size 720x432 with 2 Axes>"
      ]
     },
     "metadata": {
      "needs_background": "light"
     },
     "output_type": "display_data"
    }
   ],
   "source": [
    "# plot the confusion matrix using the my_plot_confusion_matrix function\n",
    "my_plot_confusion_matrix(bagging_clf, X_transformed_test, y_test)"
   ]
  },
  {
   "cell_type": "markdown",
   "id": "afbf8c39",
   "metadata": {},
   "source": [
    "### Pating Classifier:"
   ]
  },
  {
   "cell_type": "code",
   "execution_count": 41,
   "id": "e70a769d",
   "metadata": {},
   "outputs": [
    {
     "name": "stdout",
     "output_type": "stream",
     "text": [
      "              precision    recall  f1-score   support\n",
      "\n",
      "           0       0.59      0.59      0.59      2512\n",
      "           1       0.59      0.59      0.59      2488\n",
      "\n",
      "    accuracy                           0.59      5000\n",
      "   macro avg       0.59      0.59      0.59      5000\n",
      "weighted avg       0.59      0.59      0.59      5000\n",
      "\n",
      "accuracy of the model is: 59.16 %\n"
     ]
    }
   ],
   "source": [
    "pasting_clf = BaggingClassifier(\n",
    "    DecisionTreeClassifier(),\n",
    "    n_estimators=200,\n",
    "    max_samples=100,\n",
    "    bootstrap=False,\n",
    "    n_jobs=-1)\n",
    "\n",
    "# print accuracy\n",
    "pasting_clf_auc = print_accuracy(pasting_clf, X_transformed_train, X_transformed_test, y_train, y_test)"
   ]
  },
  {
   "cell_type": "code",
   "execution_count": 42,
   "id": "26de824d",
   "metadata": {},
   "outputs": [
    {
     "data": {
      "image/png": "[encoded data removed]",
      "text/plain": [
       "<Figure size 720x432 with 2 Axes>"
      ]
     },
     "metadata": {
      "needs_background": "light"
     },
     "output_type": "display_data"
    }
   ],
   "source": [
    "# plot the confusion matrix using the my_plot_confusion_matrix function\n",
    "my_plot_confusion_matrix(pasting_clf, X_transformed_test, y_test)"
   ]
  },
  {
   "cell_type": "markdown",
   "id": "2a5898b2",
   "metadata": {},
   "source": [
    "### Random Forest Classifier:"
   ]
  },
  {
   "cell_type": "code",
   "execution_count": 43,
   "id": "fe4b8ee2",
   "metadata": {},
   "outputs": [
    {
     "name": "stdout",
     "output_type": "stream",
     "text": [
      "              precision    recall  f1-score   support\n",
      "\n",
      "           0       0.65      0.60      0.62      2512\n",
      "           1       0.62      0.67      0.65      2488\n",
      "\n",
      "    accuracy                           0.64      5000\n",
      "   macro avg       0.64      0.64      0.64      5000\n",
      "weighted avg       0.64      0.64      0.64      5000\n",
      "\n",
      "accuracy of the model is: 63.58 %\n"
     ]
    }
   ],
   "source": [
    "rnd_clf = RandomForestClassifier(\n",
    "    n_estimators=400,\n",
    "    max_features=5,\n",
    "    max_depth=16,\n",
    "    n_jobs=-1)\n",
    "\n",
    "# print accuracy\n",
    "rnd_clf_auc = print_accuracy(rnd_clf, X_transformed_train, X_transformed_test, y_train, y_test)"
   ]
  },
  {
   "cell_type": "code",
   "execution_count": 44,
   "id": "a1fd0553",
   "metadata": {},
   "outputs": [
    {
     "data": {
      "image/png": "[encoded data removed]",
      "text/plain": [
       "<Figure size 720x432 with 2 Axes>"
      ]
     },
     "metadata": {
      "needs_background": "light"
     },
     "output_type": "display_data"
    }
   ],
   "source": [
    "# plot the confusion matrix using the my_plot_confusion_matrix function\n",
    "my_plot_confusion_matrix(rnd_clf, X_transformed_test, y_test)"
   ]
  },
  {
   "cell_type": "markdown",
   "id": "2a9a3af5",
   "metadata": {},
   "source": [
    "### AdaBoost Classifier:"
   ]
  },
  {
   "cell_type": "code",
   "execution_count": 45,
   "id": "9070d018",
   "metadata": {},
   "outputs": [
    {
     "name": "stdout",
     "output_type": "stream",
     "text": [
      "              precision    recall  f1-score   support\n",
      "\n",
      "           0       0.62      0.60      0.61      2512\n",
      "           1       0.61      0.63      0.62      2488\n",
      "\n",
      "    accuracy                           0.61      5000\n",
      "   macro avg       0.61      0.61      0.61      5000\n",
      "weighted avg       0.61      0.61      0.61      5000\n",
      "\n",
      "accuracy of the model is: 61.36 %\n"
     ]
    }
   ],
   "source": [
    "adaboost_clf = AdaBoostClassifier(\n",
    "    DecisionTreeClassifier(max_depth=16),\n",
    "    n_estimators=200,\n",
    "    algorithm=\"SAMME.R\",\n",
    "    learning_rate=0.1) # 0.5 was 55.84 %\n",
    "\n",
    "# print accuracy\n",
    "adaboost_clf_auc = print_accuracy(adaboost_clf, X_transformed_train, X_transformed_test, y_train, y_test)"
   ]
  },
  {
   "cell_type": "code",
   "execution_count": 46,
   "id": "50563409",
   "metadata": {},
   "outputs": [
    {
     "data": {
      "image/png": "[encoded data removed]",
      "text/plain": [
       "<Figure size 720x432 with 2 Axes>"
      ]
     },
     "metadata": {
      "needs_background": "light"
     },
     "output_type": "display_data"
    }
   ],
   "source": [
    "# plot the confusion matrix using the my_plot_confusion_matrix function\n",
    "my_plot_confusion_matrix(adaboost_clf, X_transformed_test, y_test)"
   ]
  },
  {
   "cell_type": "markdown",
   "id": "75b61a30",
   "metadata": {},
   "source": [
    "### Extreme Gradient Boostring Classifier(Binary):"
   ]
  },
  {
   "cell_type": "code",
   "execution_count": 47,
   "id": "cac23aae",
   "metadata": {},
   "outputs": [
    {
     "name": "stdout",
     "output_type": "stream",
     "text": [
      "              precision    recall  f1-score   support\n",
      "\n",
      "           0       0.65      0.60      0.62      2512\n",
      "           1       0.62      0.67      0.65      2488\n",
      "\n",
      "    accuracy                           0.63      5000\n",
      "   macro avg       0.64      0.63      0.63      5000\n",
      "weighted avg       0.64      0.63      0.63      5000\n",
      "\n",
      "accuracy of the model is: 63.48 %\n"
     ]
    }
   ],
   "source": [
    "bin_xgb_model = xgb.XGBClassifier(\n",
    "    learning_rate=0.1,\n",
    "    n_estimators=200,\n",
    "    use_label_encoder=False,\n",
    "    objective=\"binary:logistic\",\n",
    "    eval_metric=\"auc\",\n",
    "    verbosity=1,\n",
    "    n_jobs=-1)\n",
    "\n",
    "# print accuracy\n",
    "bin_xgb_model_auc = print_accuracy(bin_xgb_model, X_transformed_train, X_transformed_test, y_train, y_test)"
   ]
  },
  {
   "cell_type": "code",
   "execution_count": 48,
   "id": "8fa6b99d",
   "metadata": {},
   "outputs": [
    {
     "data": {
      "image/png": "[encoded data removed]",
      "text/plain": [
       "<Figure size 720x432 with 2 Axes>"
      ]
     },
     "metadata": {
      "needs_background": "light"
     },
     "output_type": "display_data"
    }
   ],
   "source": [
    "# plot the confusion matrix using the my_plot_confusion_matrix function\n",
    "my_plot_confusion_matrix(bin_xgb_model, X_transformed_test, y_test)"
   ]
  },
  {
   "cell_type": "markdown",
   "id": "0f2cfd3d",
   "metadata": {},
   "source": [
    "### Grid Search with Random Forest Classifier"
   ]
  },
  {
   "cell_type": "code",
   "execution_count": 49,
   "id": "83e489f2",
   "metadata": {},
   "outputs": [
    {
     "data": {
      "text/plain": [
       "GridSearchCV(cv=5, estimator=RandomForestClassifier(), n_jobs=-1,\n",
       "             param_grid={'max_features': [5, 10, 20],\n",
       "                         'n_estimators': [50, 100, 200]},\n",
       "             scoring='accuracy')"
      ]
     },
     "execution_count": 49,
     "metadata": {},
     "output_type": "execute_result"
    }
   ],
   "source": [
    "rnd_clf = RandomForestClassifier().fit(X_transformed_train, y_train)\n",
    "\n",
    "param_values = {'n_estimators' : [50,100,200], 'max_features' : [5,10,20]}\n",
    "gs_rnd_clf = GridSearchCV(rnd_clf, param_grid=param_values, cv=5, scoring='accuracy', n_jobs=-1)\n",
    "\n",
    "gs_rnd_clf.fit(X_transformed_train, y_train)"
   ]
  },
  {
   "cell_type": "code",
   "execution_count": 50,
   "id": "d9929966",
   "metadata": {},
   "outputs": [
    {
     "name": "stdout",
     "output_type": "stream",
     "text": [
      "{'max_features': 5, 'n_estimators': 200}\n",
      "accuracy of the model is: 63.56 %\n"
     ]
    }
   ],
   "source": [
    "print(gs_rnd_clf.best_params_)\n",
    "print('accuracy of the model is: {} %'.format(\"%.2f\" % (gs_rnd_clf.best_score_ * 100)))\n",
    "gs_rnd_clf_auc = gs_rnd_clf.best_score_"
   ]
  },
  {
   "cell_type": "markdown",
   "id": "4e61d2b9",
   "metadata": {},
   "source": [
    "### Grid Seach with Extreme Gradient Boostring Classifier:"
   ]
  },
  {
   "cell_type": "code",
   "execution_count": 51,
   "id": "2d1d9b4b",
   "metadata": {},
   "outputs": [
    {
     "name": "stdout",
     "output_type": "stream",
     "text": [
      "[12:02:27] WARNING: ..\\src\\learner.cc:541: \n",
      "Parameters: { max_features } might not be used.\n",
      "\n",
      "  This may not be accurate due to some parameters are only used in language bindings but\n",
      "  passed down to XGBoost core.  Or some parameters are not used but slip through this\n",
      "  verification. Please open an issue if you find above cases.\n",
      "\n",
      "\n"
     ]
    },
    {
     "data": {
      "text/plain": [
       "GridSearchCV(cv=5,\n",
       "             estimator=XGBClassifier(base_score=None, booster=None,\n",
       "                                     colsample_bylevel=None,\n",
       "                                     colsample_bynode=None,\n",
       "                                     colsample_bytree=None,\n",
       "                                     eval_metric='mlogloss', gamma=None,\n",
       "                                     gpu_id=None, importance_type='gain',\n",
       "                                     interaction_constraints=None,\n",
       "                                     learning_rate=0.1, max_delta_step=None,\n",
       "                                     max_depth=None, min_child_weight=None,\n",
       "                                     missing=nan, monotone_constraints=None,\n",
       "                                     n_estimators=100, n_jobs=-1,\n",
       "                                     num_parallel_tree=None, random_state=None,\n",
       "                                     reg_alpha=None, reg_lambda=None,\n",
       "                                     scale_pos_weight=None, subsample=None,\n",
       "                                     tree_method=None, use_label_encoder=False,\n",
       "                                     validate_parameters=None, verbosity=1),\n",
       "             n_jobs=-1,\n",
       "             param_grid={'max_depth': [2, 8, 16], 'max_features': [5, 10, 20],\n",
       "                         'n_estimators': [50, 100, 200]},\n",
       "             scoring='accuracy')"
      ]
     },
     "execution_count": 51,
     "metadata": {},
     "output_type": "execute_result"
    }
   ],
   "source": [
    "mul_xgb_model= xgb.XGBClassifier(\n",
    "    learning_rate=0.1,\n",
    "    use_label_encoder=False,\n",
    "    eval_metric=\"mlogloss\",\n",
    "    verbosity=1,\n",
    "    n_jobs=-1)\n",
    "\n",
    "param_values = {'n_estimators' : [50,100,200], 'max_features' : [5,10,20], 'max_depth' : [2,8,16]}\n",
    "gs_mul_xgb_model = GridSearchCV(mul_xgb_model, param_grid=param_values, cv=5, scoring='accuracy', n_jobs=-1)\n",
    "\n",
    "gs_mul_xgb_model.fit(X_transformed_train, y_train)"
   ]
  },
  {
   "cell_type": "code",
   "execution_count": 52,
   "id": "b29eafa5",
   "metadata": {},
   "outputs": [
    {
     "name": "stdout",
     "output_type": "stream",
     "text": [
      "{'max_depth': 16, 'max_features': 5, 'n_estimators': 200}\n",
      "accuracy of the model is: 63.38 %\n"
     ]
    }
   ],
   "source": [
    "print(gs_mul_xgb_model.best_params_)\n",
    "print('accuracy of the model is: {} %'.format(\"%.2f\" % (gs_mul_xgb_model.best_score_ * 100)))\n",
    "gs_mul_xgb_model_auc = gs_mul_xgb_model.best_score_"
   ]
  },
  {
   "cell_type": "code",
   "execution_count": 53,
   "id": "125ecf0d",
   "metadata": {},
   "outputs": [],
   "source": [
    "classifiers_accuracy = {\n",
    "    'Bagging Classifier' : bagging_clf_auc,\n",
    "    'Pasting Classifier' : pasting_clf_auc,\n",
    "    'Random Forest Classifier': rnd_clf_auc,\n",
    "    'AdaBoostring Classifier' : adaboost_clf_auc,\n",
    "    'Grid Search with Random Forest Classifier' : gs_rnd_clf_auc,\n",
    "    'Grid Seach with Extreme Gradient Boostring Classifier(Multi)' : gs_mul_xgb_model_auc\n",
    "}"
   ]
  },
  {
   "cell_type": "markdown",
   "id": "6d61e3c3",
   "metadata": {},
   "source": [
    "# <i>Conclusions of best model in 30^2 pixels (greysacle) and PCA of 227 Components</i>"
   ]
  },
  {
   "cell_type": "code",
   "execution_count": 54,
   "id": "45b87bf6",
   "metadata": {},
   "outputs": [
    {
     "name": "stdout",
     "output_type": "stream",
     "text": [
      "\n",
      "The classifier with the maximum accuracy in 30^2 pixels images (greysacle) and 227-PCA Components is: Random Forest Classifier, with the accuracy of: 63.58 %\n"
     ]
    }
   ],
   "source": [
    "max_accuracy_classifier = max(classifiers_accuracy, key=classifiers_accuracy.get)\n",
    "print(\"\\nThe classifier with the maximum accuracy in 30^2 pixels images (greysacle) and 227-PCA Components is: {}, with the accuracy of: {} %\".format(max_accuracy_classifier, \"%.2f\" % (100 * classifiers_accuracy[max_accuracy_classifier])))"
   ]
  },
  {
   "cell_type": "code",
   "execution_count": null,
   "id": "8571e612",
   "metadata": {},
   "outputs": [],
   "source": []
  }
 ],
 "metadata": {
  "kernelspec": {
   "display_name": "Python 3",
   "language": "python",
   "name": "python3"
  },
  "language_info": {
   "codemirror_mode": {
    "name": "ipython",
    "version": 3
   },
   "file_extension": ".py",
   "mimetype": "text/x-python",
   "name": "python",
   "nbconvert_exporter": "python",
   "pygments_lexer": "ipython3",
   "version": "3.8.10"
  }
 },
 "nbformat": 4,
 "nbformat_minor": 5
}
