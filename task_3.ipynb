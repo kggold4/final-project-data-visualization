{
 "cells": [
  {
   "cell_type": "markdown",
   "id": "222a951b",
   "metadata": {},
   "source": [
    "# Data Visualiztion Course Final Projet\n",
    "> by Kfir Goldfarb\n",
    "\n",
    "<a href=\"https://github.com/kggold4\"><img src=\"images/github.png\" width=\"25px\" height=\"25px\" align=\"left\"></a>\n",
    "<a href=\"https://www.linkedin.com/in/kfir-goldfarb/\"><img src=\"images/in.png\"  width=\"25px\" height=\"25px\" align=\"left\"></a>\n",
    "<a href=\"mailto:kfir.goldfarb@msmail.ariel.ac.il\"><img src=\"images/email.png\" width=\"25px\" height=\"25px\" align=\"left\"></a>\n",
    "<a href=\"https://www.youtube.com/channel/UCypEWlruyG_I5A48GqB5c6g\"><img src=\"images/youtube.png\" width=\"25px\" height=\"25px\" align=\"left\"></a>\n",
    "<a href=\"https://www.hackerrank.com/kggold4?hr_r=1\"><img src=\"images/hackerrank.png\" width=\"25px\" height=\"25px\" align=\"left\"></a>\n",
    "<a href=\"https://stackoverflow.com/users/14749277/kfir-goldfarb\"><img src=\"images/stackoverflow.png\" width=\"25px\" height=\"25px\" align=\"left\"></a>\n",
    "\n",
    "\n",
    "<br>\n",
    "\n",
    "# Jupyter Notebook Number 3\n",
    "<i>Dimensionality Reduction and PCA for Cat & Dog dataset</i>"
   ]
  },
  {
   "cell_type": "code",
   "execution_count": 1,
   "id": "ec6945a1",
   "metadata": {},
   "outputs": [],
   "source": [
    "# Data Science libraries\n",
    "import pandas as pd\n",
    "import numpy as np\n",
    "\n",
    "# Graphical libraries\n",
    "import matplotlib.pyplot as plt\n",
    "%matplotlib inline\n",
    "import plotly.graph_objs as go\n",
    "import plotly.offline as py\n",
    "import seaborn as sns\n",
    "import cv2\n",
    "\n",
    "# Main libraries\n",
    "import os\n",
    "import random\n",
    "import warnings\n",
    "from zipfile import ZipFile as zf\n",
    "warnings.filterwarnings('ignore')\n",
    "warnings.simplefilter('ignore')\n",
    "\n",
    "# sklearn tools\n",
    "from sklearn.metrics import confusion_matrix\n",
    "from sklearn.metrics import plot_confusion_matrix\n",
    "from sklearn.metrics import classification_report\n",
    "from sklearn.model_selection import train_test_split\n",
    "from sklearn.model_selection import cross_val_score\n",
    "from sklearn.model_selection import GridSearchCV\n",
    "\n",
    "# basic models\n",
    "from sklearn.neighbors import KNeighborsClassifier\n",
    "from sklearn.tree import DecisionTreeClassifier\n",
    "from sklearn.linear_model import LogisticRegression\n",
    "\n",
    "# sklearn\n",
    "from sklearn.decomposition import PCA\n",
    "from sklearn.cluster import KMeans\n",
    "from sklearn.preprocessing import normalize\n",
    "from sklearn.preprocessing import StandardScaler\n",
    "\n",
    "# ensemble\n",
    "from sklearn.ensemble import VotingClassifier\n",
    "from sklearn.ensemble import BaggingClassifier\n",
    "from sklearn.ensemble import RandomForestClassifier\n",
    "from sklearn.ensemble import AdaBoostClassifier\n",
    "from sklearn.ensemble import GradientBoostingClassifier\n",
    "import xgboost as xgb"
   ]
  },
  {
   "cell_type": "markdown",
   "id": "8d4a8017",
   "metadata": {},
   "source": [
    "### <i>Helping Functions I Wrote:</i>"
   ]
  },
  {
   "cell_type": "code",
   "execution_count": 2,
   "id": "5e4c96de",
   "metadata": {},
   "outputs": [],
   "source": [
    "# function that print the accuracy of a classification model\n",
    "def print_accuracy(clf, X_train, X_test, y_train, y_test):\n",
    "    # fit the train data to the model\n",
    "    clf.fit(X_train, y_train)\n",
    "\n",
    "    # get the pridictions of X_test\n",
    "    pridictions = clf.predict(X_test)\n",
    "\n",
    "    # get the accuracy of the model\n",
    "    accuracy = clf.score(X_test, y_test)\n",
    "\n",
    "    # print the accuracy\n",
    "    print('accuracy of the model is: {} %'.format(\"%.2f\" % (accuracy * 100)))"
   ]
  },
  {
   "cell_type": "code",
   "execution_count": 3,
   "id": "35c56d4a",
   "metadata": {},
   "outputs": [],
   "source": [
    "# function of ploting the confusion_matrix\n",
    "def my_plot_confusion_matrix(clf, X_test, y_test):\n",
    "\n",
    "    # get the confusion_matrix for ploting\n",
    "    matrix = plot_confusion_matrix(clf, X_test, y_test, cmap=plt.cm.Blues)\n",
    "\n",
    "    # main title\n",
    "    matrix.ax_.set_title('Confusion matrix')\n",
    "\n",
    "    # x label\n",
    "    plt.xlabel('Predicted Label')\n",
    "\n",
    "    # y label\n",
    "    plt.ylabel('True label')\n",
    "\n",
    "    # size of the figure\n",
    "    plt.gcf().set_size_inches(10, 6)\n",
    "\n",
    "    # show plot\n",
    "    plt.show()"
   ]
  },
  {
   "cell_type": "code",
   "execution_count": 4,
   "id": "f78fc2b3",
   "metadata": {},
   "outputs": [],
   "source": [
    "# images size\n",
    "IMAGE_SIZE = 100\n",
    "\n",
    "# path of the images of the cats vs dogs data\n",
    "PATH = \"data/task_3/train\"\n",
    "\n",
    "# Creating a dataframe that contains all of our images names with his label (0 - 'cat', 1 - 'dog')\n",
    "images = os.listdir(PATH)\n",
    "label = []\n",
    "\n",
    "for image in images:\n",
    "    if 'cat' in image:\n",
    "        label.append(0)\n",
    "    else:\n",
    "        label.append(1)\n",
    "        \n",
    "dogs_cats = {'image' : images, 'label' : label}\n",
    "dogs_cats = pd.DataFrame(dogs_cats)\n",
    "\n",
    "# mixing data\n",
    "dogs_cats = dogs_cats.sample(frac = 1).reset_index(drop=True)"
   ]
  },
  {
   "cell_type": "code",
   "execution_count": 5,
   "id": "26839519",
   "metadata": {},
   "outputs": [
    {
     "data": {
      "text/html": [
       "<div>\n",
       "<style scoped>\n",
       "    .dataframe tbody tr th:only-of-type {\n",
       "        vertical-align: middle;\n",
       "    }\n",
       "\n",
       "    .dataframe tbody tr th {\n",
       "        vertical-align: top;\n",
       "    }\n",
       "\n",
       "    .dataframe thead th {\n",
       "        text-align: right;\n",
       "    }\n",
       "</style>\n",
       "<table border=\"1\" class=\"dataframe\">\n",
       "  <thead>\n",
       "    <tr style=\"text-align: right;\">\n",
       "      <th></th>\n",
       "      <th>image</th>\n",
       "      <th>label</th>\n",
       "    </tr>\n",
       "  </thead>\n",
       "  <tbody>\n",
       "    <tr>\n",
       "      <th>0</th>\n",
       "      <td>dog.4762.jpg</td>\n",
       "      <td>1</td>\n",
       "    </tr>\n",
       "    <tr>\n",
       "      <th>1</th>\n",
       "      <td>dog.4860.jpg</td>\n",
       "      <td>1</td>\n",
       "    </tr>\n",
       "    <tr>\n",
       "      <th>2</th>\n",
       "      <td>dog.2662.jpg</td>\n",
       "      <td>1</td>\n",
       "    </tr>\n",
       "    <tr>\n",
       "      <th>3</th>\n",
       "      <td>dog.7515.jpg</td>\n",
       "      <td>1</td>\n",
       "    </tr>\n",
       "    <tr>\n",
       "      <th>4</th>\n",
       "      <td>dog.10161.jpg</td>\n",
       "      <td>1</td>\n",
       "    </tr>\n",
       "    <tr>\n",
       "      <th>...</th>\n",
       "      <td>...</td>\n",
       "      <td>...</td>\n",
       "    </tr>\n",
       "    <tr>\n",
       "      <th>24995</th>\n",
       "      <td>cat.5824.jpg</td>\n",
       "      <td>0</td>\n",
       "    </tr>\n",
       "    <tr>\n",
       "      <th>24996</th>\n",
       "      <td>dog.8442.jpg</td>\n",
       "      <td>1</td>\n",
       "    </tr>\n",
       "    <tr>\n",
       "      <th>24997</th>\n",
       "      <td>dog.8456.jpg</td>\n",
       "      <td>1</td>\n",
       "    </tr>\n",
       "    <tr>\n",
       "      <th>24998</th>\n",
       "      <td>dog.7948.jpg</td>\n",
       "      <td>1</td>\n",
       "    </tr>\n",
       "    <tr>\n",
       "      <th>24999</th>\n",
       "      <td>dog.9545.jpg</td>\n",
       "      <td>1</td>\n",
       "    </tr>\n",
       "  </tbody>\n",
       "</table>\n",
       "<p>25000 rows × 2 columns</p>\n",
       "</div>"
      ],
      "text/plain": [
       "               image  label\n",
       "0       dog.4762.jpg      1\n",
       "1       dog.4860.jpg      1\n",
       "2       dog.2662.jpg      1\n",
       "3       dog.7515.jpg      1\n",
       "4      dog.10161.jpg      1\n",
       "...              ...    ...\n",
       "24995   cat.5824.jpg      0\n",
       "24996   dog.8442.jpg      1\n",
       "24997   dog.8456.jpg      1\n",
       "24998   dog.7948.jpg      1\n",
       "24999   dog.9545.jpg      1\n",
       "\n",
       "[25000 rows x 2 columns]"
      ]
     },
     "execution_count": 5,
     "metadata": {},
     "output_type": "execute_result"
    }
   ],
   "source": [
    "# show first and last five samples of our data\n",
    "dogs_cats"
   ]
  },
  {
   "cell_type": "code",
   "execution_count": 6,
   "id": "b0658f06",
   "metadata": {},
   "outputs": [
    {
     "data": {
      "text/plain": [
       "<matplotlib.image.AxesImage at 0x214a72c0e20>"
      ]
     },
     "execution_count": 6,
     "metadata": {},
     "output_type": "execute_result"
    },
    {
     "data": {
      "image/png": "[encoded data removed]",
      "text/plain": [
       "<Figure size 432x288 with 1 Axes>"
      ]
     },
     "metadata": {
      "needs_background": "light"
     },
     "output_type": "display_data"
    }
   ],
   "source": [
    "# printing a random image from the data\n",
    "random_image_name = random.choice(dogs_cats.image)\n",
    "random_image = cv2.imread(PATH + '/' + str(random_image_name))\n",
    "random_image = cv2.resize(random_image, (IMAGE_SIZE, IMAGE_SIZE))\n",
    "random_image = cv2.cvtColor(random_image, cv2.COLOR_RGB2GRAY)\n",
    "plt.imshow(random_image)"
   ]
  },
  {
   "cell_type": "code",
   "execution_count": 7,
   "id": "64c5d2cf",
   "metadata": {},
   "outputs": [],
   "source": [
    "image_data  = []\n",
    "image_label = []\n",
    "\n",
    "for i in range(len(dogs_cats)):\n",
    "    IMAGE_PATH = PATH + '/' + dogs_cats[\"image\"][i]\n",
    "    image = cv2.imread(IMAGE_PATH, cv2.IMREAD_GRAYSCALE)\n",
    "    image = cv2.resize(image, (IMAGE_SIZE, IMAGE_SIZE))\n",
    "    # here, we are normalizing the images\n",
    "    norm_image = image / 255.0 \n",
    "    # Creating and saving each image in the form of numerical data in an array\n",
    "    image_data.append(norm_image)\n",
    "    image_label.append(dogs_cats[\"label\"][i])\n",
    "\n",
    "X = np.array(image_data)\n",
    "y = np.array(image_label)\n",
    "\n",
    "# reshape X from 3D shape to 2D shape\n",
    "X = X.reshape(-1, IMAGE_SIZE * IMAGE_SIZE)"
   ]
  },
  {
   "cell_type": "code",
   "execution_count": 8,
   "id": "527e0fb3",
   "metadata": {},
   "outputs": [],
   "source": [
    "# split data to 20000 train samples and 5000 to test samples\n",
    "X_train, X_test, y_train, y_test = train_test_split(X, y, test_size=0.20)"
   ]
  },
  {
   "cell_type": "code",
   "execution_count": 9,
   "id": "a9cedf09",
   "metadata": {},
   "outputs": [
    {
     "data": {
      "text/plain": [
       "(20000, 10000)"
      ]
     },
     "execution_count": 9,
     "metadata": {},
     "output_type": "execute_result"
    }
   ],
   "source": [
    "# train shape is 20000 on 100^2 pixels\n",
    "X_train.shape"
   ]
  },
  {
   "cell_type": "code",
   "execution_count": 10,
   "id": "b3e4a15a",
   "metadata": {},
   "outputs": [
    {
     "name": "stdout",
     "output_type": "stream",
     "text": [
      "shape of 2 component PCA train data is: (20000, 336)\n",
      "shape of 2 component PCA test data is: (5000, 336)\n"
     ]
    }
   ],
   "source": [
    "pca_components = PCA(n_components=0.9)\n",
    "X_transformed_train = pca_components.fit(X_train).transform(X_train)\n",
    "X_transformed_test = pca_components.transform(X_test)\n",
    "print(\"shape of 2 component PCA train data is:\", X_transformed_train.shape)\n",
    "print(\"shape of 2 component PCA test data is:\", X_transformed_test.shape)"
   ]
  },
  {
   "cell_type": "code",
   "execution_count": 11,
   "id": "dcf127f9",
   "metadata": {},
   "outputs": [
    {
     "data": {
      "text/plain": [
       "array([2.00089726e-01, 1.11649963e-01, 7.67961464e-02, 6.09465094e-02,\n",
       "       3.14739659e-02, 2.82572840e-02, 2.37962456e-02, 2.02999495e-02,\n",
       "       1.85317097e-02, 1.46982418e-02, 1.31240376e-02, 1.22912933e-02,\n",
       "       1.05898464e-02, 8.81918183e-03, 8.33667900e-03, 7.94007074e-03,\n",
       "       7.29520141e-03, 7.21519125e-03, 6.67023254e-03, 6.09503960e-03,\n",
       "       5.27057073e-03, 5.21191486e-03, 4.87543915e-03, 4.58587522e-03,\n",
       "       4.57610006e-03, 4.07395437e-03, 3.99907538e-03, 3.84590742e-03,\n",
       "       3.63249437e-03, 3.45952558e-03, 3.40825328e-03, 3.34587916e-03,\n",
       "       3.29108476e-03, 3.06522213e-03, 2.87949197e-03, 2.79210100e-03,\n",
       "       2.73612682e-03, 2.65567567e-03, 2.46197796e-03, 2.40878751e-03,\n",
       "       2.29935481e-03, 2.28373270e-03, 2.25623111e-03, 2.22337251e-03,\n",
       "       2.11774444e-03, 2.07745140e-03, 2.01716479e-03, 1.98358677e-03,\n",
       "       1.91902346e-03, 1.83319666e-03, 1.80239608e-03, 1.76858591e-03,\n",
       "       1.74433956e-03, 1.66746836e-03, 1.63810224e-03, 1.61479777e-03,\n",
       "       1.54529080e-03, 1.52901054e-03, 1.46881964e-03, 1.44275732e-03,\n",
       "       1.42576530e-03, 1.39056012e-03, 1.36216451e-03, 1.34750527e-03,\n",
       "       1.31574499e-03, 1.30847075e-03, 1.28390228e-03, 1.27731238e-03,\n",
       "       1.20899075e-03, 1.19962877e-03, 1.18762374e-03, 1.15019457e-03,\n",
       "       1.13266511e-03, 1.12316349e-03, 1.10263564e-03, 1.08865381e-03,\n",
       "       1.07091060e-03, 1.05277237e-03, 1.03965075e-03, 1.02536795e-03,\n",
       "       9.93748840e-04, 9.64061011e-04, 9.58571437e-04, 9.39969318e-04,\n",
       "       9.33960079e-04, 9.20532766e-04, 9.04034450e-04, 8.96963579e-04,\n",
       "       8.86033564e-04, 8.64161427e-04, 8.51664687e-04, 8.37087435e-04,\n",
       "       8.20914800e-04, 8.19861659e-04, 8.09943643e-04, 8.01176935e-04,\n",
       "       7.88576483e-04, 7.76830877e-04, 7.68100201e-04, 7.48900292e-04,\n",
       "       7.43780773e-04, 7.31255297e-04, 7.29640469e-04, 7.02332128e-04,\n",
       "       6.91506229e-04, 6.87875717e-04, 6.75675499e-04, 6.68837981e-04,\n",
       "       6.63272595e-04, 6.56800921e-04, 6.52873755e-04, 6.49211534e-04,\n",
       "       6.34045558e-04, 6.30768257e-04, 6.22366361e-04, 6.17716041e-04,\n",
       "       6.10412489e-04, 6.02687278e-04, 5.98535220e-04, 5.88070487e-04,\n",
       "       5.81552736e-04, 5.78160435e-04, 5.69554519e-04, 5.67936765e-04,\n",
       "       5.60562785e-04, 5.54064268e-04, 5.44603426e-04, 5.39138460e-04,\n",
       "       5.38047788e-04, 5.29737749e-04, 5.29193693e-04, 5.19145841e-04,\n",
       "       5.14745361e-04, 5.10428480e-04, 5.03540744e-04, 4.97041798e-04,\n",
       "       4.89009068e-04, 4.85761683e-04, 4.79790473e-04, 4.77702512e-04,\n",
       "       4.73361158e-04, 4.69460221e-04, 4.66736524e-04, 4.60414081e-04,\n",
       "       4.58868746e-04, 4.50764740e-04, 4.50511118e-04, 4.44286965e-04,\n",
       "       4.40150089e-04, 4.33792934e-04, 4.31661125e-04, 4.29586591e-04,\n",
       "       4.27229254e-04, 4.21340363e-04, 4.20921776e-04, 4.16054136e-04,\n",
       "       4.10498315e-04, 4.03532278e-04, 4.03098521e-04, 3.97674949e-04,\n",
       "       3.95246283e-04, 3.94367771e-04, 3.88886989e-04, 3.84809636e-04,\n",
       "       3.82411113e-04, 3.77848491e-04, 3.74490269e-04, 3.72884286e-04,\n",
       "       3.70262774e-04, 3.67370404e-04, 3.63539743e-04, 3.60590599e-04,\n",
       "       3.59030776e-04, 3.57312707e-04, 3.54234452e-04, 3.51910758e-04,\n",
       "       3.45428573e-04, 3.42823168e-04, 3.41160717e-04, 3.40587095e-04,\n",
       "       3.37521456e-04, 3.37156745e-04, 3.34680154e-04, 3.32123212e-04,\n",
       "       3.27887278e-04, 3.25791708e-04, 3.22852153e-04, 3.21939336e-04,\n",
       "       3.20220530e-04, 3.16119452e-04, 3.12394436e-04, 3.11344546e-04,\n",
       "       3.09624014e-04, 3.08955813e-04, 3.07060693e-04, 3.05104836e-04,\n",
       "       3.02836462e-04, 3.00513978e-04, 2.96744900e-04, 2.96540810e-04,\n",
       "       2.93958237e-04, 2.92438390e-04, 2.91543901e-04, 2.87301179e-04,\n",
       "       2.84974970e-04, 2.84617495e-04, 2.82937518e-04, 2.78636155e-04,\n",
       "       2.78425768e-04, 2.76462949e-04, 2.75083683e-04, 2.73802299e-04,\n",
       "       2.71574503e-04, 2.68889319e-04, 2.67941447e-04, 2.66151997e-04,\n",
       "       2.63453791e-04, 2.63026933e-04, 2.61404139e-04, 2.59539535e-04,\n",
       "       2.58569941e-04, 2.55991703e-04, 2.54595185e-04, 2.54225877e-04,\n",
       "       2.53153072e-04, 2.50988704e-04, 2.48620937e-04, 2.47971897e-04,\n",
       "       2.46551148e-04, 2.45611381e-04, 2.41970107e-04, 2.41065018e-04,\n",
       "       2.39968924e-04, 2.39125929e-04, 2.37091422e-04, 2.36586333e-04,\n",
       "       2.35231715e-04, 2.32183229e-04, 2.31609784e-04, 2.30123065e-04,\n",
       "       2.29854017e-04, 2.27076106e-04, 2.26003685e-04, 2.24610285e-04,\n",
       "       2.23635575e-04, 2.22580995e-04, 2.21953998e-04, 2.20738332e-04,\n",
       "       2.19181654e-04, 2.17931073e-04, 2.17047668e-04, 2.16367526e-04,\n",
       "       2.15229857e-04, 2.13443668e-04, 2.11611395e-04, 2.11168989e-04,\n",
       "       2.09891701e-04, 2.07793958e-04, 2.06754166e-04, 2.06286700e-04,\n",
       "       2.05669761e-04, 2.04593655e-04, 2.03202051e-04, 2.02735366e-04,\n",
       "       2.00910585e-04, 2.00319155e-04, 1.98681523e-04, 1.98518600e-04,\n",
       "       1.96954488e-04, 1.96737062e-04, 1.95520691e-04, 1.94787100e-04,\n",
       "       1.93959329e-04, 1.92628183e-04, 1.91702907e-04, 1.91016747e-04,\n",
       "       1.90897002e-04, 1.90218528e-04, 1.87658520e-04, 1.87379297e-04,\n",
       "       1.86315490e-04, 1.85985156e-04, 1.85285257e-04, 1.84454095e-04,\n",
       "       1.83407765e-04, 1.82371745e-04, 1.81267956e-04, 1.79537394e-04,\n",
       "       1.79385412e-04, 1.78286589e-04, 1.77615081e-04, 1.76500589e-04,\n",
       "       1.76168012e-04, 1.75494719e-04, 1.74848139e-04, 1.73425991e-04,\n",
       "       1.72707792e-04, 1.71971125e-04, 1.71826985e-04, 1.71300065e-04,\n",
       "       1.70153807e-04, 1.69496708e-04, 1.68956212e-04, 1.68263202e-04,\n",
       "       1.67447513e-04, 1.66030979e-04, 1.65362204e-04, 1.64850802e-04,\n",
       "       1.64284021e-04, 1.63985567e-04, 1.63189374e-04, 1.61879707e-04,\n",
       "       1.60878761e-04, 1.60318585e-04, 1.59998595e-04, 1.59505880e-04,\n",
       "       1.58955374e-04, 1.57749356e-04, 1.57203220e-04, 1.56911299e-04,\n",
       "       1.55628530e-04, 1.54988296e-04, 1.54455421e-04, 1.53460048e-04,\n",
       "       1.53199988e-04, 1.52401954e-04, 1.51830986e-04, 1.51341941e-04,\n",
       "       1.50632493e-04, 1.49944229e-04, 1.49020848e-04, 1.48811975e-04,\n",
       "       1.47576860e-04, 1.47211232e-04, 1.46893581e-04, 1.46335131e-04])"
      ]
     },
     "execution_count": 11,
     "metadata": {},
     "output_type": "execute_result"
    }
   ],
   "source": [
    "pca_components.explained_variance_ratio_"
   ]
  },
  {
   "cell_type": "markdown",
   "id": "3f522026",
   "metadata": {},
   "source": [
    "### Bagging Classifier:"
   ]
  },
  {
   "cell_type": "code",
   "execution_count": 12,
   "id": "ed4091bf",
   "metadata": {},
   "outputs": [
    {
     "name": "stdout",
     "output_type": "stream",
     "text": [
      "accuracy of the model is: 56.42 %\n"
     ]
    }
   ],
   "source": [
    "bagging_clf = BaggingClassifier(\n",
    "    DecisionTreeClassifier(),\n",
    "    n_estimators=200,\n",
    "    max_samples=100,\n",
    "    bootstrap=True,\n",
    "    n_jobs=-1)\n",
    "\n",
    "# print accuracy\n",
    "print_accuracy(bagging_clf, X_transformed_train, X_transformed_test, y_train, y_test)"
   ]
  },
  {
   "cell_type": "code",
   "execution_count": 13,
   "id": "76f5a9c8",
   "metadata": {},
   "outputs": [
    {
     "data": {
      "image/png": "[encoded data removed]",
      "text/plain": [
       "<Figure size 720x432 with 2 Axes>"
      ]
     },
     "metadata": {
      "needs_background": "light"
     },
     "output_type": "display_data"
    }
   ],
   "source": [
    "# plot the confusion matrix using the my_plot_confusion_matrix function\n",
    "my_plot_confusion_matrix(bagging_clf, X_transformed_test, y_test)"
   ]
  },
  {
   "cell_type": "markdown",
   "id": "3269faea",
   "metadata": {},
   "source": [
    "### Pating Classifier:"
   ]
  },
  {
   "cell_type": "code",
   "execution_count": 14,
   "id": "05e3e831",
   "metadata": {},
   "outputs": [
    {
     "name": "stdout",
     "output_type": "stream",
     "text": [
      "accuracy of the model is: 53.48 %\n"
     ]
    }
   ],
   "source": [
    "pasting_clf = BaggingClassifier(\n",
    "    DecisionTreeClassifier(),\n",
    "    n_estimators=200,\n",
    "    max_samples=100,\n",
    "    bootstrap=False,\n",
    "    n_jobs=-1)\n",
    "\n",
    "# print accuracy\n",
    "print_accuracy(pasting_clf, X_transformed_train, X_transformed_test, y_train, y_test)"
   ]
  },
  {
   "cell_type": "code",
   "execution_count": 15,
   "id": "eb3313ba",
   "metadata": {},
   "outputs": [
    {
     "data": {
      "image/png": "[encoded data removed]",
      "text/plain": [
       "<Figure size 720x432 with 2 Axes>"
      ]
     },
     "metadata": {
      "needs_background": "light"
     },
     "output_type": "display_data"
    }
   ],
   "source": [
    "# plot the confusion matrix using the my_plot_confusion_matrix function\n",
    "my_plot_confusion_matrix(pasting_clf, X_transformed_test, y_test)"
   ]
  },
  {
   "cell_type": "markdown",
   "id": "f004d9ac",
   "metadata": {},
   "source": [
    "### Random Forest Classifier:"
   ]
  },
  {
   "cell_type": "code",
   "execution_count": 16,
   "id": "6a5998ec",
   "metadata": {},
   "outputs": [
    {
     "name": "stdout",
     "output_type": "stream",
     "text": [
      "accuracy of the model is: 59.24 %\n"
     ]
    }
   ],
   "source": [
    "rnd_clf = RandomForestClassifier(\n",
    "    n_estimators=200,\n",
    "    max_features=5,\n",
    "    max_depth=16,\n",
    "    n_jobs=-1)\n",
    "\n",
    "# print accuracy\n",
    "print_accuracy(rnd_clf, X_transformed_train, X_transformed_test, y_train, y_test)"
   ]
  },
  {
   "cell_type": "code",
   "execution_count": 17,
   "id": "20ba2a83",
   "metadata": {},
   "outputs": [
    {
     "data": {
      "image/png": "[encoded data removed]",
      "text/plain": [
       "<Figure size 720x432 with 2 Axes>"
      ]
     },
     "metadata": {
      "needs_background": "light"
     },
     "output_type": "display_data"
    }
   ],
   "source": [
    "# plot the confusion matrix using the my_plot_confusion_matrix function\n",
    "my_plot_confusion_matrix(rnd_clf, X_transformed_test, y_test)"
   ]
  },
  {
   "cell_type": "markdown",
   "id": "58b6b1a5",
   "metadata": {},
   "source": [
    "### AdaBoost Classifier:"
   ]
  },
  {
   "cell_type": "code",
   "execution_count": 18,
   "id": "60e748ae",
   "metadata": {},
   "outputs": [
    {
     "name": "stdout",
     "output_type": "stream",
     "text": [
      "accuracy of the model is: 56.42 %\n"
     ]
    }
   ],
   "source": [
    "adaboost_clf = AdaBoostClassifier(\n",
    "    DecisionTreeClassifier(max_depth=16),\n",
    "    n_estimators=200,\n",
    "    algorithm=\"SAMME.R\",\n",
    "    learning_rate=0.1) # 0.5 was 55.84 %\n",
    "\n",
    "# print accuracy\n",
    "print_accuracy(adaboost_clf, X_transformed_train, X_transformed_test, y_train, y_test)"
   ]
  },
  {
   "cell_type": "code",
   "execution_count": 19,
   "id": "76ed87e1",
   "metadata": {},
   "outputs": [
    {
     "data": {
      "image/png": "[encoded data removed]",
      "text/plain": [
       "<Figure size 720x432 with 2 Axes>"
      ]
     },
     "metadata": {
      "needs_background": "light"
     },
     "output_type": "display_data"
    }
   ],
   "source": [
    "# plot the confusion matrix using the my_plot_confusion_matrix function\n",
    "my_plot_confusion_matrix(adaboost_clf, X_transformed_test, y_test)"
   ]
  },
  {
   "cell_type": "markdown",
   "id": "fe0a7f10",
   "metadata": {},
   "source": [
    "### Extreme Gradient Boostring Classifier(Binary):"
   ]
  },
  {
   "cell_type": "code",
   "execution_count": 20,
   "id": "f76d52e4",
   "metadata": {},
   "outputs": [
    {
     "name": "stdout",
     "output_type": "stream",
     "text": [
      "accuracy of the model is: 64.70 %\n"
     ]
    }
   ],
   "source": [
    "bin_xgb_model = xgb.XGBClassifier(\n",
    "    learning_rate=0.1,\n",
    "    n_estimators=200,\n",
    "    use_label_encoder=False,\n",
    "    objective=\"binary:logistic\",\n",
    "    eval_metric=\"auc\",\n",
    "    verbosity=1,\n",
    "    n_jobs=-1)\n",
    "\n",
    "# print accuracy\n",
    "print_accuracy(bin_xgb_model, X_transformed_train, X_transformed_test, y_train, y_test)"
   ]
  },
  {
   "cell_type": "code",
   "execution_count": 21,
   "id": "d6365c67",
   "metadata": {},
   "outputs": [
    {
     "data": {
      "image/png": "[encoded data removed]",
      "text/plain": [
       "<Figure size 720x432 with 2 Axes>"
      ]
     },
     "metadata": {
      "needs_background": "light"
     },
     "output_type": "display_data"
    }
   ],
   "source": [
    "# plot the confusion matrix using the my_plot_confusion_matrix function\n",
    "my_plot_confusion_matrix(bin_xgb_model, X_transformed_test, y_test)"
   ]
  },
  {
   "cell_type": "markdown",
   "id": "28e54378",
   "metadata": {},
   "source": [
    "### Grid Search with Random Forest Classifier"
   ]
  },
  {
   "cell_type": "code",
   "execution_count": 22,
   "id": "52f8be32",
   "metadata": {},
   "outputs": [
    {
     "data": {
      "text/plain": [
       "GridSearchCV(cv=5, estimator=RandomForestClassifier(), n_jobs=-1,\n",
       "             param_grid={'max_features': [5, 10, 20],\n",
       "                         'n_estimators': [50, 100, 200]},\n",
       "             scoring='accuracy')"
      ]
     },
     "execution_count": 22,
     "metadata": {},
     "output_type": "execute_result"
    }
   ],
   "source": [
    "rnd_clf = RandomForestClassifier().fit(X_transformed_train, y_train)\n",
    "\n",
    "param_values = {'n_estimators' : [50,100,200], 'max_features' : [5,10,20]}\n",
    "gs_rnd_clf = GridSearchCV(rnd_clf, param_grid=param_values, cv=5, scoring='accuracy', n_jobs=-1)\n",
    "\n",
    "gs_rnd_clf.fit(X_transformed_train, y_train)"
   ]
  },
  {
   "cell_type": "code",
   "execution_count": 23,
   "id": "673397ec",
   "metadata": {},
   "outputs": [
    {
     "name": "stdout",
     "output_type": "stream",
     "text": [
      "{'max_features': 20, 'n_estimators': 200}\n",
      "accuracy of the model is: 61.68 %\n"
     ]
    }
   ],
   "source": [
    "print(gs_rnd_clf.best_params_)\n",
    "print('accuracy of the model is: {} %'.format(\"%.2f\" % (gs_rnd_clf.best_score_ * 100)))"
   ]
  },
  {
   "cell_type": "markdown",
   "id": "9de15d1c",
   "metadata": {},
   "source": [
    "### Grid Seach with Extreme Gradient Boostring Classifier(Multi):"
   ]
  },
  {
   "cell_type": "code",
   "execution_count": 24,
   "id": "bbe5d2f9",
   "metadata": {},
   "outputs": [
    {
     "name": "stdout",
     "output_type": "stream",
     "text": [
      "[15:17:47] WARNING: ..\\src\\learner.cc:541: \n",
      "Parameters: { max_features } might not be used.\n",
      "\n",
      "  This may not be accurate due to some parameters are only used in language bindings but\n",
      "  passed down to XGBoost core.  Or some parameters are not used but slip through this\n",
      "  verification. Please open an issue if you find above cases.\n",
      "\n",
      "\n"
     ]
    },
    {
     "data": {
      "text/plain": [
       "GridSearchCV(cv=5,\n",
       "             estimator=XGBClassifier(base_score=None, booster=None,\n",
       "                                     colsample_bylevel=None,\n",
       "                                     colsample_bynode=None,\n",
       "                                     colsample_bytree=None,\n",
       "                                     eval_metric='mlogloss', gamma=None,\n",
       "                                     gpu_id=None, importance_type='gain',\n",
       "                                     interaction_constraints=None,\n",
       "                                     learning_rate=0.1, max_delta_step=None,\n",
       "                                     max_depth=None, min_child_weight=None,\n",
       "                                     missing=nan, monotone_constraints=None,\n",
       "                                     n_estimators=100, n_jobs=-1,\n",
       "                                     num_parallel_tree=None, random_state=None,\n",
       "                                     reg_alpha=None, reg_lambda=None,\n",
       "                                     scale_pos_weight=None, subsample=None,\n",
       "                                     tree_method=None, use_label_encoder=False,\n",
       "                                     validate_parameters=None, verbosity=1),\n",
       "             n_jobs=-1,\n",
       "             param_grid={'max_depth': [2, 8, 16], 'max_features': [5, 10, 20],\n",
       "                         'n_estimators': [50, 100, 200]},\n",
       "             scoring='accuracy')"
      ]
     },
     "execution_count": 24,
     "metadata": {},
     "output_type": "execute_result"
    }
   ],
   "source": [
    "mul_xgb_model= xgb.XGBClassifier(\n",
    "    learning_rate=0.1,\n",
    "    use_label_encoder=False,\n",
    "    eval_metric=\"mlogloss\",\n",
    "    verbosity=1,\n",
    "    n_jobs=-1)\n",
    "\n",
    "param_values = {'n_estimators' : [50,100,200], 'max_features' : [5,10,20], 'max_depth' : [2,8,16]}\n",
    "gs_mul_xgb_model = GridSearchCV(mul_xgb_model, param_grid=param_values, cv=5, scoring='accuracy', n_jobs=-1)\n",
    "\n",
    "gs_mul_xgb_model.fit(X_transformed_train, y_train)"
   ]
  },
  {
   "cell_type": "code",
   "execution_count": 25,
   "id": "f8a909b8",
   "metadata": {},
   "outputs": [
    {
     "name": "stdout",
     "output_type": "stream",
     "text": [
      "{'max_depth': 16, 'max_features': 5, 'n_estimators': 200}\n",
      "accuracy of the model is: 64.54 %\n"
     ]
    }
   ],
   "source": [
    "print(gs_mul_xgb_model.best_params_)\n",
    "print('accuracy of the model is: {} %'.format(\"%.2f\" % (gs_mul_xgb_model.best_score_ * 100)))"
   ]
  },
  {
   "cell_type": "code",
   "execution_count": null,
   "id": "741c49a5",
   "metadata": {},
   "outputs": [],
   "source": []
  }
 ],
 "metadata": {
  "kernelspec": {
   "display_name": "Python 3",
   "language": "python",
   "name": "python3"
  },
  "language_info": {
   "codemirror_mode": {
    "name": "ipython",
    "version": 3
   },
   "file_extension": ".py",
   "mimetype": "text/x-python",
   "name": "python",
   "nbconvert_exporter": "python",
   "pygments_lexer": "ipython3",
   "version": "3.8.10"
  }
 },
 "nbformat": 4,
 "nbformat_minor": 5
}
