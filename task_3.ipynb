{
 "cells": [
  {
   "cell_type": "markdown",
   "id": "222a951b",
   "metadata": {},
   "source": [
    "# Data Visualiztion Course Final Projet\n",
    "> by Kfir Goldfarb\n",
    "\n",
    "<a href=\"https://github.com/kggold4\"><img src=\"images/github.png\" width=\"25px\" height=\"25px\" align=\"left\"></a>\n",
    "<a href=\"https://www.linkedin.com/in/kfir-goldfarb/\"><img src=\"images/in.png\"  width=\"25px\" height=\"25px\" align=\"left\"></a>\n",
    "<a href=\"mailto:kfir.goldfarb@msmail.ariel.ac.il\"><img src=\"images/email.png\" width=\"25px\" height=\"25px\" align=\"left\"></a>\n",
    "<a href=\"https://www.youtube.com/channel/UCypEWlruyG_I5A48GqB5c6g\"><img src=\"images/youtube.png\" width=\"25px\" height=\"25px\" align=\"left\"></a>\n",
    "<a href=\"https://www.hackerrank.com/kggold4?hr_r=1\"><img src=\"images/hackerrank.png\" width=\"25px\" height=\"25px\" align=\"left\"></a>\n",
    "<a href=\"https://stackoverflow.com/users/14749277/kfir-goldfarb\"><img src=\"images/stackoverflow.png\" width=\"25px\" height=\"25px\" align=\"left\"></a>\n",
    "\n",
    "\n",
    "<br>\n",
    "\n",
    "# Jupyter Notebook Number 3\n",
    "<i>Dimensionality Reduction and PCA for Cat & Dog dataset</i>"
   ]
  },
  {
   "cell_type": "code",
   "execution_count": 1,
   "id": "ec6945a1",
   "metadata": {},
   "outputs": [],
   "source": [
    "# Data Science libraries\n",
    "import pandas as pd\n",
    "import numpy as np\n",
    "\n",
    "# Graphical libraries\n",
    "import matplotlib.pyplot as plt\n",
    "%matplotlib inline\n",
    "import plotly.graph_objs as go\n",
    "import plotly.offline as py\n",
    "import seaborn as sns\n",
    "import cv2\n",
    "\n",
    "# Main libraries\n",
    "import os\n",
    "import random\n",
    "import warnings\n",
    "from zipfile import ZipFile as zf\n",
    "warnings.filterwarnings('ignore')\n",
    "warnings.simplefilter('ignore')\n",
    "\n",
    "# sklearn tools\n",
    "from sklearn.metrics import confusion_matrix\n",
    "from sklearn.metrics import plot_confusion_matrix\n",
    "from sklearn.metrics import classification_report\n",
    "from sklearn.model_selection import train_test_split\n",
    "from sklearn.model_selection import cross_val_score\n",
    "from sklearn.model_selection import GridSearchCV\n",
    "\n",
    "# basic models\n",
    "from sklearn.neighbors import KNeighborsClassifier\n",
    "from sklearn.tree import DecisionTreeClassifier\n",
    "from sklearn.linear_model import LogisticRegression\n",
    "\n",
    "# sklearn\n",
    "from sklearn.decomposition import PCA\n",
    "from sklearn.cluster import KMeans\n",
    "from sklearn.preprocessing import normalize\n",
    "from sklearn.preprocessing import StandardScaler\n",
    "\n",
    "# ensemble\n",
    "from sklearn.ensemble import VotingClassifier\n",
    "from sklearn.ensemble import BaggingClassifier\n",
    "from sklearn.ensemble import RandomForestClassifier\n",
    "from sklearn.ensemble import AdaBoostClassifier\n",
    "from sklearn.ensemble import GradientBoostingClassifier\n",
    "import xgboost as xgb"
   ]
  },
  {
   "cell_type": "markdown",
   "id": "8d4a8017",
   "metadata": {},
   "source": [
    "### <i>Helping Functions I Wrote:</i>"
   ]
  },
  {
   "cell_type": "code",
   "execution_count": 2,
   "id": "5e4c96de",
   "metadata": {},
   "outputs": [],
   "source": [
    "# function that print the accuracy of a classification model\n",
    "def print_accuracy(clf, X_train, X_test, y_train, y_test):\n",
    "    # fit the train data to the model\n",
    "    clf.fit(X_train, y_train)\n",
    "\n",
    "    # get the pridictions of X_test\n",
    "    pridictions = clf.predict(X_test)\n",
    "\n",
    "    # get the accuracy of the model\n",
    "    accuracy = clf.score(X_test, y_test)\n",
    "\n",
    "    # print the accuracy\n",
    "    print('accuracy of the model is: {} %'.format(\"%.2f\" % (accuracy * 100)))\n",
    "    return accuracy"
   ]
  },
  {
   "cell_type": "code",
   "execution_count": 3,
   "id": "35c56d4a",
   "metadata": {},
   "outputs": [],
   "source": [
    "# function of ploting the confusion_matrix\n",
    "def my_plot_confusion_matrix(clf, X_test, y_test):\n",
    "\n",
    "    # get the confusion_matrix for ploting\n",
    "    matrix = plot_confusion_matrix(clf, X_test, y_test, cmap=plt.cm.Blues)\n",
    "\n",
    "    # main title\n",
    "    matrix.ax_.set_title('Confusion matrix')\n",
    "\n",
    "    # x label\n",
    "    plt.xlabel('Predicted Label')\n",
    "\n",
    "    # y label\n",
    "    plt.ylabel('True label')\n",
    "\n",
    "    # size of the figure\n",
    "    plt.gcf().set_size_inches(10, 6)\n",
    "\n",
    "    # show plot\n",
    "    plt.show()"
   ]
  },
  {
   "cell_type": "code",
   "execution_count": 4,
   "id": "f78fc2b3",
   "metadata": {},
   "outputs": [],
   "source": [
    "# images size\n",
    "IMAGE_SIZE = 100\n",
    "\n",
    "# path of the images of the cats vs dogs data\n",
    "PATH = \"data/task_3/train\"\n",
    "\n",
    "# Creating a dataframe that contains all of our images names with his label (0 - 'cat', 1 - 'dog')\n",
    "images = os.listdir(PATH)\n",
    "label = []\n",
    "\n",
    "for image in images:\n",
    "    if 'cat' in image:\n",
    "        label.append(0)\n",
    "    else:\n",
    "        label.append(1)\n",
    "        \n",
    "dogs_cats = {'image' : images, 'label' : label}\n",
    "dogs_cats = pd.DataFrame(dogs_cats)\n",
    "\n",
    "# mixing data\n",
    "dogs_cats = dogs_cats.sample(frac = 1).reset_index(drop=True)"
   ]
  },
  {
   "cell_type": "code",
   "execution_count": 5,
   "id": "26839519",
   "metadata": {},
   "outputs": [
    {
     "data": {
      "text/html": [
       "<div>\n",
       "<style scoped>\n",
       "    .dataframe tbody tr th:only-of-type {\n",
       "        vertical-align: middle;\n",
       "    }\n",
       "\n",
       "    .dataframe tbody tr th {\n",
       "        vertical-align: top;\n",
       "    }\n",
       "\n",
       "    .dataframe thead th {\n",
       "        text-align: right;\n",
       "    }\n",
       "</style>\n",
       "<table border=\"1\" class=\"dataframe\">\n",
       "  <thead>\n",
       "    <tr style=\"text-align: right;\">\n",
       "      <th></th>\n",
       "      <th>image</th>\n",
       "      <th>label</th>\n",
       "    </tr>\n",
       "  </thead>\n",
       "  <tbody>\n",
       "    <tr>\n",
       "      <th>0</th>\n",
       "      <td>dog.720.jpg</td>\n",
       "      <td>1</td>\n",
       "    </tr>\n",
       "    <tr>\n",
       "      <th>1</th>\n",
       "      <td>cat.7035.jpg</td>\n",
       "      <td>0</td>\n",
       "    </tr>\n",
       "    <tr>\n",
       "      <th>2</th>\n",
       "      <td>dog.5488.jpg</td>\n",
       "      <td>1</td>\n",
       "    </tr>\n",
       "    <tr>\n",
       "      <th>3</th>\n",
       "      <td>dog.8548.jpg</td>\n",
       "      <td>1</td>\n",
       "    </tr>\n",
       "    <tr>\n",
       "      <th>4</th>\n",
       "      <td>dog.9016.jpg</td>\n",
       "      <td>1</td>\n",
       "    </tr>\n",
       "    <tr>\n",
       "      <th>...</th>\n",
       "      <td>...</td>\n",
       "      <td>...</td>\n",
       "    </tr>\n",
       "    <tr>\n",
       "      <th>24995</th>\n",
       "      <td>dog.3872.jpg</td>\n",
       "      <td>1</td>\n",
       "    </tr>\n",
       "    <tr>\n",
       "      <th>24996</th>\n",
       "      <td>cat.5930.jpg</td>\n",
       "      <td>0</td>\n",
       "    </tr>\n",
       "    <tr>\n",
       "      <th>24997</th>\n",
       "      <td>cat.10351.jpg</td>\n",
       "      <td>0</td>\n",
       "    </tr>\n",
       "    <tr>\n",
       "      <th>24998</th>\n",
       "      <td>cat.6200.jpg</td>\n",
       "      <td>0</td>\n",
       "    </tr>\n",
       "    <tr>\n",
       "      <th>24999</th>\n",
       "      <td>cat.11982.jpg</td>\n",
       "      <td>0</td>\n",
       "    </tr>\n",
       "  </tbody>\n",
       "</table>\n",
       "<p>25000 rows × 2 columns</p>\n",
       "</div>"
      ],
      "text/plain": [
       "               image  label\n",
       "0        dog.720.jpg      1\n",
       "1       cat.7035.jpg      0\n",
       "2       dog.5488.jpg      1\n",
       "3       dog.8548.jpg      1\n",
       "4       dog.9016.jpg      1\n",
       "...              ...    ...\n",
       "24995   dog.3872.jpg      1\n",
       "24996   cat.5930.jpg      0\n",
       "24997  cat.10351.jpg      0\n",
       "24998   cat.6200.jpg      0\n",
       "24999  cat.11982.jpg      0\n",
       "\n",
       "[25000 rows x 2 columns]"
      ]
     },
     "execution_count": 5,
     "metadata": {},
     "output_type": "execute_result"
    }
   ],
   "source": [
    "# show first and last five samples of our data\n",
    "dogs_cats"
   ]
  },
  {
   "cell_type": "code",
   "execution_count": 6,
   "id": "b0658f06",
   "metadata": {},
   "outputs": [
    {
     "data": {
      "text/plain": [
       "<matplotlib.image.AxesImage at 0x14a27251df0>"
      ]
     },
     "execution_count": 6,
     "metadata": {},
     "output_type": "execute_result"
    },
    {
     "data": {
      "image/png": "[encoded data removed]",
      "text/plain": [
       "<Figure size 432x288 with 1 Axes>"
      ]
     },
     "metadata": {
      "needs_background": "light"
     },
     "output_type": "display_data"
    }
   ],
   "source": [
    "# printing a random image from the data\n",
    "random_image_name = random.choice(dogs_cats.image)\n",
    "random_image = cv2.imread(PATH + '/' + str(random_image_name))\n",
    "random_image = cv2.resize(random_image, (IMAGE_SIZE, IMAGE_SIZE))\n",
    "random_image = cv2.cvtColor(random_image, cv2.COLOR_RGB2GRAY)\n",
    "plt.imshow(random_image)"
   ]
  },
  {
   "cell_type": "code",
   "execution_count": 7,
   "id": "64c5d2cf",
   "metadata": {},
   "outputs": [],
   "source": [
    "image_data  = []\n",
    "image_label = []\n",
    "\n",
    "for i in range(len(dogs_cats)):\n",
    "    IMAGE_PATH = PATH + '/' + dogs_cats[\"image\"][i]\n",
    "    image = cv2.imread(IMAGE_PATH, cv2.IMREAD_GRAYSCALE) \n",
    "    image = cv2.resize(image, (IMAGE_SIZE, IMAGE_SIZE))\n",
    "    # here, we are normalizing the images\n",
    "    norm_image = image / 255.0 \n",
    "    # Creating and saving each image in the form of numerical data in an array\n",
    "    image_data.append(norm_image)\n",
    "    image_label.append(dogs_cats[\"label\"][i])\n",
    "\n",
    "X = np.array(image_data)\n",
    "y = np.array(image_label)\n",
    "\n",
    "# reshape X from 3D shape to 2D shape\n",
    "X = X.reshape(-1, IMAGE_SIZE * IMAGE_SIZE)"
   ]
  },
  {
   "cell_type": "code",
   "execution_count": 8,
   "id": "527e0fb3",
   "metadata": {},
   "outputs": [],
   "source": [
    "# split data to 20000 train samples and 5000 to test samples\n",
    "X_train, X_test, y_train, y_test = train_test_split(X, y, test_size=0.20)"
   ]
  },
  {
   "cell_type": "code",
   "execution_count": 9,
   "id": "a9cedf09",
   "metadata": {},
   "outputs": [
    {
     "data": {
      "text/plain": [
       "(20000, 10000)"
      ]
     },
     "execution_count": 9,
     "metadata": {},
     "output_type": "execute_result"
    }
   ],
   "source": [
    "# train shape is 20000 on 100^2 pixels\n",
    "X_train.shape"
   ]
  },
  {
   "cell_type": "code",
   "execution_count": 10,
   "id": "b3e4a15a",
   "metadata": {},
   "outputs": [
    {
     "name": "stdout",
     "output_type": "stream",
     "text": [
      "shape of 2 component PCA train data is: (20000, 336)\n",
      "shape of 2 component PCA test data is: (5000, 336)\n"
     ]
    }
   ],
   "source": [
    "pca_components = PCA(n_components=0.9)\n",
    "X_transformed_train = pca_components.fit(X_train).transform(X_train)\n",
    "X_transformed_test = pca_components.transform(X_test)\n",
    "print(\"shape of 2 component PCA train data is:\", X_transformed_train.shape)\n",
    "print(\"shape of 2 component PCA test data is:\", X_transformed_test.shape)"
   ]
  },
  {
   "cell_type": "code",
   "execution_count": 11,
   "id": "dcf127f9",
   "metadata": {},
   "outputs": [
    {
     "data": {
      "text/plain": [
       "array([1.99736342e-01, 1.12421076e-01, 7.59278023e-02, 6.08620671e-02,\n",
       "       3.17400637e-02, 2.84315755e-02, 2.36897059e-02, 2.04021102e-02,\n",
       "       1.84129777e-02, 1.47956209e-02, 1.31034658e-02, 1.21929825e-02,\n",
       "       1.04671494e-02, 8.82149022e-03, 8.27941173e-03, 8.01558110e-03,\n",
       "       7.33488317e-03, 7.23841943e-03, 6.66091431e-03, 6.11863722e-03,\n",
       "       5.30710977e-03, 5.19367176e-03, 4.86463909e-03, 4.63526678e-03,\n",
       "       4.59146124e-03, 4.03252223e-03, 4.00626747e-03, 3.80704649e-03,\n",
       "       3.65467859e-03, 3.49169553e-03, 3.41186150e-03, 3.33294096e-03,\n",
       "       3.27191742e-03, 3.05130836e-03, 2.84920335e-03, 2.81332143e-03,\n",
       "       2.76330402e-03, 2.65011113e-03, 2.47962988e-03, 2.41503519e-03,\n",
       "       2.34200747e-03, 2.29490034e-03, 2.25929275e-03, 2.20460570e-03,\n",
       "       2.13151976e-03, 2.07760254e-03, 2.02512578e-03, 1.98789691e-03,\n",
       "       1.89391145e-03, 1.84008482e-03, 1.80288485e-03, 1.76586219e-03,\n",
       "       1.74243304e-03, 1.67957295e-03, 1.63524832e-03, 1.62125436e-03,\n",
       "       1.54685813e-03, 1.53131482e-03, 1.46804248e-03, 1.44858719e-03,\n",
       "       1.42409391e-03, 1.39470761e-03, 1.35537874e-03, 1.32180567e-03,\n",
       "       1.31806541e-03, 1.30328519e-03, 1.28505067e-03, 1.27222222e-03,\n",
       "       1.20875258e-03, 1.20041044e-03, 1.17261328e-03, 1.15620856e-03,\n",
       "       1.12455349e-03, 1.12014844e-03, 1.10512247e-03, 1.09932578e-03,\n",
       "       1.06993836e-03, 1.05235039e-03, 1.03641880e-03, 1.00984799e-03,\n",
       "       9.91301903e-04, 9.68610042e-04, 9.61744605e-04, 9.51627094e-04,\n",
       "       9.31730590e-04, 9.17736551e-04, 9.10069971e-04, 8.98086826e-04,\n",
       "       8.77593171e-04, 8.67353560e-04, 8.56192829e-04, 8.35154203e-04,\n",
       "       8.21255632e-04, 8.17874152e-04, 8.13318473e-04, 7.90261022e-04,\n",
       "       7.81349908e-04, 7.80999589e-04, 7.75269742e-04, 7.58576501e-04,\n",
       "       7.39652369e-04, 7.32382411e-04, 7.26342525e-04, 7.06545108e-04,\n",
       "       7.01176669e-04, 6.88366150e-04, 6.75445700e-04, 6.72020243e-04,\n",
       "       6.66785756e-04, 6.64273385e-04, 6.57622584e-04, 6.54909662e-04,\n",
       "       6.34780312e-04, 6.23710772e-04, 6.18427137e-04, 6.12166464e-04,\n",
       "       6.07227887e-04, 5.99375031e-04, 5.97187576e-04, 5.86562556e-04,\n",
       "       5.84517334e-04, 5.81868648e-04, 5.68405640e-04, 5.62233863e-04,\n",
       "       5.58711156e-04, 5.54539162e-04, 5.45838620e-04, 5.42330356e-04,\n",
       "       5.37605950e-04, 5.34569186e-04, 5.30819243e-04, 5.15789628e-04,\n",
       "       5.14411236e-04, 5.08490366e-04, 5.06400824e-04, 5.02881706e-04,\n",
       "       4.92213480e-04, 4.84071844e-04, 4.80147497e-04, 4.78398196e-04,\n",
       "       4.75218370e-04, 4.70762801e-04, 4.68178141e-04, 4.62703346e-04,\n",
       "       4.56105763e-04, 4.50454844e-04, 4.49121282e-04, 4.44626705e-04,\n",
       "       4.40032664e-04, 4.34863630e-04, 4.33399945e-04, 4.28819608e-04,\n",
       "       4.27796318e-04, 4.27333200e-04, 4.24365615e-04, 4.23337798e-04,\n",
       "       4.08239252e-04, 4.03324075e-04, 4.00424944e-04, 3.99089808e-04,\n",
       "       3.95881184e-04, 3.94941659e-04, 3.89103794e-04, 3.86619103e-04,\n",
       "       3.83813012e-04, 3.81565204e-04, 3.77899191e-04, 3.75377636e-04,\n",
       "       3.70857932e-04, 3.67769693e-04, 3.62810310e-04, 3.62277091e-04,\n",
       "       3.60829989e-04, 3.57691099e-04, 3.52705364e-04, 3.50572938e-04,\n",
       "       3.49429332e-04, 3.47659056e-04, 3.45042172e-04, 3.41621795e-04,\n",
       "       3.39041963e-04, 3.36461772e-04, 3.32815161e-04, 3.30069778e-04,\n",
       "       3.28970989e-04, 3.26729488e-04, 3.25254402e-04, 3.23084103e-04,\n",
       "       3.17887309e-04, 3.15849212e-04, 3.14858991e-04, 3.14508587e-04,\n",
       "       3.09612865e-04, 3.07537549e-04, 3.05602464e-04, 3.03432602e-04,\n",
       "       3.00842886e-04, 3.00104184e-04, 2.99788179e-04, 2.97465305e-04,\n",
       "       2.95275341e-04, 2.93137189e-04, 2.91260737e-04, 2.88126197e-04,\n",
       "       2.87065844e-04, 2.85457935e-04, 2.82142743e-04, 2.80768265e-04,\n",
       "       2.80453490e-04, 2.77850769e-04, 2.74424696e-04, 2.73005112e-04,\n",
       "       2.72656251e-04, 2.70864653e-04, 2.68482323e-04, 2.66566043e-04,\n",
       "       2.65281090e-04, 2.62316554e-04, 2.61013883e-04, 2.58710601e-04,\n",
       "       2.57594151e-04, 2.55391341e-04, 2.54712354e-04, 2.53459166e-04,\n",
       "       2.53150409e-04, 2.52322601e-04, 2.51036309e-04, 2.47516518e-04,\n",
       "       2.46149386e-04, 2.44381063e-04, 2.41489269e-04, 2.41144663e-04,\n",
       "       2.39153738e-04, 2.38803909e-04, 2.37063440e-04, 2.36659824e-04,\n",
       "       2.35041734e-04, 2.34055378e-04, 2.30949916e-04, 2.30066147e-04,\n",
       "       2.29156275e-04, 2.27688908e-04, 2.25782400e-04, 2.25004060e-04,\n",
       "       2.24462511e-04, 2.23340015e-04, 2.22751081e-04, 2.20448007e-04,\n",
       "       2.19607100e-04, 2.18761375e-04, 2.17250771e-04, 2.16331276e-04,\n",
       "       2.15712037e-04, 2.13367702e-04, 2.12369638e-04, 2.10817050e-04,\n",
       "       2.09137225e-04, 2.08734514e-04, 2.07729247e-04, 2.06851682e-04,\n",
       "       2.06065113e-04, 2.05888957e-04, 2.04639827e-04, 2.02629262e-04,\n",
       "       2.00916176e-04, 2.00235967e-04, 1.98489812e-04, 1.97972642e-04,\n",
       "       1.97184883e-04, 1.96070322e-04, 1.95294884e-04, 1.94191417e-04,\n",
       "       1.94087353e-04, 1.93378826e-04, 1.92533024e-04, 1.91803727e-04,\n",
       "       1.91472984e-04, 1.91168466e-04, 1.88829955e-04, 1.86749946e-04,\n",
       "       1.86633568e-04, 1.85211380e-04, 1.84888468e-04, 1.83776589e-04,\n",
       "       1.82962750e-04, 1.82075916e-04, 1.80850368e-04, 1.79954760e-04,\n",
       "       1.79275435e-04, 1.78296312e-04, 1.77756271e-04, 1.77148984e-04,\n",
       "       1.75723995e-04, 1.75590983e-04, 1.74646197e-04, 1.74437747e-04,\n",
       "       1.73127812e-04, 1.72679533e-04, 1.71925516e-04, 1.70746593e-04,\n",
       "       1.70440440e-04, 1.69883863e-04, 1.69045083e-04, 1.68210447e-04,\n",
       "       1.66970993e-04, 1.65744052e-04, 1.65625356e-04, 1.64973792e-04,\n",
       "       1.64507083e-04, 1.63985492e-04, 1.63007364e-04, 1.62141335e-04,\n",
       "       1.61661591e-04, 1.60805973e-04, 1.60390064e-04, 1.59464933e-04,\n",
       "       1.58944371e-04, 1.58357305e-04, 1.58226403e-04, 1.57215915e-04,\n",
       "       1.56516629e-04, 1.55620622e-04, 1.54929885e-04, 1.53465871e-04,\n",
       "       1.52838110e-04, 1.52448622e-04, 1.51911377e-04, 1.51227462e-04,\n",
       "       1.50594491e-04, 1.50254250e-04, 1.49292797e-04, 1.48952780e-04,\n",
       "       1.48331108e-04, 1.47186819e-04, 1.46545994e-04, 1.46258344e-04])"
      ]
     },
     "execution_count": 11,
     "metadata": {},
     "output_type": "execute_result"
    }
   ],
   "source": [
    "pca_components.explained_variance_ratio_"
   ]
  },
  {
   "cell_type": "markdown",
   "id": "3f522026",
   "metadata": {},
   "source": [
    "### Bagging Classifier:"
   ]
  },
  {
   "cell_type": "code",
   "execution_count": 12,
   "id": "ed4091bf",
   "metadata": {},
   "outputs": [
    {
     "name": "stdout",
     "output_type": "stream",
     "text": [
      "accuracy of the model is: 53.94 %\n"
     ]
    }
   ],
   "source": [
    "bagging_clf = BaggingClassifier(\n",
    "    DecisionTreeClassifier(),\n",
    "    n_estimators=200,\n",
    "    max_samples=100,\n",
    "    bootstrap=True,\n",
    "    n_jobs=-1)\n",
    "\n",
    "# print accuracy\n",
    "bagging_clf_auc = print_accuracy(bagging_clf, X_transformed_train, X_transformed_test, y_train, y_test)"
   ]
  },
  {
   "cell_type": "code",
   "execution_count": 13,
   "id": "76f5a9c8",
   "metadata": {},
   "outputs": [
    {
     "data": {
      "image/png": "[encoded data removed]",
      "text/plain": [
       "<Figure size 720x432 with 2 Axes>"
      ]
     },
     "metadata": {
      "needs_background": "light"
     },
     "output_type": "display_data"
    }
   ],
   "source": [
    "# plot the confusion matrix using the my_plot_confusion_matrix function\n",
    "my_plot_confusion_matrix(bagging_clf, X_transformed_test, y_test)"
   ]
  },
  {
   "cell_type": "markdown",
   "id": "3269faea",
   "metadata": {},
   "source": [
    "### Pating Classifier:"
   ]
  },
  {
   "cell_type": "code",
   "execution_count": 14,
   "id": "05e3e831",
   "metadata": {},
   "outputs": [
    {
     "name": "stdout",
     "output_type": "stream",
     "text": [
      "accuracy of the model is: 55.22 %\n"
     ]
    }
   ],
   "source": [
    "pasting_clf = BaggingClassifier(\n",
    "    DecisionTreeClassifier(),\n",
    "    n_estimators=200,\n",
    "    max_samples=100,\n",
    "    bootstrap=False,\n",
    "    n_jobs=-1)\n",
    "\n",
    "# print accuracy\n",
    "pasting_clf_auc = print_accuracy(pasting_clf, X_transformed_train, X_transformed_test, y_train, y_test)"
   ]
  },
  {
   "cell_type": "code",
   "execution_count": 15,
   "id": "eb3313ba",
   "metadata": {},
   "outputs": [
    {
     "data": {
      "image/png": "[encoded data removed]",
      "text/plain": [
       "<Figure size 720x432 with 2 Axes>"
      ]
     },
     "metadata": {
      "needs_background": "light"
     },
     "output_type": "display_data"
    }
   ],
   "source": [
    "# plot the confusion matrix using the my_plot_confusion_matrix function\n",
    "my_plot_confusion_matrix(pasting_clf, X_transformed_test, y_test)"
   ]
  },
  {
   "cell_type": "markdown",
   "id": "f004d9ac",
   "metadata": {},
   "source": [
    "### Random Forest Classifier:"
   ]
  },
  {
   "cell_type": "code",
   "execution_count": 16,
   "id": "6a5998ec",
   "metadata": {},
   "outputs": [
    {
     "name": "stdout",
     "output_type": "stream",
     "text": [
      "accuracy of the model is: 60.38 %\n"
     ]
    }
   ],
   "source": [
    "rnd_clf = RandomForestClassifier(\n",
    "    n_estimators=200,\n",
    "    max_features=5,\n",
    "    max_depth=16,\n",
    "    n_jobs=-1)\n",
    "\n",
    "# print accuracy\n",
    "rnd_clf_auc = print_accuracy(rnd_clf, X_transformed_train, X_transformed_test, y_train, y_test)"
   ]
  },
  {
   "cell_type": "code",
   "execution_count": 17,
   "id": "20ba2a83",
   "metadata": {},
   "outputs": [
    {
     "data": {
      "image/png": "[encoded data removed]",
      "text/plain": [
       "<Figure size 720x432 with 2 Axes>"
      ]
     },
     "metadata": {
      "needs_background": "light"
     },
     "output_type": "display_data"
    }
   ],
   "source": [
    "# plot the confusion matrix using the my_plot_confusion_matrix function\n",
    "my_plot_confusion_matrix(rnd_clf, X_transformed_test, y_test)"
   ]
  },
  {
   "cell_type": "markdown",
   "id": "58b6b1a5",
   "metadata": {},
   "source": [
    "### AdaBoost Classifier:"
   ]
  },
  {
   "cell_type": "code",
   "execution_count": 18,
   "id": "60e748ae",
   "metadata": {},
   "outputs": [
    {
     "name": "stdout",
     "output_type": "stream",
     "text": [
      "accuracy of the model is: 56.20 %\n"
     ]
    }
   ],
   "source": [
    "adaboost_clf = AdaBoostClassifier(\n",
    "    DecisionTreeClassifier(max_depth=16),\n",
    "    n_estimators=200,\n",
    "    algorithm=\"SAMME.R\",\n",
    "    learning_rate=0.1) # 0.5 was 55.84 %\n",
    "\n",
    "# print accuracy\n",
    "adaboost_clf_auc = print_accuracy(adaboost_clf, X_transformed_train, X_transformed_test, y_train, y_test)"
   ]
  },
  {
   "cell_type": "code",
   "execution_count": 19,
   "id": "76ed87e1",
   "metadata": {},
   "outputs": [
    {
     "data": {
      "image/png": "[encoded data removed]",
      "text/plain": [
       "<Figure size 720x432 with 2 Axes>"
      ]
     },
     "metadata": {
      "needs_background": "light"
     },
     "output_type": "display_data"
    }
   ],
   "source": [
    "# plot the confusion matrix using the my_plot_confusion_matrix function\n",
    "my_plot_confusion_matrix(adaboost_clf, X_transformed_test, y_test)"
   ]
  },
  {
   "cell_type": "markdown",
   "id": "fe0a7f10",
   "metadata": {},
   "source": [
    "### Extreme Gradient Boostring Classifier(Binary):"
   ]
  },
  {
   "cell_type": "code",
   "execution_count": 20,
   "id": "f76d52e4",
   "metadata": {},
   "outputs": [
    {
     "name": "stdout",
     "output_type": "stream",
     "text": [
      "accuracy of the model is: 64.12 %\n"
     ]
    }
   ],
   "source": [
    "bin_xgb_model = xgb.XGBClassifier(\n",
    "    learning_rate=0.1,\n",
    "    n_estimators=200,\n",
    "    use_label_encoder=False,\n",
    "    objective=\"binary:logistic\",\n",
    "    eval_metric=\"auc\",\n",
    "    verbosity=1,\n",
    "    n_jobs=-1)\n",
    "\n",
    "# print accuracy\n",
    "bin_xgb_model_auc = print_accuracy(bin_xgb_model, X_transformed_train, X_transformed_test, y_train, y_test)"
   ]
  },
  {
   "cell_type": "code",
   "execution_count": 21,
   "id": "d6365c67",
   "metadata": {},
   "outputs": [
    {
     "data": {
      "image/png": "[encoded data removed]",
      "text/plain": [
       "<Figure size 720x432 with 2 Axes>"
      ]
     },
     "metadata": {
      "needs_background": "light"
     },
     "output_type": "display_data"
    }
   ],
   "source": [
    "# plot the confusion matrix using the my_plot_confusion_matrix function\n",
    "my_plot_confusion_matrix(bin_xgb_model, X_transformed_test, y_test)"
   ]
  },
  {
   "cell_type": "markdown",
   "id": "28e54378",
   "metadata": {},
   "source": [
    "### Grid Search with Random Forest Classifier"
   ]
  },
  {
   "cell_type": "code",
   "execution_count": 22,
   "id": "52f8be32",
   "metadata": {},
   "outputs": [
    {
     "data": {
      "text/plain": [
       "GridSearchCV(cv=5, estimator=RandomForestClassifier(), n_jobs=-1,\n",
       "             param_grid={'max_features': [5, 10, 20],\n",
       "                         'n_estimators': [50, 100, 200]},\n",
       "             scoring='accuracy')"
      ]
     },
     "execution_count": 22,
     "metadata": {},
     "output_type": "execute_result"
    }
   ],
   "source": [
    "rnd_clf = RandomForestClassifier().fit(X_transformed_train, y_train)\n",
    "\n",
    "param_values = {'n_estimators' : [50,100,200], 'max_features' : [5,10,20]}\n",
    "gs_rnd_clf = GridSearchCV(rnd_clf, param_grid=param_values, cv=5, scoring='accuracy', n_jobs=-1)\n",
    "\n",
    "gs_rnd_clf.fit(X_transformed_train, y_train)"
   ]
  },
  {
   "cell_type": "code",
   "execution_count": 23,
   "id": "673397ec",
   "metadata": {},
   "outputs": [
    {
     "name": "stdout",
     "output_type": "stream",
     "text": [
      "{'max_features': 20, 'n_estimators': 200}\n",
      "accuracy of the model is: 61.58 %\n"
     ]
    }
   ],
   "source": [
    "print(gs_rnd_clf.best_params_)\n",
    "print('accuracy of the model is: {} %'.format(\"%.2f\" % (gs_rnd_clf.best_score_ * 100)))\n",
    "gs_rnd_clf_auc = gs_rnd_clf.best_score_"
   ]
  },
  {
   "cell_type": "markdown",
   "id": "9de15d1c",
   "metadata": {},
   "source": [
    "### Grid Seach with Extreme Gradient Boostring Classifier:"
   ]
  },
  {
   "cell_type": "code",
   "execution_count": 24,
   "id": "bbe5d2f9",
   "metadata": {},
   "outputs": [
    {
     "name": "stdout",
     "output_type": "stream",
     "text": [
      "[16:12:55] WARNING: ..\\src\\learner.cc:541: \n",
      "Parameters: { max_features } might not be used.\n",
      "\n",
      "  This may not be accurate due to some parameters are only used in language bindings but\n",
      "  passed down to XGBoost core.  Or some parameters are not used but slip through this\n",
      "  verification. Please open an issue if you find above cases.\n",
      "\n",
      "\n"
     ]
    },
    {
     "data": {
      "text/plain": [
       "GridSearchCV(cv=5,\n",
       "             estimator=XGBClassifier(base_score=None, booster=None,\n",
       "                                     colsample_bylevel=None,\n",
       "                                     colsample_bynode=None,\n",
       "                                     colsample_bytree=None,\n",
       "                                     eval_metric='mlogloss', gamma=None,\n",
       "                                     gpu_id=None, importance_type='gain',\n",
       "                                     interaction_constraints=None,\n",
       "                                     learning_rate=0.1, max_delta_step=None,\n",
       "                                     max_depth=None, min_child_weight=None,\n",
       "                                     missing=nan, monotone_constraints=None,\n",
       "                                     n_estimators=100, n_jobs=-1,\n",
       "                                     num_parallel_tree=None, random_state=None,\n",
       "                                     reg_alpha=None, reg_lambda=None,\n",
       "                                     scale_pos_weight=None, subsample=None,\n",
       "                                     tree_method=None, use_label_encoder=False,\n",
       "                                     validate_parameters=None, verbosity=1),\n",
       "             n_jobs=-1,\n",
       "             param_grid={'max_depth': [2, 8, 16], 'max_features': [5, 10, 20],\n",
       "                         'n_estimators': [50, 100, 200]},\n",
       "             scoring='accuracy')"
      ]
     },
     "execution_count": 24,
     "metadata": {},
     "output_type": "execute_result"
    }
   ],
   "source": [
    "mul_xgb_model= xgb.XGBClassifier(\n",
    "    learning_rate=0.1,\n",
    "    use_label_encoder=False,\n",
    "    eval_metric=\"mlogloss\",\n",
    "    verbosity=1,\n",
    "    n_jobs=-1)\n",
    "\n",
    "param_values = {'n_estimators' : [50,100,200], 'max_features' : [5,10,20], 'max_depth' : [2,8,16]}\n",
    "gs_mul_xgb_model = GridSearchCV(mul_xgb_model, param_grid=param_values, cv=5, scoring='accuracy', n_jobs=-1)\n",
    "\n",
    "gs_mul_xgb_model.fit(X_transformed_train, y_train)"
   ]
  },
  {
   "cell_type": "code",
   "execution_count": 25,
   "id": "f8a909b8",
   "metadata": {},
   "outputs": [
    {
     "name": "stdout",
     "output_type": "stream",
     "text": [
      "{'max_depth': 16, 'max_features': 5, 'n_estimators': 200}\n",
      "accuracy of the model is: 64.62 %\n"
     ]
    }
   ],
   "source": [
    "print(gs_mul_xgb_model.best_params_)\n",
    "print('accuracy of the model is: {} %'.format(\"%.2f\" % (gs_mul_xgb_model.best_score_ * 100)))\n",
    "gs_mul_xgb_model_auc = gs_mul_xgb_model.best_score_"
   ]
  },
  {
   "cell_type": "code",
   "execution_count": 26,
   "id": "741c49a5",
   "metadata": {},
   "outputs": [],
   "source": [
    "# images size\n",
    "IMAGE_SIZE = 30"
   ]
  },
  {
   "cell_type": "code",
   "execution_count": 27,
   "id": "75f3b2c1",
   "metadata": {},
   "outputs": [],
   "source": [
    "image_data  = []\n",
    "image_label = []\n",
    "\n",
    "for i in range(len(dogs_cats)):\n",
    "    IMAGE_PATH = PATH + '/' + dogs_cats[\"image\"][i]\n",
    "    image = cv2.imread(IMAGE_PATH, cv2.IMREAD_GRAYSCALE) \n",
    "    image = cv2.resize(image, (IMAGE_SIZE, IMAGE_SIZE))\n",
    "    # here, we are normalizing the images\n",
    "    norm_image = image / 255.0 \n",
    "    # Creating and saving each image in the form of numerical data in an array\n",
    "    image_data.append(norm_image)\n",
    "    image_label.append(dogs_cats[\"label\"][i])\n",
    "\n",
    "X = np.array(image_data)\n",
    "y = np.array(image_label)\n",
    "\n",
    "# reshape X from 3D shape to 2D shape\n",
    "X = X.reshape(-1, IMAGE_SIZE * IMAGE_SIZE)"
   ]
  },
  {
   "cell_type": "code",
   "execution_count": 28,
   "id": "9a128694",
   "metadata": {},
   "outputs": [],
   "source": [
    "# split data to 20000 train samples and 5000 to test samples\n",
    "X_train, X_test, y_train, y_test = train_test_split(X, y, test_size=0.20)"
   ]
  },
  {
   "cell_type": "code",
   "execution_count": 29,
   "id": "58d65f10",
   "metadata": {},
   "outputs": [
    {
     "data": {
      "text/plain": [
       "(20000, 900)"
      ]
     },
     "execution_count": 29,
     "metadata": {},
     "output_type": "execute_result"
    }
   ],
   "source": [
    "# train shape is 20000 on 100^2 pixels\n",
    "X_train.shape"
   ]
  },
  {
   "cell_type": "code",
   "execution_count": 30,
   "id": "febae50c",
   "metadata": {},
   "outputs": [
    {
     "name": "stdout",
     "output_type": "stream",
     "text": [
      "shape of 2 component PCA train data is: (20000, 39)\n",
      "shape of 2 component PCA test data is: (5000, 39)\n"
     ]
    }
   ],
   "source": [
    "pca_components = PCA(n_components=0.75)\n",
    "X_transformed_train = pca_components.fit(X_train).transform(X_train)\n",
    "X_transformed_test = pca_components.transform(X_test)\n",
    "print(\"shape of 2 component PCA train data is:\", X_transformed_train.shape)\n",
    "print(\"shape of 2 component PCA test data is:\", X_transformed_test.shape)"
   ]
  },
  {
   "cell_type": "code",
   "execution_count": 31,
   "id": "ce6cae4c",
   "metadata": {},
   "outputs": [
    {
     "data": {
      "text/plain": [
       "array([0.20217891, 0.11159519, 0.07707133, 0.06140471, 0.03151563,\n",
       "       0.02858113, 0.02388861, 0.02038822, 0.01847418, 0.0148199 ,\n",
       "       0.01336207, 0.0122761 , 0.01066023, 0.00893975, 0.00834061,\n",
       "       0.00804438, 0.00737739, 0.00728387, 0.00676537, 0.00625118,\n",
       "       0.00536595, 0.00531896, 0.00495392, 0.00473885, 0.00464536,\n",
       "       0.00413273, 0.00408894, 0.00390749, 0.00376111, 0.00358544,\n",
       "       0.00352035, 0.00344249, 0.00341683, 0.00314661, 0.00296342,\n",
       "       0.00287694, 0.00282175, 0.00274173, 0.00256063])"
      ]
     },
     "execution_count": 31,
     "metadata": {},
     "output_type": "execute_result"
    }
   ],
   "source": [
    "pca_components.explained_variance_ratio_"
   ]
  },
  {
   "cell_type": "markdown",
   "id": "7a7c1a39",
   "metadata": {},
   "source": [
    "### Bagging Classifier:"
   ]
  },
  {
   "cell_type": "code",
   "execution_count": 32,
   "id": "1a9c056c",
   "metadata": {},
   "outputs": [
    {
     "name": "stdout",
     "output_type": "stream",
     "text": [
      "accuracy of the model is: 58.48 %\n"
     ]
    }
   ],
   "source": [
    "bagging_clf = BaggingClassifier(\n",
    "    DecisionTreeClassifier(),\n",
    "    n_estimators=200,\n",
    "    max_samples=100,\n",
    "    bootstrap=True,\n",
    "    n_jobs=-1)\n",
    "\n",
    "# print accuracy\n",
    "bagging_clf_auc = print_accuracy(bagging_clf, X_transformed_train, X_transformed_test, y_train, y_test)"
   ]
  },
  {
   "cell_type": "code",
   "execution_count": 33,
   "id": "27f22586",
   "metadata": {},
   "outputs": [
    {
     "data": {
      "image/png": "[encoded data removed]",
      "text/plain": [
       "<Figure size 720x432 with 2 Axes>"
      ]
     },
     "metadata": {
      "needs_background": "light"
     },
     "output_type": "display_data"
    }
   ],
   "source": [
    "# plot the confusion matrix using the my_plot_confusion_matrix function\n",
    "my_plot_confusion_matrix(bagging_clf, X_transformed_test, y_test)"
   ]
  },
  {
   "cell_type": "markdown",
   "id": "16717c1b",
   "metadata": {},
   "source": [
    "### Pating Classifier:"
   ]
  },
  {
   "cell_type": "code",
   "execution_count": 34,
   "id": "4edb025e",
   "metadata": {},
   "outputs": [
    {
     "name": "stdout",
     "output_type": "stream",
     "text": [
      "accuracy of the model is: 58.42 %\n"
     ]
    }
   ],
   "source": [
    "pasting_clf = BaggingClassifier(\n",
    "    DecisionTreeClassifier(),\n",
    "    n_estimators=200,\n",
    "    max_samples=100,\n",
    "    bootstrap=False,\n",
    "    n_jobs=-1)\n",
    "\n",
    "# print accuracy\n",
    "pasting_clf_auc = print_accuracy(pasting_clf, X_transformed_train, X_transformed_test, y_train, y_test)"
   ]
  },
  {
   "cell_type": "code",
   "execution_count": 35,
   "id": "3a396b03",
   "metadata": {},
   "outputs": [
    {
     "data": {
      "image/png": "[encoded data removed]",
      "text/plain": [
       "<Figure size 720x432 with 2 Axes>"
      ]
     },
     "metadata": {
      "needs_background": "light"
     },
     "output_type": "display_data"
    }
   ],
   "source": [
    "# plot the confusion matrix using the my_plot_confusion_matrix function\n",
    "my_plot_confusion_matrix(pasting_clf, X_transformed_test, y_test)"
   ]
  },
  {
   "cell_type": "markdown",
   "id": "3f6748eb",
   "metadata": {},
   "source": [
    "### Random Forest Classifier:"
   ]
  },
  {
   "cell_type": "code",
   "execution_count": 36,
   "id": "2575c152",
   "metadata": {},
   "outputs": [
    {
     "name": "stdout",
     "output_type": "stream",
     "text": [
      "accuracy of the model is: 63.50 %\n"
     ]
    }
   ],
   "source": [
    "rnd_clf = RandomForestClassifier(\n",
    "    n_estimators=200,\n",
    "    max_features=5,\n",
    "    max_depth=16,\n",
    "    n_jobs=-1)\n",
    "\n",
    "# print accuracy\n",
    "rnd_clf_auc = print_accuracy(rnd_clf, X_transformed_train, X_transformed_test, y_train, y_test)"
   ]
  },
  {
   "cell_type": "code",
   "execution_count": 37,
   "id": "32e2d0b5",
   "metadata": {},
   "outputs": [
    {
     "data": {
      "image/png": "[encoded data removed]",
      "text/plain": [
       "<Figure size 720x432 with 2 Axes>"
      ]
     },
     "metadata": {
      "needs_background": "light"
     },
     "output_type": "display_data"
    }
   ],
   "source": [
    "# plot the confusion matrix using the my_plot_confusion_matrix function\n",
    "my_plot_confusion_matrix(rnd_clf, X_transformed_test, y_test)"
   ]
  },
  {
   "cell_type": "markdown",
   "id": "f4f24977",
   "metadata": {},
   "source": [
    "### AdaBoost Classifier:"
   ]
  },
  {
   "cell_type": "code",
   "execution_count": 38,
   "id": "2eef4038",
   "metadata": {},
   "outputs": [
    {
     "name": "stdout",
     "output_type": "stream",
     "text": [
      "accuracy of the model is: 59.76 %\n"
     ]
    }
   ],
   "source": [
    "adaboost_clf = AdaBoostClassifier(\n",
    "    DecisionTreeClassifier(max_depth=16),\n",
    "    n_estimators=200,\n",
    "    algorithm=\"SAMME.R\",\n",
    "    learning_rate=0.1) # 0.5 was 55.84 %\n",
    "\n",
    "# print accuracy\n",
    "adaboost_clf_auc = print_accuracy(adaboost_clf, X_transformed_train, X_transformed_test, y_train, y_test)"
   ]
  },
  {
   "cell_type": "code",
   "execution_count": 39,
   "id": "0f881e1a",
   "metadata": {},
   "outputs": [
    {
     "data": {
      "image/png": "[encoded data removed]",
      "text/plain": [
       "<Figure size 720x432 with 2 Axes>"
      ]
     },
     "metadata": {
      "needs_background": "light"
     },
     "output_type": "display_data"
    }
   ],
   "source": [
    "# plot the confusion matrix using the my_plot_confusion_matrix function\n",
    "my_plot_confusion_matrix(adaboost_clf, X_transformed_test, y_test)"
   ]
  },
  {
   "cell_type": "markdown",
   "id": "b0de1e4a",
   "metadata": {},
   "source": [
    "### Extreme Gradient Boostring Classifier(Binary):"
   ]
  },
  {
   "cell_type": "code",
   "execution_count": 40,
   "id": "af80d507",
   "metadata": {},
   "outputs": [
    {
     "name": "stdout",
     "output_type": "stream",
     "text": [
      "accuracy of the model is: 63.52 %\n"
     ]
    }
   ],
   "source": [
    "bin_xgb_model = xgb.XGBClassifier(\n",
    "    learning_rate=0.1,\n",
    "    n_estimators=200,\n",
    "    use_label_encoder=False,\n",
    "    objective=\"binary:logistic\",\n",
    "    eval_metric=\"auc\",\n",
    "    verbosity=1,\n",
    "    n_jobs=-1)\n",
    "\n",
    "# print accuracy\n",
    "bin_xgb_model_auc = print_accuracy(bin_xgb_model, X_transformed_train, X_transformed_test, y_train, y_test)"
   ]
  },
  {
   "cell_type": "code",
   "execution_count": 41,
   "id": "ef637f05",
   "metadata": {},
   "outputs": [
    {
     "data": {
      "image/png": "[encoded data removed]",
      "text/plain": [
       "<Figure size 720x432 with 2 Axes>"
      ]
     },
     "metadata": {
      "needs_background": "light"
     },
     "output_type": "display_data"
    }
   ],
   "source": [
    "# plot the confusion matrix using the my_plot_confusion_matrix function\n",
    "my_plot_confusion_matrix(bin_xgb_model, X_transformed_test, y_test)"
   ]
  },
  {
   "cell_type": "markdown",
   "id": "70ffa2e1",
   "metadata": {},
   "source": [
    "### Grid Search with Random Forest Classifier"
   ]
  },
  {
   "cell_type": "code",
   "execution_count": 42,
   "id": "6ca04b68",
   "metadata": {},
   "outputs": [
    {
     "data": {
      "text/plain": [
       "GridSearchCV(cv=5, estimator=RandomForestClassifier(), n_jobs=-1,\n",
       "             param_grid={'max_features': [5, 10, 20],\n",
       "                         'n_estimators': [50, 100, 200]},\n",
       "             scoring='accuracy')"
      ]
     },
     "execution_count": 42,
     "metadata": {},
     "output_type": "execute_result"
    }
   ],
   "source": [
    "rnd_clf = RandomForestClassifier().fit(X_transformed_train, y_train)\n",
    "\n",
    "param_values = {'n_estimators' : [50,100,200], 'max_features' : [5,10,20]}\n",
    "gs_rnd_clf = GridSearchCV(rnd_clf, param_grid=param_values, cv=5, scoring='accuracy', n_jobs=-1)\n",
    "\n",
    "gs_rnd_clf.fit(X_transformed_train, y_train)"
   ]
  },
  {
   "cell_type": "code",
   "execution_count": 43,
   "id": "63b09eaa",
   "metadata": {},
   "outputs": [
    {
     "name": "stdout",
     "output_type": "stream",
     "text": [
      "{'max_features': 5, 'n_estimators': 200}\n",
      "accuracy of the model is: 63.41 %\n"
     ]
    }
   ],
   "source": [
    "print(gs_rnd_clf.best_params_)\n",
    "print('accuracy of the model is: {} %'.format(\"%.2f\" % (gs_rnd_clf.best_score_ * 100)))\n",
    "gs_rnd_clf_auc = gs_rnd_clf.best_score_"
   ]
  },
  {
   "cell_type": "markdown",
   "id": "d7498cc8",
   "metadata": {},
   "source": [
    "### Grid Seach with Extreme Gradient Boostring Classifier:"
   ]
  },
  {
   "cell_type": "code",
   "execution_count": 44,
   "id": "7025849f",
   "metadata": {},
   "outputs": [
    {
     "name": "stdout",
     "output_type": "stream",
     "text": [
      "[16:51:02] WARNING: ..\\src\\learner.cc:541: \n",
      "Parameters: { max_features } might not be used.\n",
      "\n",
      "  This may not be accurate due to some parameters are only used in language bindings but\n",
      "  passed down to XGBoost core.  Or some parameters are not used but slip through this\n",
      "  verification. Please open an issue if you find above cases.\n",
      "\n",
      "\n"
     ]
    },
    {
     "data": {
      "text/plain": [
       "GridSearchCV(cv=5,\n",
       "             estimator=XGBClassifier(base_score=None, booster=None,\n",
       "                                     colsample_bylevel=None,\n",
       "                                     colsample_bynode=None,\n",
       "                                     colsample_bytree=None,\n",
       "                                     eval_metric='mlogloss', gamma=None,\n",
       "                                     gpu_id=None, importance_type='gain',\n",
       "                                     interaction_constraints=None,\n",
       "                                     learning_rate=0.1, max_delta_step=None,\n",
       "                                     max_depth=None, min_child_weight=None,\n",
       "                                     missing=nan, monotone_constraints=None,\n",
       "                                     n_estimators=100, n_jobs=-1,\n",
       "                                     num_parallel_tree=None, random_state=None,\n",
       "                                     reg_alpha=None, reg_lambda=None,\n",
       "                                     scale_pos_weight=None, subsample=None,\n",
       "                                     tree_method=None, use_label_encoder=False,\n",
       "                                     validate_parameters=None, verbosity=1),\n",
       "             n_jobs=-1,\n",
       "             param_grid={'max_depth': [2, 8, 16], 'max_features': [5, 10, 20],\n",
       "                         'n_estimators': [50, 100, 200]},\n",
       "             scoring='accuracy')"
      ]
     },
     "execution_count": 44,
     "metadata": {},
     "output_type": "execute_result"
    }
   ],
   "source": [
    "mul_xgb_model= xgb.XGBClassifier(\n",
    "    learning_rate=0.1,\n",
    "    use_label_encoder=False,\n",
    "    eval_metric=\"mlogloss\",\n",
    "    verbosity=1,\n",
    "    n_jobs=-1)\n",
    "\n",
    "param_values = {'n_estimators' : [50,100,200], 'max_features' : [5,10,20], 'max_depth' : [2,8,16]}\n",
    "gs_mul_xgb_model = GridSearchCV(mul_xgb_model, param_grid=param_values, cv=5, scoring='accuracy', n_jobs=-1)\n",
    "\n",
    "gs_mul_xgb_model.fit(X_transformed_train, y_train)"
   ]
  },
  {
   "cell_type": "code",
   "execution_count": 45,
   "id": "9423df87",
   "metadata": {},
   "outputs": [
    {
     "name": "stdout",
     "output_type": "stream",
     "text": [
      "{'max_depth': 16, 'max_features': 5, 'n_estimators': 200}\n",
      "accuracy of the model is: 64.28 %\n"
     ]
    }
   ],
   "source": [
    "print(gs_mul_xgb_model.best_params_)\n",
    "print('accuracy of the model is: {} %'.format(\"%.2f\" % (gs_mul_xgb_model.best_score_ * 100)))\n",
    "gs_mul_xgb_model_auc = gs_mul_xgb_model.best_score_"
   ]
  },
  {
   "cell_type": "code",
   "execution_count": null,
   "id": "20995b7a",
   "metadata": {},
   "outputs": [],
   "source": []
  }
 ],
 "metadata": {
  "kernelspec": {
   "display_name": "Python 3",
   "language": "python",
   "name": "python3"
  },
  "language_info": {
   "codemirror_mode": {
    "name": "ipython",
    "version": 3
   },
   "file_extension": ".py",
   "mimetype": "text/x-python",
   "name": "python",
   "nbconvert_exporter": "python",
   "pygments_lexer": "ipython3",
   "version": "3.8.10"
  }
 },
 "nbformat": 4,
 "nbformat_minor": 5
}
